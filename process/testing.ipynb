{
 "metadata": {
  "language_info": {
   "codemirror_mode": {
    "name": "ipython",
    "version": 3
   },
   "file_extension": ".py",
   "mimetype": "text/x-python",
   "name": "python",
   "nbconvert_exporter": "python",
   "pygments_lexer": "ipython3",
   "version": "3.8.5-final"
  },
  "orig_nbformat": 2,
  "kernelspec": {
   "name": "python385jvsc74a57bd0e5c5b001d25f6bd5a934e72859214ee7ab3c4dbc37217ec4b34140642e479000",
   "display_name": "Python 3.8.5 64-bit (conda)"
  }
 },
 "nbformat": 4,
 "nbformat_minor": 2,
 "cells": [
  {
   "cell_type": "code",
   "execution_count": 2,
   "metadata": {},
   "outputs": [],
   "source": [
    "\"\"\"\n",
    "loads and preprocesses the structured log data for anomoly prediction\n",
    "\"\"\"\n",
    "import numpy as np\n",
    "import pandas as pd\n",
    "import time\n",
    "import re\n",
    "from collections import OrderedDict\n",
    "from collections import Counter\n",
    "from scipy.special import expit\n",
    "\n",
    "\n",
    "def collect_event_ids(data_frame):\n",
    "    \"\"\"\n",
    "    turns input data_frame into a 2 columned dataframe\n",
    "    with columns: BlockId, EventSequence\n",
    "    where EventSequence is a list of the events that happened to the block\n",
    "    \"\"\"\n",
    "    data_dict = OrderedDict()\n",
    "    for _, row in data_frame.iterrows():\n",
    "        blk_id_list = re.findall(r\"(blk_-?\\d+)\", row[\"Content\"])\n",
    "        blk_id_set = set(blk_id_list)\n",
    "        for blk_id in blk_id_set:\n",
    "            if not blk_id in data_dict:\n",
    "                data_dict[blk_id] = []\n",
    "            data_dict[blk_id].append(row[\"EventId\"])\n",
    "    data_df = pd.DataFrame(\n",
    "        list(data_dict.items()), columns=[\"BlockId\", \"EventSequence\"]\n",
    "    )\n",
    "    return data_df"
   ]
  },
  {
   "cell_type": "code",
   "execution_count": 3,
   "metadata": {},
   "outputs": [
    {
     "output_type": "stream",
     "name": "stdout",
     "text": [
      "data loaded\n"
     ]
    }
   ],
   "source": [
    "\n",
    "\n",
    "# train = pd.read_csv(\"./train_subset.csv\") # for testing\n",
    "data1 = pd.read_csv(\"example_data/HDFS_100k.log_structured.csv\")\n",
    "lab1 = pd.read_csv(\"example_data/anomaly_label.csv\")\n",
    "print(\"data loaded\")\n",
    "\n",
    "# Convert to blockId and EventSequence dataframe\n",
    "events_df = collect_event_ids(data1).merge(lab1, on=\"BlockId\")\n",
    "\n",
    "# Convert label column to binary\n",
    "events_df[\"Label\"] = events_df[\"Label\"].apply(lambda x: 1 if x == \"Anomaly\" else 0)\n",
    "\n",
    "# select only events\n",
    "events = events_df[\"EventSequence\"].values"
   ]
  },
  {
   "cell_type": "code",
   "execution_count": 5,
   "metadata": {},
   "outputs": [
    {
     "output_type": "execute_result",
     "data": {
      "text/plain": [
       "   LineId   Date    Time  Pid Level                     Component  \\\n",
       "0       1  81109  203518  143  INFO      dfs.DataNode$DataXceiver   \n",
       "1       2  81109  203518   35  INFO              dfs.FSNamesystem   \n",
       "2       3  81109  203519  143  INFO      dfs.DataNode$DataXceiver   \n",
       "3       4  81109  203519  145  INFO      dfs.DataNode$DataXceiver   \n",
       "4       5  81109  203519  145  INFO  dfs.DataNode$PacketResponder   \n",
       "\n",
       "                                             Content EventId  \\\n",
       "0  Receiving block blk_-1608999687919862906 src: ...      E5   \n",
       "1  BLOCK* NameSystem.allocateBlock: /mnt/hadoop/m...     E22   \n",
       "2  Receiving block blk_-1608999687919862906 src: ...      E5   \n",
       "3  Receiving block blk_-1608999687919862906 src: ...      E5   \n",
       "4  PacketResponder 1 for block blk_-1608999687919...     E11   \n",
       "\n",
       "                                   EventTemplate  \n",
       "0       Receiving block <*> src: /<*> dest: /<*>  \n",
       "1            BLOCK* NameSystem.allocateBlock:<*>  \n",
       "2       Receiving block <*> src: /<*> dest: /<*>  \n",
       "3       Receiving block <*> src: /<*> dest: /<*>  \n",
       "4  PacketResponder <*> for block <*> terminating  "
      ],
      "text/html": "<div>\n<style scoped>\n    .dataframe tbody tr th:only-of-type {\n        vertical-align: middle;\n    }\n\n    .dataframe tbody tr th {\n        vertical-align: top;\n    }\n\n    .dataframe thead th {\n        text-align: right;\n    }\n</style>\n<table border=\"1\" class=\"dataframe\">\n  <thead>\n    <tr style=\"text-align: right;\">\n      <th></th>\n      <th>LineId</th>\n      <th>Date</th>\n      <th>Time</th>\n      <th>Pid</th>\n      <th>Level</th>\n      <th>Component</th>\n      <th>Content</th>\n      <th>EventId</th>\n      <th>EventTemplate</th>\n    </tr>\n  </thead>\n  <tbody>\n    <tr>\n      <th>0</th>\n      <td>1</td>\n      <td>81109</td>\n      <td>203518</td>\n      <td>143</td>\n      <td>INFO</td>\n      <td>dfs.DataNode$DataXceiver</td>\n      <td>Receiving block blk_-1608999687919862906 src: ...</td>\n      <td>E5</td>\n      <td>Receiving block &lt;*&gt; src: /&lt;*&gt; dest: /&lt;*&gt;</td>\n    </tr>\n    <tr>\n      <th>1</th>\n      <td>2</td>\n      <td>81109</td>\n      <td>203518</td>\n      <td>35</td>\n      <td>INFO</td>\n      <td>dfs.FSNamesystem</td>\n      <td>BLOCK* NameSystem.allocateBlock: /mnt/hadoop/m...</td>\n      <td>E22</td>\n      <td>BLOCK* NameSystem.allocateBlock:&lt;*&gt;</td>\n    </tr>\n    <tr>\n      <th>2</th>\n      <td>3</td>\n      <td>81109</td>\n      <td>203519</td>\n      <td>143</td>\n      <td>INFO</td>\n      <td>dfs.DataNode$DataXceiver</td>\n      <td>Receiving block blk_-1608999687919862906 src: ...</td>\n      <td>E5</td>\n      <td>Receiving block &lt;*&gt; src: /&lt;*&gt; dest: /&lt;*&gt;</td>\n    </tr>\n    <tr>\n      <th>3</th>\n      <td>4</td>\n      <td>81109</td>\n      <td>203519</td>\n      <td>145</td>\n      <td>INFO</td>\n      <td>dfs.DataNode$DataXceiver</td>\n      <td>Receiving block blk_-1608999687919862906 src: ...</td>\n      <td>E5</td>\n      <td>Receiving block &lt;*&gt; src: /&lt;*&gt; dest: /&lt;*&gt;</td>\n    </tr>\n    <tr>\n      <th>4</th>\n      <td>5</td>\n      <td>81109</td>\n      <td>203519</td>\n      <td>145</td>\n      <td>INFO</td>\n      <td>dfs.DataNode$PacketResponder</td>\n      <td>PacketResponder 1 for block blk_-1608999687919...</td>\n      <td>E11</td>\n      <td>PacketResponder &lt;*&gt; for block &lt;*&gt; terminating</td>\n    </tr>\n  </tbody>\n</table>\n</div>"
     },
     "metadata": {},
     "execution_count": 5
    }
   ],
   "source": [
    "data1.head()"
   ]
  },
  {
   "cell_type": "code",
   "execution_count": 8,
   "metadata": {},
   "outputs": [
    {
     "output_type": "execute_result",
     "data": {
      "text/plain": [
       "                    BlockId  \\\n",
       "0  blk_-1608999687919862906   \n",
       "1   blk_7503483334202473044   \n",
       "2  blk_-3544583377289625738   \n",
       "3  blk_-9073992586687739851   \n",
       "4   blk_7854771516489510256   \n",
       "\n",
       "                                       EventSequence  Label  \n",
       "0  [E5, E22, E5, E5, E11, E11, E9, E9, E11, E9, E...      0  \n",
       "1  [E5, E5, E22, E5, E11, E9, E11, E9, E11, E9, E...      0  \n",
       "2  [E5, E22, E5, E5, E11, E9, E11, E9, E11, E9, E...      1  \n",
       "3  [E5, E22, E5, E5, E11, E9, E11, E9, E11, E9, E...      0  \n",
       "4  [E5, E5, E22, E5, E11, E9, E11, E9, E11, E9, E...      0  "
      ],
      "text/html": "<div>\n<style scoped>\n    .dataframe tbody tr th:only-of-type {\n        vertical-align: middle;\n    }\n\n    .dataframe tbody tr th {\n        vertical-align: top;\n    }\n\n    .dataframe thead th {\n        text-align: right;\n    }\n</style>\n<table border=\"1\" class=\"dataframe\">\n  <thead>\n    <tr style=\"text-align: right;\">\n      <th></th>\n      <th>BlockId</th>\n      <th>EventSequence</th>\n      <th>Label</th>\n    </tr>\n  </thead>\n  <tbody>\n    <tr>\n      <th>0</th>\n      <td>blk_-1608999687919862906</td>\n      <td>[E5, E22, E5, E5, E11, E11, E9, E9, E11, E9, E...</td>\n      <td>0</td>\n    </tr>\n    <tr>\n      <th>1</th>\n      <td>blk_7503483334202473044</td>\n      <td>[E5, E5, E22, E5, E11, E9, E11, E9, E11, E9, E...</td>\n      <td>0</td>\n    </tr>\n    <tr>\n      <th>2</th>\n      <td>blk_-3544583377289625738</td>\n      <td>[E5, E22, E5, E5, E11, E9, E11, E9, E11, E9, E...</td>\n      <td>1</td>\n    </tr>\n    <tr>\n      <th>3</th>\n      <td>blk_-9073992586687739851</td>\n      <td>[E5, E22, E5, E5, E11, E9, E11, E9, E11, E9, E...</td>\n      <td>0</td>\n    </tr>\n    <tr>\n      <th>4</th>\n      <td>blk_7854771516489510256</td>\n      <td>[E5, E5, E22, E5, E11, E9, E11, E9, E11, E9, E...</td>\n      <td>0</td>\n    </tr>\n  </tbody>\n</table>\n</div>"
     },
     "metadata": {},
     "execution_count": 8
    }
   ],
   "source": [
    "events_df.head()"
   ]
  },
  {
   "cell_type": "code",
   "execution_count": 6,
   "metadata": {},
   "outputs": [
    {
     "output_type": "execute_result",
     "data": {
      "text/plain": [
       "array([list(['E5', 'E22', 'E5', 'E5', 'E11', 'E11', 'E9', 'E9', 'E11', 'E9', 'E26', 'E26', 'E26', 'E6', 'E5', 'E16', 'E6', 'E5', 'E18', 'E25', 'E26', 'E26', 'E3', 'E25', 'E6', 'E6', 'E5', 'E5', 'E16', 'E18', 'E26', 'E26', 'E5', 'E6', 'E5', 'E16', 'E3', 'E3', 'E3', 'E3', 'E3', 'E3', 'E3', 'E3', 'E3', 'E3', 'E18', 'E25', 'E6', 'E3', 'E3', 'E3', 'E3', 'E3', 'E3', 'E3', 'E3', 'E3', 'E3', 'E3', 'E3', 'E3', 'E3', 'E3', 'E26', 'E26', 'E3', 'E3', 'E3', 'E3', 'E3', 'E3', 'E3', 'E3', 'E3', 'E3', 'E3', 'E3', 'E3', 'E3', 'E3', 'E3', 'E3', 'E3', 'E3', 'E3', 'E3', 'E3', 'E3', 'E3', 'E3', 'E3', 'E3', 'E3', 'E3', 'E3', 'E3', 'E3', 'E3', 'E3', 'E3', 'E3', 'E3', 'E3', 'E3', 'E3', 'E3', 'E3', 'E3', 'E3', 'E3', 'E25', 'E3', 'E3', 'E3', 'E3', 'E3', 'E3', 'E3', 'E3', 'E3', 'E3', 'E3', 'E3', 'E3', 'E3', 'E3', 'E3', 'E3', 'E3', 'E3', 'E3', 'E3', 'E3', 'E3', 'E3', 'E3', 'E3', 'E3', 'E3', 'E3', 'E3', 'E3', 'E3', 'E3', 'E3', 'E3', 'E3', 'E3', 'E18', 'E6', 'E5', 'E3', 'E3', 'E3', 'E3', 'E3', 'E16', 'E3', 'E3', 'E3', 'E3', 'E26', 'E3', 'E3', 'E3', 'E3', 'E3', 'E3', 'E3', 'E3', 'E3', 'E3', 'E3', 'E3', 'E3', 'E3', 'E3', 'E3', 'E3', 'E3', 'E3', 'E3', 'E3', 'E3', 'E3', 'E3', 'E3', 'E3', 'E3', 'E3', 'E3', 'E3', 'E3', 'E3', 'E3', 'E3', 'E3', 'E3', 'E3', 'E3', 'E3', 'E3', 'E3', 'E3', 'E3', 'E3', 'E3', 'E3', 'E3', 'E3', 'E3', 'E3', 'E3', 'E3', 'E3', 'E3', 'E3', 'E3', 'E3', 'E3', 'E3', 'E3', 'E3', 'E3', 'E3', 'E3', 'E3', 'E3', 'E3', 'E3', 'E3', 'E3', 'E3', 'E3', 'E3', 'E3', 'E3', 'E3', 'E3', 'E3', 'E3', 'E3', 'E3', 'E3', 'E3', 'E3', 'E3', 'E3']),\n",
       "       list(['E5', 'E5', 'E22', 'E5', 'E11', 'E9', 'E11', 'E9', 'E11', 'E9', 'E26', 'E26', 'E26', 'E3', 'E2', 'E2']),\n",
       "       list(['E5', 'E22', 'E5', 'E5', 'E11', 'E9', 'E11', 'E9', 'E11', 'E9', 'E3', 'E26', 'E26', 'E26', 'E3', 'E3', 'E3', 'E3', 'E3', 'E3', 'E3', 'E3', 'E3', 'E3', 'E3', 'E3', 'E3', 'E3', 'E3', 'E3', 'E3', 'E3', 'E3', 'E3', 'E3', 'E3', 'E3', 'E3', 'E3', 'E3', 'E3', 'E3', 'E3', 'E3', 'E3', 'E3', 'E3', 'E3', 'E3', 'E3', 'E3', 'E3', 'E3', 'E3', 'E3', 'E3', 'E3', 'E3', 'E3', 'E3', 'E3', 'E3', 'E3', 'E3', 'E3', 'E3', 'E3', 'E3', 'E3', 'E3', 'E3', 'E3', 'E3', 'E3', 'E3', 'E3', 'E3', 'E3', 'E3', 'E3', 'E3', 'E3', 'E3', 'E3', 'E3', 'E3', 'E3', 'E3', 'E3', 'E3', 'E3', 'E3', 'E3', 'E3', 'E3', 'E3', 'E3', 'E3', 'E3', 'E3', 'E3', 'E3', 'E3', 'E3', 'E3', 'E3', 'E3', 'E3', 'E3', 'E3', 'E3', 'E3', 'E3', 'E3', 'E3', 'E3', 'E3', 'E3', 'E3', 'E3', 'E3', 'E3', 'E3', 'E3', 'E3', 'E3', 'E3', 'E3', 'E3', 'E3', 'E3', 'E3', 'E3', 'E3', 'E3', 'E3', 'E3', 'E3', 'E3', 'E3', 'E3', 'E3', 'E3', 'E3', 'E3', 'E3', 'E3', 'E3', 'E3', 'E3', 'E3', 'E3', 'E3', 'E3', 'E3', 'E3', 'E3', 'E3', 'E3', 'E3', 'E3', 'E3', 'E3', 'E3', 'E3', 'E3', 'E3', 'E3', 'E3', 'E3', 'E3', 'E3', 'E3', 'E3', 'E3', 'E3', 'E3', 'E3', 'E3', 'E3', 'E3', 'E3', 'E3', 'E3', 'E3', 'E3', 'E3', 'E3', 'E3', 'E3', 'E3', 'E3', 'E3', 'E3', 'E3', 'E3', 'E3', 'E3', 'E3', 'E3', 'E3', 'E3', 'E3', 'E3', 'E3', 'E3', 'E3', 'E3', 'E3', 'E3', 'E3', 'E3', 'E3', 'E3', 'E3', 'E3']),\n",
       "       list(['E5', 'E22', 'E5', 'E5', 'E11', 'E9', 'E11', 'E9', 'E11', 'E9', 'E26', 'E26', 'E26', 'E2', 'E2', 'E2']),\n",
       "       list(['E5', 'E5', 'E22', 'E5', 'E11', 'E9', 'E11', 'E9', 'E11', 'E9', 'E26', 'E26', 'E26', 'E2', 'E2', 'E2'])],\n",
       "      dtype=object)"
      ]
     },
     "metadata": {},
     "execution_count": 6
    }
   ],
   "source": [
    "events[:5]"
   ]
  },
  {
   "cell_type": "code",
   "execution_count": 7,
   "metadata": {},
   "outputs": [],
   "source": [
    "events1 = events.copy()"
   ]
  },
  {
   "cell_type": "code",
   "execution_count": 8,
   "metadata": {
    "tags": []
   },
   "outputs": [],
   "source": [
    "unique_events = set()\n",
    "for i in events1:\n",
    "    unique_events.update(i)"
   ]
  },
  {
   "cell_type": "code",
   "execution_count": 9,
   "metadata": {},
   "outputs": [
    {
     "output_type": "execute_result",
     "data": {
      "text/plain": [
       "{'E10',\n",
       " 'E11',\n",
       " 'E13',\n",
       " 'E14',\n",
       " 'E15',\n",
       " 'E16',\n",
       " 'E18',\n",
       " 'E2',\n",
       " 'E21',\n",
       " 'E22',\n",
       " 'E25',\n",
       " 'E26',\n",
       " 'E27',\n",
       " 'E3',\n",
       " 'E5',\n",
       " 'E6',\n",
       " 'E7',\n",
       " 'E8',\n",
       " 'E9'}"
      ]
     },
     "metadata": {},
     "execution_count": 9
    }
   ],
   "source": [
    "unique_events"
   ]
  },
  {
   "cell_type": "code",
   "execution_count": 10,
   "metadata": {
    "tags": [
     "outputPrepend"
    ]
   },
   "outputs": [
    {
     "output_type": "stream",
     "name": "stdout",
     "text": [
      "6', 'E26', 'E11', 'E9', 'E11', 'E9', 'E11', 'E9']\n",
      "['E22', 'E5', 'E5', 'E5', 'E26', 'E26', 'E26', 'E11', 'E9', 'E11', 'E9', 'E11', 'E9']\n",
      "['E22', 'E5', 'E5', 'E5', 'E26', 'E26', 'E26', 'E11', 'E9', 'E11', 'E9', 'E11', 'E9']\n",
      "['E22', 'E5', 'E5', 'E5', 'E26', 'E26', 'E26', 'E11', 'E9', 'E11', 'E9', 'E11', 'E9']\n",
      "['E22', 'E5', 'E5', 'E5', 'E26', 'E26', 'E26', 'E11', 'E9', 'E11', 'E9', 'E11', 'E9']\n",
      "['E22', 'E5', 'E5', 'E5', 'E26', 'E26', 'E26', 'E11', 'E9', 'E11', 'E9', 'E11', 'E9']\n",
      "['E22', 'E5', 'E5', 'E5', 'E11', 'E9', 'E26', 'E26', 'E26', 'E11', 'E9', 'E11', 'E9']\n",
      "['E22', 'E5', 'E5', 'E5', 'E26', 'E26', 'E11', 'E9', 'E11', 'E9', 'E11', 'E9', 'E26']\n",
      "['E22', 'E5', 'E5', 'E5', 'E26', 'E26', 'E26', 'E11', 'E9', 'E11', 'E9', 'E11', 'E9']\n",
      "['E22', 'E5', 'E5', 'E5', 'E26', 'E26', 'E26', 'E11', 'E9', 'E11', 'E9', 'E11', 'E9']\n",
      "['E22', 'E5', 'E5', 'E5', 'E26', 'E26', 'E26', 'E11', 'E9', 'E11', 'E9', 'E11', 'E9']\n",
      "['E22', 'E5', 'E5', 'E5', 'E26', 'E26', 'E26', 'E11', 'E9', 'E11', 'E9', 'E11', 'E9']\n",
      "['E22', 'E5', 'E5', 'E5', 'E26', 'E11', 'E9', 'E11', 'E9', 'E26', 'E11', 'E9', 'E26']\n",
      "['E22', 'E5', 'E5', 'E5', 'E26', 'E26', 'E26', 'E11', 'E9', 'E11', 'E9', 'E11', 'E9']\n",
      "['E22', 'E5', 'E5', 'E5', 'E26', 'E26', 'E26', 'E11', 'E9', 'E11', 'E9', 'E11', 'E9']\n",
      "['E22', 'E5', 'E5', 'E5', 'E26', 'E26', 'E26', 'E11', 'E11', 'E9', 'E9', 'E11', 'E9']\n",
      "['E22', 'E5', 'E5', 'E5', 'E26', 'E26', 'E26', 'E11', 'E9', 'E11', 'E9', 'E11', 'E9']\n",
      "['E22', 'E5', 'E5', 'E5', 'E26', 'E26', 'E26', 'E11', 'E9', 'E11', 'E9', 'E11', 'E9']\n",
      "['E22', 'E5', 'E5', 'E5', 'E26', 'E26', 'E26', 'E11', 'E9', 'E11', 'E9', 'E11', 'E9']\n",
      "['E22', 'E5', 'E5', 'E5', 'E26', 'E11', 'E9', 'E26', 'E9', 'E26', 'E11', 'E9', 'E11']\n",
      "['E22', 'E5', 'E5', 'E5', 'E26', 'E9', 'E26', 'E11', 'E9', 'E11', 'E11', 'E9', 'E26']\n",
      "['E22', 'E5', 'E5', 'E5', 'E26', 'E11', 'E9', 'E26', 'E26', 'E11', 'E9', 'E11', 'E9']\n",
      "['E22', 'E5', 'E5', 'E5', 'E26', 'E26', 'E26', 'E11', 'E9', 'E11', 'E9', 'E11', 'E9']\n",
      "['E22', 'E5', 'E5', 'E5', 'E26', 'E11', 'E9', 'E9', 'E26', 'E26', 'E11', 'E9', 'E11']\n",
      "['E22', 'E5', 'E5', 'E5', 'E26', 'E26', 'E26', 'E11', 'E9', 'E11', 'E9', 'E11', 'E9']\n",
      "['E22', 'E5', 'E5', 'E5', 'E26', 'E26', 'E26', 'E11', 'E11', 'E9', 'E9', 'E11', 'E9']\n",
      "['E22', 'E5', 'E5', 'E5', 'E26', 'E11', 'E9', 'E26', 'E11', 'E9', 'E11', 'E9', 'E26', 'E2']\n",
      "['E22', 'E5', 'E5', 'E5', 'E26', 'E26', 'E26', 'E11', 'E9', 'E11', 'E9', 'E11', 'E9']\n",
      "['E22', 'E5', 'E5', 'E5', 'E26', 'E26', 'E26', 'E11', 'E9', 'E11', 'E9', 'E11', 'E9']\n",
      "['E22', 'E5', 'E5', 'E5', 'E26', 'E26', 'E26', 'E11', 'E9', 'E11', 'E9', 'E11', 'E9']\n",
      "['E22', 'E5', 'E5', 'E5', 'E26', 'E26', 'E26', 'E11', 'E9', 'E11', 'E9', 'E11', 'E9']\n",
      "['E22', 'E5', 'E5', 'E5', 'E26', 'E26', 'E26', 'E11', 'E9', 'E11', 'E9', 'E11', 'E9']\n",
      "['E22', 'E5', 'E5', 'E5', 'E26', 'E26', 'E11', 'E9', 'E11', 'E9', 'E26', 'E11', 'E9']\n",
      "['E22', 'E5', 'E5', 'E5', 'E26', 'E26', 'E11', 'E9', 'E11', 'E9', 'E26', 'E11', 'E9']\n",
      "['E22', 'E5', 'E5', 'E5', 'E26', 'E26', 'E11', 'E9', 'E11', 'E9', 'E26', 'E11', 'E9']\n",
      "['E22', 'E5', 'E5', 'E5', 'E26', 'E26', 'E26', 'E11', 'E9', 'E11', 'E9', 'E11', 'E9']\n",
      "['E22', 'E5', 'E5', 'E5', 'E26', 'E11', 'E9', 'E11', 'E9', 'E11', 'E9', 'E26', 'E26']\n",
      "['E22', 'E5', 'E5', 'E5', 'E26', 'E26', 'E26', 'E11', 'E9', 'E11', 'E9', 'E11', 'E9']\n",
      "['E22', 'E5', 'E5', 'E5', 'E26', 'E11', 'E9', 'E11', 'E9', 'E26', 'E26', 'E11', 'E9']\n",
      "['E22', 'E5', 'E5', 'E5', 'E26', 'E26', 'E11', 'E9', 'E11', 'E9', 'E11', 'E9', 'E26', 'E27']\n",
      "['E22', 'E5', 'E5', 'E5', 'E26', 'E11', 'E9', 'E26', 'E26', 'E11', 'E9', 'E11', 'E9']\n",
      "['E22', 'E5', 'E5', 'E5', 'E26', 'E26', 'E26', 'E11', 'E9', 'E11', 'E9', 'E11', 'E9']\n",
      "['E22', 'E5', 'E5', 'E5', 'E26', 'E26', 'E26', 'E11', 'E9', 'E11', 'E9', 'E11', 'E9']\n",
      "['E22', 'E5', 'E5', 'E5', 'E26', 'E26', 'E11', 'E9', 'E11', 'E9', 'E11', 'E9', 'E26']\n",
      "['E22', 'E5', 'E5', 'E5', 'E26', 'E26', 'E11', 'E9', 'E26', 'E11', 'E9', 'E11', 'E9']\n",
      "['E22', 'E5', 'E5', 'E5', 'E26', 'E26', 'E26', 'E11', 'E9', 'E11', 'E9', 'E11', 'E9']\n",
      "['E22', 'E5']\n",
      "['E22', 'E5', 'E5', 'E5', 'E26', 'E26', 'E26', 'E11', 'E9', 'E11', 'E9', 'E11', 'E9']\n",
      "['E22', 'E5', 'E5', 'E5', 'E11', 'E9', 'E26', 'E26', 'E26', 'E11', 'E9', 'E11', 'E9']\n",
      "['E22', 'E5', 'E5', 'E5', 'E26', 'E26', 'E11', 'E9', 'E11', 'E9', 'E11', 'E9', 'E26']\n",
      "['E22', 'E5', 'E5', 'E5', 'E26', 'E26', 'E26', 'E11', 'E9', 'E11', 'E9', 'E11', 'E9']\n",
      "['E22', 'E5', 'E5', 'E5', 'E26', 'E26', 'E26', 'E11', 'E9', 'E11', 'E9', 'E11', 'E9']\n",
      "['E22', 'E5', 'E5', 'E5', 'E26', 'E11', 'E9', 'E11', 'E9', 'E26', 'E26', 'E11', 'E9']\n",
      "['E22', 'E5', 'E5', 'E5', 'E26', 'E26', 'E26', 'E11', 'E9', 'E11', 'E9', 'E11', 'E9']\n",
      "['E22', 'E5', 'E5', 'E5', 'E26', 'E26', 'E11', 'E9', 'E11', 'E9', 'E11', 'E9', 'E26']\n",
      "['E22', 'E5', 'E5', 'E5', 'E26', 'E11', 'E9', 'E26', 'E26', 'E11', 'E9', 'E11', 'E9']\n",
      "['E22', 'E5', 'E5', 'E5', 'E26', 'E11', 'E9', 'E26', 'E26', 'E11', 'E9', 'E11', 'E9']\n",
      "['E22', 'E5', 'E5', 'E5', 'E26', 'E26', 'E26', 'E11', 'E9', 'E11', 'E9', 'E11', 'E9']\n",
      "['E22', 'E5', 'E5', 'E5', 'E26', 'E26', 'E26', 'E11', 'E9', 'E11', 'E9', 'E11', 'E9']\n",
      "['E22', 'E5', 'E5', 'E5', 'E26', 'E26', 'E26', 'E11', 'E9', 'E11', 'E9', 'E11', 'E9']\n",
      "['E22', 'E5', 'E5', 'E5', 'E26', 'E26', 'E26', 'E11', 'E9', 'E11', 'E9', 'E11', 'E9']\n",
      "['E22', 'E5', 'E5', 'E5', 'E26', 'E26', 'E26', 'E11', 'E9', 'E11', 'E9', 'E11', 'E9']\n",
      "['E22', 'E5', 'E5', 'E5', 'E26', 'E26', 'E26', 'E11', 'E9', 'E11', 'E9', 'E11', 'E9']\n",
      "['E22', 'E5', 'E5', 'E5', 'E26', 'E26', 'E11', 'E9', 'E11', 'E9', 'E11', 'E9', 'E26']\n",
      "['E22', 'E5', 'E5', 'E5', 'E26', 'E26', 'E26', 'E11', 'E9', 'E11', 'E9', 'E11', 'E9']\n",
      "['E22', 'E5', 'E5', 'E5', 'E26', 'E26', 'E26', 'E11', 'E9', 'E11', 'E9', 'E11', 'E9']\n",
      "['E22', 'E5', 'E5', 'E5', 'E26', 'E26', 'E11', 'E9', 'E11', 'E9', 'E26', 'E11', 'E9']\n",
      "['E22', 'E5', 'E5', 'E5', 'E26', 'E26', 'E11', 'E9', 'E11', 'E9', 'E11', 'E9', 'E26']\n",
      "['E22', 'E5', 'E5', 'E5', 'E26', 'E26', 'E26', 'E11', 'E9', 'E11', 'E9', 'E11', 'E9']\n",
      "['E22', 'E5', 'E5', 'E5', 'E26', 'E26', 'E26', 'E11', 'E9', 'E11', 'E9', 'E11', 'E9']\n",
      "['E22', 'E5', 'E5', 'E5', 'E26', 'E26', 'E26', 'E11', 'E9', 'E11', 'E9', 'E11', 'E9', 'E2']\n",
      "['E22', 'E5', 'E5', 'E5', 'E26', 'E26', 'E26', 'E11', 'E9', 'E11', 'E9', 'E11', 'E9']\n",
      "['E22', 'E5', 'E5', 'E5', 'E26', 'E26', 'E26', 'E11', 'E9', 'E11', 'E9', 'E11', 'E9']\n",
      "['E22', 'E5', 'E5', 'E5', 'E26', 'E26', 'E26', 'E11', 'E9', 'E11', 'E9', 'E11', 'E9']\n",
      "['E22', 'E5', 'E5', 'E5', 'E26', 'E26', 'E11', 'E9', 'E11', 'E9', 'E11', 'E9', 'E26']\n",
      "['E22', 'E5', 'E5', 'E5', 'E26', 'E26', 'E11', 'E9', 'E11', 'E9', 'E11', 'E9', 'E26']\n",
      "['E22', 'E5', 'E5', 'E5', 'E11', 'E9', 'E11', 'E9', 'E26', 'E26', 'E26', 'E11', 'E9']\n",
      "['E22', 'E5', 'E5', 'E5', 'E26', 'E11', 'E9', 'E11', 'E9', 'E26', 'E26', 'E11', 'E9']\n",
      "['E22', 'E5', 'E5', 'E5', 'E26', 'E26', 'E11', 'E9', 'E11', 'E9', 'E26', 'E11', 'E9']\n",
      "['E22', 'E5', 'E5', 'E5', 'E26', 'E11', 'E9', 'E26', 'E26', 'E11', 'E9', 'E11', 'E9']\n",
      "['E22', 'E5', 'E5', 'E5', 'E26', 'E26', 'E26', 'E11', 'E9', 'E11', 'E9', 'E11', 'E9']\n",
      "['E22', 'E5', 'E5', 'E5', 'E26', 'E26', 'E26', 'E11', 'E9', 'E11', 'E9', 'E11', 'E9']\n",
      "['E22', 'E5', 'E5', 'E5', 'E26', 'E26', 'E26', 'E11', 'E9', 'E11', 'E9', 'E11', 'E9']\n",
      "['E22', 'E5', 'E5', 'E5', 'E26', 'E26', 'E26', 'E11', 'E9', 'E11', 'E9', 'E11', 'E9']\n",
      "['E22', 'E5', 'E5', 'E5', 'E26', 'E26', 'E26', 'E11', 'E9', 'E11', 'E11', 'E9', 'E9']\n",
      "['E22', 'E5', 'E5', 'E5', 'E26', 'E26', 'E26', 'E11', 'E9', 'E11', 'E9', 'E11', 'E9']\n",
      "['E22', 'E5', 'E5', 'E5', 'E11', 'E9', 'E26', 'E26', 'E26', 'E11', 'E9', 'E11', 'E9']\n",
      "['E22', 'E5', 'E5', 'E5', 'E26', 'E26', 'E11', 'E9', 'E11', 'E9', 'E26', 'E11', 'E9']\n",
      "['E22', 'E5', 'E5', 'E5', 'E26', 'E11', 'E9', 'E26', 'E26', 'E11', 'E9', 'E11', 'E9']\n",
      "['E22', 'E5', 'E5', 'E5', 'E26', 'E26', 'E26', 'E11', 'E9', 'E11', 'E9', 'E11', 'E9']\n",
      "['E22', 'E5', 'E5', 'E5', 'E26', 'E26', 'E11', 'E9', 'E11', 'E9', 'E11', 'E9', 'E26']\n",
      "['E22', 'E5', 'E5', 'E5', 'E26', 'E26', 'E26', 'E11', 'E9', 'E11', 'E9', 'E11', 'E9']\n",
      "['E22', 'E5', 'E5', 'E5', 'E26', 'E26', 'E11', 'E9', 'E11', 'E9', 'E26', 'E11', 'E9']\n",
      "['E22', 'E5', 'E5', 'E5', 'E26', 'E26', 'E11', 'E9', 'E11', 'E9', 'E11', 'E9', 'E26']\n",
      "['E22', 'E5', 'E5', 'E5', 'E26', 'E11', 'E9', 'E26', 'E26', 'E11', 'E9', 'E11', 'E9']\n",
      "['E22', 'E5', 'E5', 'E5', 'E26', 'E26', 'E26', 'E11', 'E9', 'E11', 'E9', 'E11', 'E9']\n",
      "['E22', 'E5', 'E5', 'E5', 'E11', 'E10', 'E14', 'E10', 'E14', 'E7', 'E7', 'E11', 'E14', 'E7', 'E8', 'E11', 'E15', 'E5', 'E15', 'E5', 'E26', 'E11', 'E9', 'E9', 'E26', 'E11', 'E25', 'E18', 'E5', 'E26', 'E16', 'E6']\n",
      "['E22', 'E5', 'E5', 'E5', 'E26', 'E26', 'E11', 'E9', 'E11', 'E9', 'E11', 'E9', 'E26']\n",
      "['E22', 'E5', 'E5', 'E5', 'E26', 'E26', 'E26', 'E11', 'E9', 'E11', 'E9', 'E11', 'E9']\n",
      "['E22', 'E5', 'E5', 'E5', 'E26', 'E26', 'E26', 'E11', 'E9', 'E11', 'E9', 'E11', 'E9']\n",
      "['E22', 'E5', 'E5', 'E5', 'E26', 'E26', 'E26', 'E11', 'E9', 'E11', 'E9', 'E11', 'E9']\n",
      "['E22', 'E5', 'E5', 'E5', 'E26', 'E26', 'E26', 'E11', 'E9', 'E11', 'E9', 'E11', 'E9']\n",
      "['E22', 'E5', 'E5', 'E5', 'E26', 'E26', 'E11', 'E9', 'E11', 'E11', 'E9', 'E9', 'E26']\n",
      "['E22', 'E5', 'E5', 'E5', 'E26', 'E26', 'E26', 'E11', 'E9', 'E11', 'E9', 'E11', 'E9']\n",
      "['E22', 'E5', 'E5', 'E5', 'E26', 'E26', 'E26', 'E11', 'E9', 'E11', 'E9', 'E11', 'E9']\n",
      "['E22', 'E5', 'E5', 'E5', 'E26', 'E26', 'E26', 'E11', 'E9', 'E11', 'E9', 'E11', 'E9']\n",
      "['E22', 'E5', 'E5', 'E5', 'E26', 'E26', 'E26', 'E11', 'E11', 'E9', 'E9', 'E11', 'E9']\n",
      "['E22', 'E5', 'E5', 'E5', 'E26', 'E26', 'E26', 'E11', 'E9', 'E11', 'E9', 'E11', 'E9']\n",
      "['E22', 'E5', 'E5', 'E5', 'E26', 'E26', 'E26', 'E11', 'E11', 'E9', 'E9', 'E11', 'E9']\n",
      "['E22', 'E5', 'E5', 'E5', 'E26', 'E26', 'E26', 'E11', 'E9', 'E11', 'E9', 'E11', 'E9']\n",
      "['E22', 'E5', 'E5', 'E5', 'E11', 'E9', 'E26', 'E26', 'E26', 'E11', 'E9', 'E11', 'E9']\n",
      "['E22', 'E5', 'E5', 'E5', 'E26', 'E11', 'E9', 'E26', 'E26', 'E11', 'E9', 'E11', 'E9']\n",
      "['E22', 'E5', 'E5', 'E5', 'E26', 'E26', 'E26', 'E11', 'E9', 'E11', 'E11', 'E9', 'E9']\n",
      "['E22', 'E5', 'E5', 'E5', 'E26', 'E26', 'E11', 'E9', 'E11', 'E9', 'E11', 'E9', 'E26']\n",
      "['E22', 'E5', 'E5', 'E5', 'E26', 'E26', 'E26', 'E11', 'E9', 'E11', 'E9', 'E11', 'E9']\n",
      "['E22', 'E5', 'E5', 'E5', 'E26', 'E26', 'E11', 'E9', 'E9', 'E26', 'E11', 'E9', 'E11']\n",
      "['E22', 'E5', 'E5', 'E5', 'E26', 'E26', 'E26', 'E11', 'E9', 'E11', 'E9', 'E11', 'E9']\n",
      "['E22', 'E5', 'E5', 'E5', 'E26', 'E26', 'E26', 'E11', 'E9', 'E11', 'E9', 'E11', 'E9']\n",
      "['E22', 'E5', 'E5', 'E5', 'E26', 'E26', 'E26', 'E11', 'E9', 'E11', 'E9', 'E11', 'E9']\n",
      "['E22', 'E5', 'E5', 'E5', 'E26', 'E26', 'E26', 'E11', 'E9', 'E11', 'E9', 'E11', 'E9']\n",
      "['E22', 'E5', 'E5', 'E5', 'E26', 'E26', 'E26', 'E11', 'E9', 'E11', 'E9', 'E11', 'E9']\n",
      "['E22', 'E5', 'E5', 'E5', 'E26', 'E26', 'E26', 'E11', 'E9', 'E11', 'E9', 'E11', 'E9']\n",
      "['E22', 'E5', 'E5', 'E5', 'E26', 'E26', 'E26', 'E11', 'E11', 'E9', 'E9', 'E11', 'E9']\n",
      "['E22', 'E5', 'E5', 'E5', 'E26', 'E11', 'E9', 'E26', 'E26', 'E11', 'E9', 'E11', 'E9']\n",
      "['E22', 'E5', 'E5', 'E5', 'E26', 'E26', 'E26', 'E11', 'E9', 'E11', 'E9', 'E11', 'E9']\n",
      "['E22', 'E5', 'E5', 'E5', 'E26', 'E26', 'E26', 'E11', 'E9', 'E11', 'E9', 'E11', 'E9']\n",
      "['E22', 'E5', 'E5', 'E5', 'E26', 'E26', 'E26', 'E11', 'E9', 'E11', 'E9', 'E11', 'E9']\n",
      "['E22', 'E5', 'E5', 'E5', 'E26', 'E26', 'E26', 'E11', 'E9', 'E11', 'E9', 'E11', 'E9']\n",
      "['E22', 'E5', 'E5', 'E5', 'E26', 'E26', 'E11', 'E9', 'E11', 'E9', 'E26', 'E11', 'E9']\n",
      "['E22', 'E5', 'E5', 'E5', 'E26', 'E26', 'E26', 'E11', 'E9', 'E11', 'E9', 'E11', 'E9']\n",
      "['E22', 'E5', 'E5', 'E5', 'E26', 'E11', 'E9', 'E26', 'E26', 'E11', 'E9', 'E11', 'E9']\n",
      "['E22', 'E5', 'E5', 'E5', 'E26', 'E26', 'E11', 'E9', 'E11', 'E9', 'E26', 'E11', 'E9']\n",
      "['E22', 'E5', 'E5', 'E5', 'E26', 'E26', 'E26', 'E11', 'E9', 'E11', 'E9', 'E11', 'E9']\n",
      "['E22', 'E5', 'E5', 'E5', 'E26', 'E26', 'E26', 'E9', 'E11', 'E9', 'E11', 'E9', 'E11']\n",
      "['E22', 'E5', 'E5', 'E5', 'E26', 'E26', 'E26', 'E11', 'E9', 'E11', 'E9', 'E11', 'E9']\n",
      "['E22', 'E5', 'E5', 'E5', 'E26', 'E26', 'E26', 'E11', 'E9', 'E11', 'E9', 'E11', 'E9']\n",
      "['E22', 'E5', 'E5', 'E5', 'E26', 'E26', 'E26', 'E11', 'E9', 'E11', 'E9', 'E11', 'E9']\n",
      "['E22', 'E5', 'E5', 'E5', 'E11', 'E9', 'E26', 'E26', 'E26', 'E11', 'E9', 'E11', 'E9']\n",
      "['E22', 'E5', 'E5', 'E5', 'E26', 'E26', 'E11', 'E9', 'E11', 'E9', 'E26', 'E11', 'E9']\n",
      "['E22', 'E5', 'E5', 'E5', 'E26', 'E26', 'E26', 'E11', 'E11', 'E9', 'E9', 'E11', 'E9']\n",
      "['E22', 'E5', 'E5', 'E5', 'E26', 'E26', 'E11', 'E9', 'E26', 'E11', 'E9', 'E11', 'E9', 'E2']\n",
      "['E22', 'E5', 'E5', 'E5', 'E26', 'E26', 'E26', 'E11', 'E9', 'E11', 'E9', 'E11', 'E9']\n",
      "['E22', 'E5', 'E5', 'E5', 'E26', 'E26', 'E11', 'E9', 'E11', 'E9', 'E11', 'E9', 'E26']\n",
      "['E22', 'E5', 'E5', 'E5', 'E26', 'E26', 'E11', 'E9', 'E26', 'E11', 'E9', 'E11', 'E9']\n",
      "['E22', 'E5', 'E5', 'E5', 'E26', 'E26', 'E11', 'E9', 'E11', 'E9', 'E11', 'E9', 'E26']\n",
      "['E22', 'E5', 'E5', 'E5', 'E26', 'E26', 'E26', 'E11', 'E9', 'E11', 'E9', 'E11', 'E9']\n",
      "['E22', 'E5', 'E5', 'E5', 'E26', 'E11', 'E9', 'E11', 'E9', 'E26', 'E26', 'E11', 'E9']\n",
      "['E22', 'E5', 'E5', 'E5', 'E26', 'E26', 'E26', 'E11', 'E9', 'E11', 'E9', 'E11', 'E9']\n",
      "['E22', 'E5', 'E5', 'E5', 'E26', 'E26', 'E26', 'E11', 'E9', 'E11', 'E9', 'E11', 'E9']\n",
      "['E22', 'E5', 'E5', 'E5', 'E26', 'E26', 'E26', 'E11', 'E9', 'E11', 'E9', 'E11', 'E9']\n",
      "['E22', 'E5', 'E5', 'E5', 'E11', 'E9', 'E26', 'E26', 'E26', 'E11', 'E9', 'E11', 'E9']\n",
      "['E22', 'E5', 'E5', 'E5', 'E26', 'E26', 'E11', 'E9', 'E11', 'E9', 'E26', 'E11', 'E9']\n",
      "['E22', 'E5', 'E5', 'E5', 'E26', 'E26', 'E11', 'E9', 'E9', 'E11', 'E9', 'E26', 'E11']\n",
      "['E22', 'E5', 'E5', 'E5', 'E26', 'E26', 'E26', 'E11', 'E9', 'E11', 'E9', 'E11', 'E9']\n",
      "['E22', 'E5', 'E5', 'E5', 'E26', 'E9', 'E11', 'E9', 'E26', 'E26', 'E11', 'E11', 'E9']\n",
      "['E22', 'E5', 'E5', 'E5', 'E26', 'E26', 'E26', 'E11', 'E9', 'E11', 'E9', 'E11', 'E9']\n",
      "['E22', 'E5', 'E5', 'E5', 'E26', 'E26', 'E26', 'E11', 'E9', 'E11', 'E9', 'E11', 'E9']\n",
      "['E22', 'E5', 'E5', 'E5', 'E26', 'E26', 'E26', 'E11', 'E11', 'E9', 'E9', 'E11', 'E9']\n",
      "['E22', 'E5', 'E5', 'E5', 'E26', 'E26', 'E11', 'E9', 'E11', 'E9', 'E26', 'E11', 'E9']\n",
      "['E22', 'E5', 'E5', 'E5', 'E26', 'E26', 'E26', 'E11', 'E9', 'E11', 'E9', 'E11', 'E9']\n",
      "['E22', 'E5', 'E5', 'E5', 'E26', 'E26', 'E26', 'E11', 'E9', 'E11', 'E9', 'E11', 'E9']\n",
      "['E22', 'E5', 'E5', 'E5', 'E26', 'E26', 'E26', 'E11', 'E9', 'E11', 'E9', 'E11', 'E9']\n",
      "['E22', 'E5', 'E5', 'E5', 'E26', 'E26', 'E26', 'E11', 'E9', 'E11', 'E9', 'E11', 'E9']\n",
      "['E22', 'E5', 'E5', 'E5', 'E26', 'E26', 'E26', 'E11', 'E9', 'E11', 'E9', 'E11', 'E9']\n",
      "['E22', 'E5', 'E5', 'E5', 'E26', 'E26', 'E26', 'E11', 'E9', 'E11', 'E9', 'E11', 'E9']\n",
      "['E22', 'E5', 'E5', 'E5', 'E26', 'E11', 'E9', 'E11', 'E9', 'E26', 'E26', 'E11', 'E9']\n",
      "['E22', 'E5', 'E5', 'E5', 'E26', 'E26', 'E26', 'E11', 'E9', 'E11', 'E9', 'E11', 'E9']\n",
      "['E22', 'E5', 'E5', 'E5', 'E26', 'E26', 'E26', 'E11', 'E9', 'E11', 'E9', 'E11', 'E9']\n",
      "['E22', 'E5', 'E5', 'E5', 'E26', 'E11', 'E9', 'E11', 'E9', 'E26', 'E26', 'E11', 'E9']\n",
      "['E22', 'E5', 'E5', 'E5', 'E26', 'E26', 'E26', 'E11', 'E9', 'E11', 'E9', 'E11', 'E9', 'E2']\n",
      "['E22', 'E5', 'E5', 'E5', 'E26', 'E26', 'E26', 'E11', 'E9', 'E11', 'E9', 'E11', 'E9']\n",
      "['E22', 'E5', 'E5', 'E5', 'E26', 'E26', 'E11', 'E9', 'E11', 'E9', 'E26', 'E11', 'E9']\n",
      "['E22', 'E5', 'E5', 'E5', 'E26', 'E26', 'E26', 'E11', 'E9', 'E11', 'E9', 'E11', 'E9']\n",
      "['E22', 'E5', 'E5', 'E5', 'E26', 'E26', 'E11', 'E9', 'E11', 'E9', 'E26', 'E11', 'E9']\n",
      "['E22', 'E5', 'E5', 'E5', 'E26', 'E11', 'E9', 'E11', 'E9', 'E26', 'E26', 'E11', 'E9']\n",
      "['E22', 'E5', 'E5', 'E5', 'E26', 'E26', 'E26', 'E11', 'E9', 'E11', 'E9', 'E11', 'E9']\n",
      "['E22', 'E5', 'E5', 'E5', 'E26', 'E26', 'E11', 'E9', 'E11', 'E9', 'E11', 'E9', 'E26']\n",
      "['E22', 'E5', 'E5', 'E5', 'E26', 'E26', 'E26', 'E11', 'E9', 'E11', 'E9', 'E11', 'E9']\n",
      "['E22', 'E5', 'E5', 'E5', 'E26', 'E26', 'E26', 'E11', 'E9', 'E11', 'E9', 'E11', 'E9']\n",
      "['E22', 'E5', 'E5', 'E5', 'E25', 'E26', 'E26', 'E11', 'E9', 'E11', 'E9', 'E11', 'E9', 'E26', 'E18', 'E5', 'E26', 'E6', 'E16', 'E21']\n",
      "['E22', 'E5', 'E5', 'E5', 'E26', 'E26', 'E26', 'E11', 'E9', 'E11', 'E9', 'E11', 'E9']\n",
      "['E22', 'E5', 'E5', 'E5', 'E26', 'E26', 'E26', 'E11', 'E9', 'E11', 'E9', 'E11', 'E9']\n",
      "['E22', 'E5', 'E5', 'E5', 'E26', 'E26', 'E11', 'E9', 'E9', 'E11', 'E9', 'E26', 'E11']\n",
      "['E22', 'E5', 'E5', 'E5', 'E26', 'E26', 'E26', 'E11', 'E11', 'E9', 'E9', 'E11', 'E9']\n",
      "['E22', 'E5', 'E5', 'E5', 'E26', 'E11', 'E9', 'E11', 'E9', 'E11', 'E9', 'E26', 'E26']\n",
      "['E22', 'E5', 'E5', 'E5', 'E26', 'E26', 'E26', 'E11', 'E9', 'E11', 'E9', 'E11', 'E9']\n",
      "['E22', 'E5', 'E5', 'E5', 'E26', 'E26', 'E26', 'E11', 'E9', 'E11', 'E9', 'E11', 'E9']\n",
      "['E22', 'E5', 'E5', 'E5', 'E26', 'E26', 'E11', 'E9', 'E11', 'E9', 'E11', 'E9', 'E26']\n",
      "['E22', 'E5', 'E5', 'E5', 'E26', 'E26', 'E26', 'E11', 'E9', 'E11', 'E11', 'E9', 'E9']\n",
      "['E22', 'E5', 'E5', 'E5', 'E26', 'E26', 'E26', 'E11', 'E9', 'E11', 'E9', 'E11', 'E9']\n",
      "['E22', 'E5', 'E5', 'E5', 'E26', 'E11', 'E9', 'E26', 'E26', 'E11', 'E9', 'E11', 'E9']\n",
      "['E22', 'E5', 'E5', 'E5', 'E26', 'E26', 'E26', 'E11', 'E9', 'E11', 'E9', 'E11', 'E9']\n",
      "['E22', 'E5', 'E5', 'E5', 'E26', 'E26', 'E11', 'E11', 'E9', 'E9', 'E26', 'E11', 'E9']\n",
      "['E22', 'E5', 'E5', 'E5', 'E26', 'E26', 'E11', 'E9', 'E11', 'E9', 'E26', 'E11', 'E9']\n",
      "['E22', 'E5', 'E5', 'E5', 'E26', 'E26', 'E26', 'E11', 'E9', 'E11', 'E9', 'E11', 'E9']\n",
      "['E22', 'E5', 'E5', 'E5', 'E26', 'E26', 'E26', 'E11', 'E9', 'E11', 'E9', 'E11', 'E9', 'E2']\n",
      "['E22', 'E5', 'E5', 'E5', 'E26', 'E26', 'E26', 'E11', 'E9', 'E11', 'E9', 'E11', 'E9']\n",
      "['E22', 'E5', 'E5', 'E5', 'E26', 'E26', 'E26', 'E11', 'E9', 'E11', 'E9', 'E11', 'E9']\n",
      "['E22', 'E5', 'E5', 'E5', 'E26', 'E26', 'E26', 'E11', 'E9', 'E11', 'E9', 'E11', 'E9']\n",
      "['E22', 'E5', 'E5', 'E5', 'E26', 'E26', 'E26', 'E11', 'E9', 'E11', 'E9', 'E11', 'E9']\n",
      "['E22', 'E5', 'E5', 'E5', 'E26', 'E26', 'E26', 'E11', 'E9', 'E11', 'E9', 'E11', 'E9']\n",
      "['E22', 'E5', 'E5', 'E5', 'E26', 'E26', 'E26', 'E11', 'E9', 'E11', 'E9', 'E11', 'E9']\n",
      "['E22', 'E5', 'E5', 'E5', 'E26', 'E26', 'E11', 'E9', 'E9', 'E11', 'E9', 'E26', 'E11']\n",
      "['E22', 'E5', 'E5', 'E5', 'E26', 'E26', 'E11', 'E9', 'E11', 'E9', 'E11', 'E9', 'E26']\n",
      "['E22', 'E5', 'E5', 'E5', 'E26', 'E26', 'E26', 'E11', 'E9', 'E11', 'E9', 'E11', 'E9', 'E2']\n",
      "['E22', 'E5', 'E5', 'E5', 'E26', 'E11', 'E9', 'E26', 'E26', 'E11', 'E9', 'E11', 'E9']\n",
      "['E22', 'E5', 'E5', 'E5', 'E26', 'E9', 'E11', 'E11', 'E9', 'E9', 'E26', 'E26', 'E11']\n",
      "['E22', 'E5', 'E5', 'E5', 'E26', 'E26', 'E26', 'E11', 'E9', 'E11', 'E9', 'E11', 'E9']\n",
      "['E22', 'E5', 'E5', 'E5', 'E26', 'E26', 'E26', 'E11', 'E9', 'E11', 'E9', 'E11', 'E9']\n",
      "['E22', 'E5', 'E5', 'E5', 'E26', 'E26', 'E11', 'E9', 'E11', 'E9', 'E11', 'E9', 'E26']\n",
      "['E22', 'E5', 'E5', 'E5', 'E26', 'E11', 'E9', 'E26', 'E26', 'E11', 'E9', 'E11', 'E9']\n",
      "['E22', 'E5', 'E5', 'E5', 'E26', 'E26', 'E26', 'E11', 'E9', 'E11', 'E9', 'E11', 'E9']\n",
      "['E22', 'E5', 'E5', 'E5', 'E26', 'E26', 'E26', 'E11', 'E9', 'E11', 'E9', 'E11', 'E9']\n",
      "['E22', 'E5', 'E5', 'E5', 'E26', 'E26', 'E26', 'E11', 'E11', 'E9', 'E9', 'E11', 'E9']\n",
      "['E22', 'E5', 'E5', 'E5', 'E26', 'E26', 'E26', 'E11', 'E9', 'E11', 'E9', 'E11', 'E9']\n",
      "['E22', 'E5', 'E5', 'E5', 'E26', 'E26', 'E11', 'E9', 'E11', 'E9', 'E26', 'E11', 'E9']\n",
      "['E22', 'E5', 'E5', 'E5', 'E26', 'E26', 'E11', 'E9', 'E9', 'E11', 'E9', 'E26', 'E11']\n",
      "['E22', 'E5', 'E5', 'E5', 'E26', 'E26', 'E26', 'E11', 'E9', 'E11', 'E9', 'E11', 'E9']\n",
      "['E22', 'E5', 'E5', 'E5', 'E26', 'E26', 'E11', 'E9', 'E11', 'E9', 'E26', 'E11', 'E9']\n",
      "['E22', 'E5', 'E5', 'E5', 'E26', 'E26', 'E26', 'E11', 'E9', 'E11', 'E9', 'E11', 'E9']\n",
      "['E22', 'E5', 'E5', 'E5', 'E26', 'E26', 'E26', 'E11', 'E9', 'E11', 'E9', 'E11', 'E9']\n",
      "['E22', 'E5', 'E5', 'E5', 'E11', 'E9', 'E26', 'E26', 'E9', 'E26', 'E11', 'E9', 'E11']\n",
      "['E22', 'E5', 'E5', 'E5', 'E11', 'E9', 'E26', 'E26', 'E26', 'E11', 'E9', 'E11', 'E9']\n",
      "['E22', 'E5', 'E5', 'E5', 'E26', 'E26', 'E11', 'E9', 'E11', 'E9', 'E11', 'E9', 'E26']\n",
      "['E22', 'E5', 'E5', 'E5', 'E26', 'E26', 'E11', 'E9', 'E11', 'E9', 'E26', 'E11', 'E9']\n",
      "['E22', 'E5', 'E5', 'E5', 'E26', 'E11', 'E9', 'E26', 'E26', 'E11', 'E9', 'E11', 'E9']\n",
      "['E22', 'E5', 'E5', 'E7']\n",
      "['E22', 'E5', 'E5', 'E5', 'E11', 'E9', 'E11', 'E9', 'E26', 'E26', 'E11', 'E9', 'E26']\n",
      "['E22', 'E5', 'E5', 'E5', 'E26', 'E26', 'E26', 'E11', 'E9', 'E11', 'E9', 'E11', 'E9']\n",
      "['E22', 'E5', 'E5', 'E5', 'E26', 'E26', 'E11', 'E9', 'E11', 'E9', 'E11', 'E9', 'E26']\n",
      "['E22', 'E5', 'E5', 'E5', 'E26', 'E26', 'E11', 'E9', 'E11', 'E9', 'E11', 'E9', 'E26']\n",
      "['E22', 'E5', 'E5', 'E5', 'E26', 'E26', 'E11', 'E9', 'E11', 'E9', 'E26', 'E11', 'E9']\n"
     ]
    }
   ],
   "source": [
    "for i in events1:\n",
    "    print(i)"
   ]
  },
  {
   "cell_type": "code",
   "execution_count": 11,
   "metadata": {},
   "outputs": [],
   "source": [
    "# Convert into bag of words\n",
    "X_counts = []\n",
    "for i in range(events1.shape[0]):\n",
    "    event_counts = Counter(events1[i])\n",
    "    X_counts.append(event_counts)\n",
    "X_df = pd.DataFrame(X_counts)\n",
    "X_df = X_df.fillna(0)\n",
    "events_list = X_df.columns\n",
    "X = X_df.values\n"
   ]
  },
  {
   "cell_type": "code",
   "execution_count": 12,
   "metadata": {},
   "outputs": [],
   "source": [
    "test1 = ['E1', 'E2', 'E1']\n",
    "test2 = ['E3', 'E2', 'E5']"
   ]
  },
  {
   "cell_type": "code",
   "execution_count": 13,
   "metadata": {},
   "outputs": [],
   "source": [
    "test1_rep = np.repeat(test1, 20)\n",
    "test2_rep = np.repeat(test2, 20)"
   ]
  },
  {
   "cell_type": "code",
   "execution_count": 14,
   "metadata": {},
   "outputs": [],
   "source": [
    "test1_split = np.split(test1_rep, 20)\n",
    "test2_split = np.split(test2_rep, 20)"
   ]
  },
  {
   "cell_type": "code",
   "execution_count": 15,
   "metadata": {},
   "outputs": [],
   "source": [
    "list_splits = [test1_split, test2_split]"
   ]
  },
  {
   "cell_type": "code",
   "execution_count": 16,
   "metadata": {},
   "outputs": [],
   "source": [
    "all_blocks_count = []\n",
    "for i in list_splits:\n",
    "    block_counts = []\n",
    "    for j in i:\n",
    "        subset_count = Counter(j)\n",
    "        block_counts.append(subset_count)\n",
    "    block_df = pd.DataFrame(block_counts, columns = unique_events) / 20\n",
    "    block_df = X_df.fillna(0)\n",
    "    block_np = block_df.to_numpy()\n",
    "    all_blocks_count.append(block_np)\n",
    "\n",
    "all_blocks_stacked = np.stack(all_blocks_count)\n"
   ]
  },
  {
   "cell_type": "code",
   "execution_count": 17,
   "metadata": {},
   "outputs": [
    {
     "output_type": "execute_result",
     "data": {
      "text/plain": [
       "    E18  E26  E22  E27  E16  E15  E14  E8    E5  E6  E13  E10  E21  E9    E3  \\\n",
       "0   NaN  NaN  NaN  NaN  NaN  NaN  NaN NaN   NaN NaN  NaN  NaN  NaN NaN  0.15   \n",
       "1   NaN  NaN  NaN  NaN  NaN  NaN  NaN NaN   NaN NaN  NaN  NaN  NaN NaN  0.15   \n",
       "2   NaN  NaN  NaN  NaN  NaN  NaN  NaN NaN   NaN NaN  NaN  NaN  NaN NaN  0.15   \n",
       "3   NaN  NaN  NaN  NaN  NaN  NaN  NaN NaN   NaN NaN  NaN  NaN  NaN NaN  0.15   \n",
       "4   NaN  NaN  NaN  NaN  NaN  NaN  NaN NaN   NaN NaN  NaN  NaN  NaN NaN  0.15   \n",
       "5   NaN  NaN  NaN  NaN  NaN  NaN  NaN NaN   NaN NaN  NaN  NaN  NaN NaN  0.15   \n",
       "6   NaN  NaN  NaN  NaN  NaN  NaN  NaN NaN   NaN NaN  NaN  NaN  NaN NaN  0.10   \n",
       "7   NaN  NaN  NaN  NaN  NaN  NaN  NaN NaN   NaN NaN  NaN  NaN  NaN NaN   NaN   \n",
       "8   NaN  NaN  NaN  NaN  NaN  NaN  NaN NaN   NaN NaN  NaN  NaN  NaN NaN   NaN   \n",
       "9   NaN  NaN  NaN  NaN  NaN  NaN  NaN NaN   NaN NaN  NaN  NaN  NaN NaN   NaN   \n",
       "10  NaN  NaN  NaN  NaN  NaN  NaN  NaN NaN   NaN NaN  NaN  NaN  NaN NaN   NaN   \n",
       "11  NaN  NaN  NaN  NaN  NaN  NaN  NaN NaN   NaN NaN  NaN  NaN  NaN NaN   NaN   \n",
       "12  NaN  NaN  NaN  NaN  NaN  NaN  NaN NaN   NaN NaN  NaN  NaN  NaN NaN   NaN   \n",
       "13  NaN  NaN  NaN  NaN  NaN  NaN  NaN NaN  0.10 NaN  NaN  NaN  NaN NaN   NaN   \n",
       "14  NaN  NaN  NaN  NaN  NaN  NaN  NaN NaN  0.15 NaN  NaN  NaN  NaN NaN   NaN   \n",
       "15  NaN  NaN  NaN  NaN  NaN  NaN  NaN NaN  0.15 NaN  NaN  NaN  NaN NaN   NaN   \n",
       "16  NaN  NaN  NaN  NaN  NaN  NaN  NaN NaN  0.15 NaN  NaN  NaN  NaN NaN   NaN   \n",
       "17  NaN  NaN  NaN  NaN  NaN  NaN  NaN NaN  0.15 NaN  NaN  NaN  NaN NaN   NaN   \n",
       "18  NaN  NaN  NaN  NaN  NaN  NaN  NaN NaN  0.15 NaN  NaN  NaN  NaN NaN   NaN   \n",
       "19  NaN  NaN  NaN  NaN  NaN  NaN  NaN NaN  0.15 NaN  NaN  NaN  NaN NaN   NaN   \n",
       "\n",
       "      E2  E11  E25  E7  \n",
       "0    NaN  NaN  NaN NaN  \n",
       "1    NaN  NaN  NaN NaN  \n",
       "2    NaN  NaN  NaN NaN  \n",
       "3    NaN  NaN  NaN NaN  \n",
       "4    NaN  NaN  NaN NaN  \n",
       "5    NaN  NaN  NaN NaN  \n",
       "6   0.05  NaN  NaN NaN  \n",
       "7   0.15  NaN  NaN NaN  \n",
       "8   0.15  NaN  NaN NaN  \n",
       "9   0.15  NaN  NaN NaN  \n",
       "10  0.15  NaN  NaN NaN  \n",
       "11  0.15  NaN  NaN NaN  \n",
       "12  0.15  NaN  NaN NaN  \n",
       "13  0.05  NaN  NaN NaN  \n",
       "14   NaN  NaN  NaN NaN  \n",
       "15   NaN  NaN  NaN NaN  \n",
       "16   NaN  NaN  NaN NaN  \n",
       "17   NaN  NaN  NaN NaN  \n",
       "18   NaN  NaN  NaN NaN  \n",
       "19   NaN  NaN  NaN NaN  "
      ],
      "text/html": "<div>\n<style scoped>\n    .dataframe tbody tr th:only-of-type {\n        vertical-align: middle;\n    }\n\n    .dataframe tbody tr th {\n        vertical-align: top;\n    }\n\n    .dataframe thead th {\n        text-align: right;\n    }\n</style>\n<table border=\"1\" class=\"dataframe\">\n  <thead>\n    <tr style=\"text-align: right;\">\n      <th></th>\n      <th>E18</th>\n      <th>E26</th>\n      <th>E22</th>\n      <th>E27</th>\n      <th>E16</th>\n      <th>E15</th>\n      <th>E14</th>\n      <th>E8</th>\n      <th>E5</th>\n      <th>E6</th>\n      <th>E13</th>\n      <th>E10</th>\n      <th>E21</th>\n      <th>E9</th>\n      <th>E3</th>\n      <th>E2</th>\n      <th>E11</th>\n      <th>E25</th>\n      <th>E7</th>\n    </tr>\n  </thead>\n  <tbody>\n    <tr>\n      <th>0</th>\n      <td>NaN</td>\n      <td>NaN</td>\n      <td>NaN</td>\n      <td>NaN</td>\n      <td>NaN</td>\n      <td>NaN</td>\n      <td>NaN</td>\n      <td>NaN</td>\n      <td>NaN</td>\n      <td>NaN</td>\n      <td>NaN</td>\n      <td>NaN</td>\n      <td>NaN</td>\n      <td>NaN</td>\n      <td>0.15</td>\n      <td>NaN</td>\n      <td>NaN</td>\n      <td>NaN</td>\n      <td>NaN</td>\n    </tr>\n    <tr>\n      <th>1</th>\n      <td>NaN</td>\n      <td>NaN</td>\n      <td>NaN</td>\n      <td>NaN</td>\n      <td>NaN</td>\n      <td>NaN</td>\n      <td>NaN</td>\n      <td>NaN</td>\n      <td>NaN</td>\n      <td>NaN</td>\n      <td>NaN</td>\n      <td>NaN</td>\n      <td>NaN</td>\n      <td>NaN</td>\n      <td>0.15</td>\n      <td>NaN</td>\n      <td>NaN</td>\n      <td>NaN</td>\n      <td>NaN</td>\n    </tr>\n    <tr>\n      <th>2</th>\n      <td>NaN</td>\n      <td>NaN</td>\n      <td>NaN</td>\n      <td>NaN</td>\n      <td>NaN</td>\n      <td>NaN</td>\n      <td>NaN</td>\n      <td>NaN</td>\n      <td>NaN</td>\n      <td>NaN</td>\n      <td>NaN</td>\n      <td>NaN</td>\n      <td>NaN</td>\n      <td>NaN</td>\n      <td>0.15</td>\n      <td>NaN</td>\n      <td>NaN</td>\n      <td>NaN</td>\n      <td>NaN</td>\n    </tr>\n    <tr>\n      <th>3</th>\n      <td>NaN</td>\n      <td>NaN</td>\n      <td>NaN</td>\n      <td>NaN</td>\n      <td>NaN</td>\n      <td>NaN</td>\n      <td>NaN</td>\n      <td>NaN</td>\n      <td>NaN</td>\n      <td>NaN</td>\n      <td>NaN</td>\n      <td>NaN</td>\n      <td>NaN</td>\n      <td>NaN</td>\n      <td>0.15</td>\n      <td>NaN</td>\n      <td>NaN</td>\n      <td>NaN</td>\n      <td>NaN</td>\n    </tr>\n    <tr>\n      <th>4</th>\n      <td>NaN</td>\n      <td>NaN</td>\n      <td>NaN</td>\n      <td>NaN</td>\n      <td>NaN</td>\n      <td>NaN</td>\n      <td>NaN</td>\n      <td>NaN</td>\n      <td>NaN</td>\n      <td>NaN</td>\n      <td>NaN</td>\n      <td>NaN</td>\n      <td>NaN</td>\n      <td>NaN</td>\n      <td>0.15</td>\n      <td>NaN</td>\n      <td>NaN</td>\n      <td>NaN</td>\n      <td>NaN</td>\n    </tr>\n    <tr>\n      <th>5</th>\n      <td>NaN</td>\n      <td>NaN</td>\n      <td>NaN</td>\n      <td>NaN</td>\n      <td>NaN</td>\n      <td>NaN</td>\n      <td>NaN</td>\n      <td>NaN</td>\n      <td>NaN</td>\n      <td>NaN</td>\n      <td>NaN</td>\n      <td>NaN</td>\n      <td>NaN</td>\n      <td>NaN</td>\n      <td>0.15</td>\n      <td>NaN</td>\n      <td>NaN</td>\n      <td>NaN</td>\n      <td>NaN</td>\n    </tr>\n    <tr>\n      <th>6</th>\n      <td>NaN</td>\n      <td>NaN</td>\n      <td>NaN</td>\n      <td>NaN</td>\n      <td>NaN</td>\n      <td>NaN</td>\n      <td>NaN</td>\n      <td>NaN</td>\n      <td>NaN</td>\n      <td>NaN</td>\n      <td>NaN</td>\n      <td>NaN</td>\n      <td>NaN</td>\n      <td>NaN</td>\n      <td>0.10</td>\n      <td>0.05</td>\n      <td>NaN</td>\n      <td>NaN</td>\n      <td>NaN</td>\n    </tr>\n    <tr>\n      <th>7</th>\n      <td>NaN</td>\n      <td>NaN</td>\n      <td>NaN</td>\n      <td>NaN</td>\n      <td>NaN</td>\n      <td>NaN</td>\n      <td>NaN</td>\n      <td>NaN</td>\n      <td>NaN</td>\n      <td>NaN</td>\n      <td>NaN</td>\n      <td>NaN</td>\n      <td>NaN</td>\n      <td>NaN</td>\n      <td>NaN</td>\n      <td>0.15</td>\n      <td>NaN</td>\n      <td>NaN</td>\n      <td>NaN</td>\n    </tr>\n    <tr>\n      <th>8</th>\n      <td>NaN</td>\n      <td>NaN</td>\n      <td>NaN</td>\n      <td>NaN</td>\n      <td>NaN</td>\n      <td>NaN</td>\n      <td>NaN</td>\n      <td>NaN</td>\n      <td>NaN</td>\n      <td>NaN</td>\n      <td>NaN</td>\n      <td>NaN</td>\n      <td>NaN</td>\n      <td>NaN</td>\n      <td>NaN</td>\n      <td>0.15</td>\n      <td>NaN</td>\n      <td>NaN</td>\n      <td>NaN</td>\n    </tr>\n    <tr>\n      <th>9</th>\n      <td>NaN</td>\n      <td>NaN</td>\n      <td>NaN</td>\n      <td>NaN</td>\n      <td>NaN</td>\n      <td>NaN</td>\n      <td>NaN</td>\n      <td>NaN</td>\n      <td>NaN</td>\n      <td>NaN</td>\n      <td>NaN</td>\n      <td>NaN</td>\n      <td>NaN</td>\n      <td>NaN</td>\n      <td>NaN</td>\n      <td>0.15</td>\n      <td>NaN</td>\n      <td>NaN</td>\n      <td>NaN</td>\n    </tr>\n    <tr>\n      <th>10</th>\n      <td>NaN</td>\n      <td>NaN</td>\n      <td>NaN</td>\n      <td>NaN</td>\n      <td>NaN</td>\n      <td>NaN</td>\n      <td>NaN</td>\n      <td>NaN</td>\n      <td>NaN</td>\n      <td>NaN</td>\n      <td>NaN</td>\n      <td>NaN</td>\n      <td>NaN</td>\n      <td>NaN</td>\n      <td>NaN</td>\n      <td>0.15</td>\n      <td>NaN</td>\n      <td>NaN</td>\n      <td>NaN</td>\n    </tr>\n    <tr>\n      <th>11</th>\n      <td>NaN</td>\n      <td>NaN</td>\n      <td>NaN</td>\n      <td>NaN</td>\n      <td>NaN</td>\n      <td>NaN</td>\n      <td>NaN</td>\n      <td>NaN</td>\n      <td>NaN</td>\n      <td>NaN</td>\n      <td>NaN</td>\n      <td>NaN</td>\n      <td>NaN</td>\n      <td>NaN</td>\n      <td>NaN</td>\n      <td>0.15</td>\n      <td>NaN</td>\n      <td>NaN</td>\n      <td>NaN</td>\n    </tr>\n    <tr>\n      <th>12</th>\n      <td>NaN</td>\n      <td>NaN</td>\n      <td>NaN</td>\n      <td>NaN</td>\n      <td>NaN</td>\n      <td>NaN</td>\n      <td>NaN</td>\n      <td>NaN</td>\n      <td>NaN</td>\n      <td>NaN</td>\n      <td>NaN</td>\n      <td>NaN</td>\n      <td>NaN</td>\n      <td>NaN</td>\n      <td>NaN</td>\n      <td>0.15</td>\n      <td>NaN</td>\n      <td>NaN</td>\n      <td>NaN</td>\n    </tr>\n    <tr>\n      <th>13</th>\n      <td>NaN</td>\n      <td>NaN</td>\n      <td>NaN</td>\n      <td>NaN</td>\n      <td>NaN</td>\n      <td>NaN</td>\n      <td>NaN</td>\n      <td>NaN</td>\n      <td>0.10</td>\n      <td>NaN</td>\n      <td>NaN</td>\n      <td>NaN</td>\n      <td>NaN</td>\n      <td>NaN</td>\n      <td>NaN</td>\n      <td>0.05</td>\n      <td>NaN</td>\n      <td>NaN</td>\n      <td>NaN</td>\n    </tr>\n    <tr>\n      <th>14</th>\n      <td>NaN</td>\n      <td>NaN</td>\n      <td>NaN</td>\n      <td>NaN</td>\n      <td>NaN</td>\n      <td>NaN</td>\n      <td>NaN</td>\n      <td>NaN</td>\n      <td>0.15</td>\n      <td>NaN</td>\n      <td>NaN</td>\n      <td>NaN</td>\n      <td>NaN</td>\n      <td>NaN</td>\n      <td>NaN</td>\n      <td>NaN</td>\n      <td>NaN</td>\n      <td>NaN</td>\n      <td>NaN</td>\n    </tr>\n    <tr>\n      <th>15</th>\n      <td>NaN</td>\n      <td>NaN</td>\n      <td>NaN</td>\n      <td>NaN</td>\n      <td>NaN</td>\n      <td>NaN</td>\n      <td>NaN</td>\n      <td>NaN</td>\n      <td>0.15</td>\n      <td>NaN</td>\n      <td>NaN</td>\n      <td>NaN</td>\n      <td>NaN</td>\n      <td>NaN</td>\n      <td>NaN</td>\n      <td>NaN</td>\n      <td>NaN</td>\n      <td>NaN</td>\n      <td>NaN</td>\n    </tr>\n    <tr>\n      <th>16</th>\n      <td>NaN</td>\n      <td>NaN</td>\n      <td>NaN</td>\n      <td>NaN</td>\n      <td>NaN</td>\n      <td>NaN</td>\n      <td>NaN</td>\n      <td>NaN</td>\n      <td>0.15</td>\n      <td>NaN</td>\n      <td>NaN</td>\n      <td>NaN</td>\n      <td>NaN</td>\n      <td>NaN</td>\n      <td>NaN</td>\n      <td>NaN</td>\n      <td>NaN</td>\n      <td>NaN</td>\n      <td>NaN</td>\n    </tr>\n    <tr>\n      <th>17</th>\n      <td>NaN</td>\n      <td>NaN</td>\n      <td>NaN</td>\n      <td>NaN</td>\n      <td>NaN</td>\n      <td>NaN</td>\n      <td>NaN</td>\n      <td>NaN</td>\n      <td>0.15</td>\n      <td>NaN</td>\n      <td>NaN</td>\n      <td>NaN</td>\n      <td>NaN</td>\n      <td>NaN</td>\n      <td>NaN</td>\n      <td>NaN</td>\n      <td>NaN</td>\n      <td>NaN</td>\n      <td>NaN</td>\n    </tr>\n    <tr>\n      <th>18</th>\n      <td>NaN</td>\n      <td>NaN</td>\n      <td>NaN</td>\n      <td>NaN</td>\n      <td>NaN</td>\n      <td>NaN</td>\n      <td>NaN</td>\n      <td>NaN</td>\n      <td>0.15</td>\n      <td>NaN</td>\n      <td>NaN</td>\n      <td>NaN</td>\n      <td>NaN</td>\n      <td>NaN</td>\n      <td>NaN</td>\n      <td>NaN</td>\n      <td>NaN</td>\n      <td>NaN</td>\n      <td>NaN</td>\n    </tr>\n    <tr>\n      <th>19</th>\n      <td>NaN</td>\n      <td>NaN</td>\n      <td>NaN</td>\n      <td>NaN</td>\n      <td>NaN</td>\n      <td>NaN</td>\n      <td>NaN</td>\n      <td>NaN</td>\n      <td>0.15</td>\n      <td>NaN</td>\n      <td>NaN</td>\n      <td>NaN</td>\n      <td>NaN</td>\n      <td>NaN</td>\n      <td>NaN</td>\n      <td>NaN</td>\n      <td>NaN</td>\n      <td>NaN</td>\n      <td>NaN</td>\n    </tr>\n  </tbody>\n</table>\n</div>"
     },
     "metadata": {},
     "execution_count": 17
    }
   ],
   "source": [
    "block_df"
   ]
  },
  {
   "cell_type": "code",
   "execution_count": 18,
   "metadata": {},
   "outputs": [
    {
     "output_type": "execute_result",
     "data": {
      "text/plain": [
       "array([[[ nan,  nan,  nan,  nan,  nan,  nan,  nan,  nan,  nan,  nan,\n",
       "          nan,  nan,  nan,  nan,  nan,  nan,  nan,  nan,  nan],\n",
       "        [ nan,  nan,  nan,  nan,  nan,  nan,  nan,  nan,  nan,  nan,\n",
       "          nan,  nan,  nan,  nan,  nan,  nan,  nan,  nan,  nan],\n",
       "        [ nan,  nan,  nan,  nan,  nan,  nan,  nan,  nan,  nan,  nan,\n",
       "          nan,  nan,  nan,  nan,  nan,  nan,  nan,  nan,  nan],\n",
       "        [ nan,  nan,  nan,  nan,  nan,  nan,  nan,  nan,  nan,  nan,\n",
       "          nan,  nan,  nan,  nan,  nan,  nan,  nan,  nan,  nan],\n",
       "        [ nan,  nan,  nan,  nan,  nan,  nan,  nan,  nan,  nan,  nan,\n",
       "          nan,  nan,  nan,  nan,  nan,  nan,  nan,  nan,  nan],\n",
       "        [ nan,  nan,  nan,  nan,  nan,  nan,  nan,  nan,  nan,  nan,\n",
       "          nan,  nan,  nan,  nan,  nan,  nan,  nan,  nan,  nan],\n",
       "        [ nan,  nan,  nan,  nan,  nan,  nan,  nan,  nan,  nan,  nan,\n",
       "          nan,  nan,  nan,  nan,  nan, 0.05,  nan,  nan,  nan],\n",
       "        [ nan,  nan,  nan,  nan,  nan,  nan,  nan,  nan,  nan,  nan,\n",
       "          nan,  nan,  nan,  nan,  nan, 0.15,  nan,  nan,  nan],\n",
       "        [ nan,  nan,  nan,  nan,  nan,  nan,  nan,  nan,  nan,  nan,\n",
       "          nan,  nan,  nan,  nan,  nan, 0.15,  nan,  nan,  nan],\n",
       "        [ nan,  nan,  nan,  nan,  nan,  nan,  nan,  nan,  nan,  nan,\n",
       "          nan,  nan,  nan,  nan,  nan, 0.15,  nan,  nan,  nan],\n",
       "        [ nan,  nan,  nan,  nan,  nan,  nan,  nan,  nan,  nan,  nan,\n",
       "          nan,  nan,  nan,  nan,  nan, 0.15,  nan,  nan,  nan],\n",
       "        [ nan,  nan,  nan,  nan,  nan,  nan,  nan,  nan,  nan,  nan,\n",
       "          nan,  nan,  nan,  nan,  nan, 0.15,  nan,  nan,  nan],\n",
       "        [ nan,  nan,  nan,  nan,  nan,  nan,  nan,  nan,  nan,  nan,\n",
       "          nan,  nan,  nan,  nan,  nan, 0.15,  nan,  nan,  nan],\n",
       "        [ nan,  nan,  nan,  nan,  nan,  nan,  nan,  nan,  nan,  nan,\n",
       "          nan,  nan,  nan,  nan,  nan, 0.05,  nan,  nan,  nan],\n",
       "        [ nan,  nan,  nan,  nan,  nan,  nan,  nan,  nan,  nan,  nan,\n",
       "          nan,  nan,  nan,  nan,  nan,  nan,  nan,  nan,  nan],\n",
       "        [ nan,  nan,  nan,  nan,  nan,  nan,  nan,  nan,  nan,  nan,\n",
       "          nan,  nan,  nan,  nan,  nan,  nan,  nan,  nan,  nan],\n",
       "        [ nan,  nan,  nan,  nan,  nan,  nan,  nan,  nan,  nan,  nan,\n",
       "          nan,  nan,  nan,  nan,  nan,  nan,  nan,  nan,  nan],\n",
       "        [ nan,  nan,  nan,  nan,  nan,  nan,  nan,  nan,  nan,  nan,\n",
       "          nan,  nan,  nan,  nan,  nan,  nan,  nan,  nan,  nan],\n",
       "        [ nan,  nan,  nan,  nan,  nan,  nan,  nan,  nan,  nan,  nan,\n",
       "          nan,  nan,  nan,  nan,  nan,  nan,  nan,  nan,  nan],\n",
       "        [ nan,  nan,  nan,  nan,  nan,  nan,  nan,  nan,  nan,  nan,\n",
       "          nan,  nan,  nan,  nan,  nan,  nan,  nan,  nan,  nan]],\n",
       "\n",
       "       [[ nan,  nan,  nan,  nan,  nan,  nan,  nan,  nan,  nan,  nan,\n",
       "          nan,  nan,  nan,  nan, 0.15,  nan,  nan,  nan,  nan],\n",
       "        [ nan,  nan,  nan,  nan,  nan,  nan,  nan,  nan,  nan,  nan,\n",
       "          nan,  nan,  nan,  nan, 0.15,  nan,  nan,  nan,  nan],\n",
       "        [ nan,  nan,  nan,  nan,  nan,  nan,  nan,  nan,  nan,  nan,\n",
       "          nan,  nan,  nan,  nan, 0.15,  nan,  nan,  nan,  nan],\n",
       "        [ nan,  nan,  nan,  nan,  nan,  nan,  nan,  nan,  nan,  nan,\n",
       "          nan,  nan,  nan,  nan, 0.15,  nan,  nan,  nan,  nan],\n",
       "        [ nan,  nan,  nan,  nan,  nan,  nan,  nan,  nan,  nan,  nan,\n",
       "          nan,  nan,  nan,  nan, 0.15,  nan,  nan,  nan,  nan],\n",
       "        [ nan,  nan,  nan,  nan,  nan,  nan,  nan,  nan,  nan,  nan,\n",
       "          nan,  nan,  nan,  nan, 0.15,  nan,  nan,  nan,  nan],\n",
       "        [ nan,  nan,  nan,  nan,  nan,  nan,  nan,  nan,  nan,  nan,\n",
       "          nan,  nan,  nan,  nan, 0.1 , 0.05,  nan,  nan,  nan],\n",
       "        [ nan,  nan,  nan,  nan,  nan,  nan,  nan,  nan,  nan,  nan,\n",
       "          nan,  nan,  nan,  nan,  nan, 0.15,  nan,  nan,  nan],\n",
       "        [ nan,  nan,  nan,  nan,  nan,  nan,  nan,  nan,  nan,  nan,\n",
       "          nan,  nan,  nan,  nan,  nan, 0.15,  nan,  nan,  nan],\n",
       "        [ nan,  nan,  nan,  nan,  nan,  nan,  nan,  nan,  nan,  nan,\n",
       "          nan,  nan,  nan,  nan,  nan, 0.15,  nan,  nan,  nan],\n",
       "        [ nan,  nan,  nan,  nan,  nan,  nan,  nan,  nan,  nan,  nan,\n",
       "          nan,  nan,  nan,  nan,  nan, 0.15,  nan,  nan,  nan],\n",
       "        [ nan,  nan,  nan,  nan,  nan,  nan,  nan,  nan,  nan,  nan,\n",
       "          nan,  nan,  nan,  nan,  nan, 0.15,  nan,  nan,  nan],\n",
       "        [ nan,  nan,  nan,  nan,  nan,  nan,  nan,  nan,  nan,  nan,\n",
       "          nan,  nan,  nan,  nan,  nan, 0.15,  nan,  nan,  nan],\n",
       "        [ nan,  nan,  nan,  nan,  nan,  nan,  nan,  nan, 0.1 ,  nan,\n",
       "          nan,  nan,  nan,  nan,  nan, 0.05,  nan,  nan,  nan],\n",
       "        [ nan,  nan,  nan,  nan,  nan,  nan,  nan,  nan, 0.15,  nan,\n",
       "          nan,  nan,  nan,  nan,  nan,  nan,  nan,  nan,  nan],\n",
       "        [ nan,  nan,  nan,  nan,  nan,  nan,  nan,  nan, 0.15,  nan,\n",
       "          nan,  nan,  nan,  nan,  nan,  nan,  nan,  nan,  nan],\n",
       "        [ nan,  nan,  nan,  nan,  nan,  nan,  nan,  nan, 0.15,  nan,\n",
       "          nan,  nan,  nan,  nan,  nan,  nan,  nan,  nan,  nan],\n",
       "        [ nan,  nan,  nan,  nan,  nan,  nan,  nan,  nan, 0.15,  nan,\n",
       "          nan,  nan,  nan,  nan,  nan,  nan,  nan,  nan,  nan],\n",
       "        [ nan,  nan,  nan,  nan,  nan,  nan,  nan,  nan, 0.15,  nan,\n",
       "          nan,  nan,  nan,  nan,  nan,  nan,  nan,  nan,  nan],\n",
       "        [ nan,  nan,  nan,  nan,  nan,  nan,  nan,  nan, 0.15,  nan,\n",
       "          nan,  nan,  nan,  nan,  nan,  nan,  nan,  nan,  nan]]])"
      ]
     },
     "metadata": {},
     "execution_count": 18
    }
   ],
   "source": [
    "all_blocks_stacked"
   ]
  },
  {
   "cell_type": "code",
   "execution_count": 4,
   "metadata": {},
   "outputs": [],
   "source": [
    "unique_events = set()\n",
    "for i in events:\n",
    "    unique_events.update(i)\n",
    "\n",
    "# Convert into bag of words\n",
    "all_blocks_count = []\n",
    "for block in events:\n",
    "    # multiply block by 20 for 5% partitions\n",
    "    block_rep = np.repeat(block, 20)\n",
    "    # now split into 5% partitions\n",
    "    block_split = np.split(block_rep, 20)\n",
    "    block_counts = []\n",
    "    for sub_block in block_split:\n",
    "        # count each sub_block\n",
    "        subset_count = Counter(sub_block)\n",
    "        block_counts.append(subset_count)\n",
    "    # put into dataframe to add nas to missing events\n",
    "    # divide by 20 as original operation multiplied by 20\n",
    "    block_df = pd.DataFrame(block_counts, columns=unique_events) / 20\n",
    "    block_df = X_df.fillna(0)\n",
    "    block_np = block_df.to_numpy()\n",
    "    all_blocks_count.append(block_np)\n",
    "\n",
    "# finally stack the blocks\n",
    "X = np.stack(all_blocks_count)"
   ]
  },
  {
   "cell_type": "code",
   "execution_count": 5,
   "metadata": {},
   "outputs": [
    {
     "output_type": "execute_result",
     "data": {
      "text/plain": [
       "(7940, 20, 19)"
      ]
     },
     "metadata": {},
     "execution_count": 5
    }
   ],
   "source": [
    "X.shape"
   ]
  },
  {
   "cell_type": "code",
   "execution_count": 7,
   "metadata": {},
   "outputs": [
    {
     "output_type": "execute_result",
     "data": {
      "text/plain": [
       "array([[ 3.  ,   nan,  3.  ,   nan,   nan,  2.45,   nan,   nan,   nan,\n",
       "         1.  ,   nan,   nan,   nan,   nan,   nan,  3.  ,   nan,   nan,\n",
       "          nan],\n",
       "       [  nan,   nan,  2.  ,  2.9 ,   nan,  2.55,  1.  ,  1.  ,  1.  ,\n",
       "          nan,  2.  ,   nan,   nan,   nan,   nan,   nan,   nan,   nan,\n",
       "          nan],\n",
       "       [  nan,   nan,  4.  ,  2.1 ,   nan,  2.  ,  1.  ,  2.  ,  1.35,\n",
       "          nan,   nan,   nan,   nan,   nan,   nan,   nan,   nan,   nan,\n",
       "          nan],\n",
       "       [  nan,   nan,   nan,  1.  ,   nan,   nan,  1.  ,   nan,  9.45,\n",
       "          nan,  1.  ,   nan,   nan,   nan,   nan,   nan,   nan,   nan,\n",
       "          nan],\n",
       "       [  nan,   nan,   nan,   nan,   nan,   nan,   nan,   nan, 12.45,\n",
       "          nan,   nan,   nan,   nan,   nan,   nan,   nan,   nan,   nan,\n",
       "          nan],\n",
       "       [  nan,   nan,   nan,   nan,   nan,  2.  ,   nan,   nan, 10.45,\n",
       "          nan,   nan,   nan,   nan,   nan,   nan,   nan,   nan,   nan,\n",
       "          nan],\n",
       "       [  nan,   nan,   nan,   nan,   nan,   nan,   nan,   nan, 12.45,\n",
       "          nan,   nan,   nan,   nan,   nan,   nan,   nan,   nan,   nan,\n",
       "          nan],\n",
       "       [  nan,   nan,   nan,   nan,   nan,   nan,   nan,   nan, 12.45,\n",
       "          nan,   nan,   nan,   nan,   nan,   nan,   nan,   nan,   nan,\n",
       "          nan],\n",
       "       [  nan,   nan,   nan,   nan,   nan,   nan,   nan,   nan, 11.45,\n",
       "          nan,  1.  ,   nan,   nan,   nan,   nan,   nan,   nan,   nan,\n",
       "          nan],\n",
       "       [  nan,   nan,   nan,   nan,   nan,   nan,   nan,   nan, 12.45,\n",
       "          nan,   nan,   nan,   nan,   nan,   nan,   nan,   nan,   nan,\n",
       "          nan],\n",
       "       [  nan,   nan,   nan,   nan,   nan,   nan,   nan,   nan, 12.45,\n",
       "          nan,   nan,   nan,   nan,   nan,   nan,   nan,   nan,   nan,\n",
       "          nan],\n",
       "       [  nan,   nan,   nan,   nan,   nan,   nan,  0.4 ,   nan, 12.05,\n",
       "          nan,   nan,   nan,   nan,   nan,   nan,   nan,   nan,   nan,\n",
       "          nan],\n",
       "       [  nan,   nan,  1.  ,  1.  ,   nan,   nan,  0.6 ,  1.  ,  8.85,\n",
       "          nan,   nan,   nan,   nan,   nan,   nan,   nan,   nan,   nan,\n",
       "          nan],\n",
       "       [  nan,   nan,   nan,   nan,   nan,  1.  ,   nan,   nan, 11.45,\n",
       "          nan,   nan,   nan,   nan,   nan,   nan,   nan,   nan,   nan,\n",
       "          nan],\n",
       "       [  nan,   nan,   nan,   nan,   nan,   nan,   nan,   nan, 12.45,\n",
       "          nan,   nan,   nan,   nan,   nan,   nan,   nan,   nan,   nan,\n",
       "          nan],\n",
       "       [  nan,   nan,   nan,   nan,   nan,   nan,   nan,   nan, 12.45,\n",
       "          nan,   nan,   nan,   nan,   nan,   nan,   nan,   nan,   nan,\n",
       "          nan],\n",
       "       [  nan,   nan,   nan,   nan,   nan,   nan,   nan,   nan, 12.45,\n",
       "          nan,   nan,   nan,   nan,   nan,   nan,   nan,   nan,   nan,\n",
       "          nan],\n",
       "       [  nan,   nan,   nan,   nan,   nan,   nan,   nan,   nan, 12.45,\n",
       "          nan,   nan,   nan,   nan,   nan,   nan,   nan,   nan,   nan,\n",
       "          nan],\n",
       "       [  nan,   nan,   nan,   nan,   nan,   nan,   nan,   nan, 12.45,\n",
       "          nan,   nan,   nan,   nan,   nan,   nan,   nan,   nan,   nan,\n",
       "          nan],\n",
       "       [  nan,   nan,   nan,   nan,   nan,   nan,   nan,   nan, 12.45,\n",
       "          nan,   nan,   nan,   nan,   nan,   nan,   nan,   nan,   nan,\n",
       "          nan]])"
      ]
     },
     "metadata": {},
     "execution_count": 7
    }
   ],
   "source": [
    "X[0,:,:]"
   ]
  },
  {
   "cell_type": "code",
   "execution_count": null,
   "metadata": {},
   "outputs": [],
   "source": []
  }
 ]
}