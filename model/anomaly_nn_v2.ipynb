{
  "nbformat": 4,
  "nbformat_minor": 0,
  "metadata": {
    "kernelspec": {
      "display_name": "Python 3",
      "language": "python",
      "name": "python3"
    },
    "language_info": {
      "codemirror_mode": {
        "name": "ipython",
        "version": 3
      },
      "file_extension": ".py",
      "mimetype": "text/x-python",
      "name": "python",
      "nbconvert_exporter": "python",
      "pygments_lexer": "ipython3",
      "version": "3.8.3"
    },
    "colab": {
      "name": "anomaly_nn.ipynb",
      "provenance": [],
      "collapsed_sections": [
        "hbvFNaRk-yU2",
        "obJPMecX-yU6"
      ]
    }
  },
  "cells": [
    {
      "cell_type": "code",
      "metadata": {
        "id": "vJ7lKzXZ-yUl"
      },
      "source": [
        "import os\n",
        "import time\n",
        "import random\n",
        "\n",
        "import numpy as np\n",
        "import pandas as pd\n",
        "\n",
        "import torch\n",
        "import torch.nn as nn\n",
        "import torch.nn.functional as F\n",
        "from torch.utils.data import DataLoader, Dataset\n",
        "\n",
        "import matplotlib.pyplot as plt\n",
        "%matplotlib inline\n",
        "\n",
        "from sklearn.metrics import f1_score\n",
        "from sklearn.model_selection import train_test_split\n",
        "\n",
        "# NOT SURE WHAT THE POINT OF THE CODE BELOW IS, REMOVE IF NOT NEEDED\n",
        "\n",
        "#if torch.cuda.is_available():\n",
        "#    torch.backends.cuda.deterministic = True"
      ],
      "execution_count": 95,
      "outputs": []
    },
    {
      "cell_type": "code",
      "metadata": {
        "id": "IEJlWELc-yUt"
      },
      "source": [
        "# For Mitch's error\n",
        "\n",
        "# import os\n",
        "# os.environ['KMP_DUPLICATE_LIB_OK']='True'"
      ],
      "execution_count": 96,
      "outputs": []
    },
    {
      "cell_type": "code",
      "metadata": {
        "colab": {
          "base_uri": "https://localhost:8080/"
        },
        "id": "fvtKpraHC2nG",
        "outputId": "bd28c834-ef57-41ab-9e78-667a87e72f78"
      },
      "source": [
        "import os\n",
        "cwd = os.getcwd()\n",
        "print(cwd)"
      ],
      "execution_count": 97,
      "outputs": [
        {
          "output_type": "stream",
          "text": [
            "/content\n"
          ],
          "name": "stdout"
        }
      ]
    },
    {
      "cell_type": "code",
      "metadata": {
        "colab": {
          "base_uri": "https://localhost:8080/"
        },
        "id": "E162ja0yC3DR",
        "outputId": "8d4ace06-51f1-4071-9873-858de7d049bc"
      },
      "source": [
        "from google.colab import drive\n",
        "drive.mount('/content/drive')"
      ],
      "execution_count": 98,
      "outputs": [
        {
          "output_type": "stream",
          "text": [
            "Drive already mounted at /content/drive; to attempt to forcibly remount, call drive.mount(\"/content/drive\", force_remount=True).\n"
          ],
          "name": "stdout"
        }
      ]
    },
    {
      "cell_type": "markdown",
      "metadata": {
        "id": "wsxvHdJI-yUt"
      },
      "source": [
        "## Load and Prepare Data"
      ]
    },
    {
      "cell_type": "code",
      "metadata": {
        "id": "Uoav9WT1-yUu"
      },
      "source": [
        "# # get data matrices and labels\n",
        "# train_data = np.load('../process/project_data/x_train_v1.npy')\n",
        "# read_train_labels = pd.read_csv('../process/project_data/y_train_v1.csv')\n",
        "# train_labels = read_train_labels['Label'] == 'Anomaly'\n",
        "# train_labels = train_labels.astype(int) # may not make sense to have an an int\n",
        "# test_data = np.load('../process/project_data/x_test_v1.npy')\n",
        "# read_test_labels = pd.read_csv('../process/project_data/y_test_v1.csv')\n",
        "# test_labels = read_test_labels['Label'] == 'Anomaly'\n",
        "# test_labels = test_labels.astype(int)\n",
        "\n",
        "\n",
        "data_loc = \"./drive/MyDrive/log_data/data_v5/\"\n",
        "data_version = \"v5\"\n",
        "\n",
        "# Train sets\n",
        "train_data = np.load('{}x_train_tf-idf_rolling_{}.npy'.format(data_loc, data_version))\n",
        "read_train_labels = pd.read_csv('{}y_train_tf-idf_rolling_{}.csv'.format(data_loc, data_version))\n",
        "train_labels = read_train_labels['Label'] == 'Anomaly'\n",
        "train_labels = train_labels.astype(int) # may not make sense to have an an int\n",
        "\n",
        "# Test sets\n",
        "test_data = np.load('{}x_test_tf-idf_rolling_{}.npy'.format(data_loc, data_version))\n",
        "read_test_labels = pd.read_csv('{}y_test_tf-idf_rolling_{}.csv'.format(data_loc, data_version))\n",
        "test_labels = read_test_labels['Label'] == 'Anomaly'\n",
        "test_labels = test_labels.astype(int)\n",
        "\n",
        "# data_dims = (19, 48)"
      ],
      "execution_count": 99,
      "outputs": []
    },
    {
      "cell_type": "code",
      "metadata": {
        "colab": {
          "base_uri": "https://localhost:8080/"
        },
        "id": "El0sG0q4CwjH",
        "outputId": "c383e179-206f-498a-806e-78b1a4b247f4"
      },
      "source": [
        "print(train_data.shape)\n",
        "print(train_labels.shape)"
      ],
      "execution_count": 100,
      "outputs": [
        {
          "output_type": "stream",
          "text": [
            "(394503, 16, 46)\n",
            "(394503,)\n"
          ],
          "name": "stdout"
        }
      ]
    },
    {
      "cell_type": "code",
      "metadata": {
        "colab": {
          "base_uri": "https://localhost:8080/"
        },
        "id": "fqTI7DFYCqf6",
        "outputId": "9cc5be24-273f-4d78-ab17-fb9cd64a9c03"
      },
      "source": [
        "print(test_data.shape)\n",
        "print(test_labels.shape)"
      ],
      "execution_count": 102,
      "outputs": [
        {
          "output_type": "stream",
          "text": [
            "(120537, 16, 46)\n",
            "(120537,)\n"
          ],
          "name": "stdout"
        }
      ]
    },
    {
      "cell_type": "code",
      "metadata": {
        "id": "X09WrmMF-yUu"
      },
      "source": [
        "# Giving to do the below code, we need to add a index reset on y_train and y_val \n",
        "\n",
        "# # Create val set\n",
        "# random.seed(10)\n",
        "\n",
        "# val_percent_size = 0.10\n",
        "# val_size = int(train_data.shape[0] * val_percent_size)\n",
        "# val_idx = random.sample(range(0, train_data.shape[0]), val_size)\n",
        "\n",
        "# # select the val sets based on random indexing\n",
        "# val_data = np.take(train_data, val_idx, axis=0)\n",
        "# val_labels = train_labels.iloc[val_idx]\n",
        "\n",
        "# # delete the val indexes from the train data\n",
        "# train_data = np.delete(train_data, val_idx, axis=0)\n",
        "# train_labels = train_labels.drop(train_labels.index[[val_idx]])\n",
        "\n",
        "# # Val sets\n",
        "# val_data = np.load('{}x_val_tf-idf_rolling_v2.npy'.format(data_loc))\n",
        "# read_val_labels = pd.read_csv('{}y_train_tf-idf_rolling_v2.csv'.format(data_loc))\n",
        "# val_labels = read_val_labels['Label'] == 'Anomaly'\n",
        "# val_labels = val_labels.astype(int) # may not make sense to have an an int\n",
        "\n",
        "train_data, val_data, train_labels, val_labels = train_test_split(train_data, train_labels, test_size=0.2, random_state=42)\n"
      ],
      "execution_count": 103,
      "outputs": []
    },
    {
      "cell_type": "code",
      "metadata": {
        "colab": {
          "base_uri": "https://localhost:8080/"
        },
        "id": "ta7khuA6F3e7",
        "outputId": "e6f2e703-5b5e-4aca-cd45-7078af6f3115"
      },
      "source": [
        "train_labels = train_labels.reset_index(drop=True)\n",
        "val_labels = val_labels.reset_index(drop=True)\n",
        "\n",
        "print(\"train data\")\n",
        "print(train_data.shape)\n",
        "print(train_labels.shape)\n",
        "print(\"val data\")\n",
        "print(val_data.shape)\n",
        "print(val_labels.shape)"
      ],
      "execution_count": 104,
      "outputs": [
        {
          "output_type": "stream",
          "text": [
            "train data\n",
            "(315602, 16, 46)\n",
            "(315602,)\n",
            "val data\n",
            "(78901, 16, 46)\n",
            "(78901,)\n"
          ],
          "name": "stdout"
        }
      ]
    },
    {
      "cell_type": "code",
      "metadata": {
        "id": "cD9rnBQo-yUv"
      },
      "source": [
        "# for testing on a subset\n",
        "# sub_set_size = 10000 * 3\n",
        "# train_data = train_data[0:sub_set_size]\n",
        "# test_data = test_data[0:sub_set_size]\n",
        "# val_data = val_data[0:sub_set_size]\n",
        "# val_labels = val_labels[0:sub_set_size]\n",
        "# train_labels = train_labels[0:sub_set_size]\n",
        "# test_labels = test_labels[0:sub_set_size]"
      ],
      "execution_count": 105,
      "outputs": []
    },
    {
      "cell_type": "code",
      "metadata": {
        "colab": {
          "base_uri": "https://localhost:8080/"
        },
        "id": "fwQ39FNo-yUv",
        "outputId": "8b2957c2-1330-4554-af92-a7e7a4870f7f"
      },
      "source": [
        "data_dims = (train_data[1], train_data[2])\n",
        "print(train_data.shape)"
      ],
      "execution_count": 106,
      "outputs": [
        {
          "output_type": "stream",
          "text": [
            "(315602, 16, 46)\n"
          ],
          "name": "stdout"
        }
      ]
    },
    {
      "cell_type": "code",
      "metadata": {
        "colab": {
          "base_uri": "https://localhost:8080/"
        },
        "id": "iSMHqrN8-yUx",
        "outputId": "4268e103-33e5-4a6b-f331-090faad4cec4"
      },
      "source": [
        "print(train_labels.shape)\n",
        "print(train_labels[0:5])\n",
        "print(type(train_labels))"
      ],
      "execution_count": 107,
      "outputs": [
        {
          "output_type": "stream",
          "text": [
            "(315602,)\n",
            "0    0\n",
            "1    1\n",
            "2    0\n",
            "3    0\n",
            "4    0\n",
            "Name: Label, dtype: int64\n",
            "<class 'pandas.core.series.Series'>\n"
          ],
          "name": "stdout"
        }
      ]
    },
    {
      "cell_type": "code",
      "metadata": {
        "id": "Ydv5J-MW-yUx"
      },
      "source": [
        "# train_labels = pd.get_dummies(train_labels)\n",
        "# train_labels.values"
      ],
      "execution_count": 108,
      "outputs": []
    },
    {
      "cell_type": "code",
      "metadata": {
        "id": "sPraFUqn-yUx"
      },
      "source": [
        "class logDataset(Dataset):\n",
        "    \"\"\"Log Anomaly Features Dataset\"\"\"\n",
        "    \n",
        "    def __init__(self, data_vec, labels=None):\n",
        "        self.X = data_vec\n",
        "        self.y = labels\n",
        "        \n",
        "    def __len__(self):\n",
        "        return len(self.X)\n",
        "        \n",
        "    def __getitem__(self, idx):\n",
        "        data_matrix = self.X[idx]\n",
        "        \n",
        "        if not self.y is None:\n",
        "            return(data_matrix, self.y[idx])\n",
        "        else:\n",
        "            return data_matrix\n"
      ],
      "execution_count": 109,
      "outputs": []
    },
    {
      "cell_type": "code",
      "metadata": {
        "id": "aUdjevQL-yUy"
      },
      "source": [
        ""
      ],
      "execution_count": 109,
      "outputs": []
    },
    {
      "cell_type": "code",
      "metadata": {
        "id": "Ol2-sxy5-yUy"
      },
      "source": [
        "# Convert to tensort and pad matrixes to have dims of 20x48 instead of 19x48\n",
        "# Also need to add a dimension for conv2D\n",
        "train_data = torch.tensor(train_data, dtype=torch.float32)\n",
        "train_data = F.pad(input=train_data, pad=(0, 0, 0, 1), mode='constant', value=0) # pad the bottom with 0s\n",
        "train_data = np.expand_dims(train_data, axis=1)\n",
        "test_data = torch.tensor(test_data, dtype=torch.float32)\n",
        "test_data = F.pad(input=test_data, pad=(0, 0, 0, 1), mode='constant', value=0)\n",
        "test_data = np.expand_dims(test_data, axis=1)\n",
        "val_data = torch.tensor(val_data, dtype=torch.float32)\n",
        "val_data = F.pad(input=val_data, pad=(0, 0, 0, 1), mode='constant', value=0)\n",
        "val_data = np.expand_dims(val_data, axis=1)"
      ],
      "execution_count": 110,
      "outputs": []
    },
    {
      "cell_type": "code",
      "metadata": {
        "id": "pK3Igl7j-yUz"
      },
      "source": [
        ""
      ],
      "execution_count": 110,
      "outputs": []
    },
    {
      "cell_type": "code",
      "metadata": {
        "colab": {
          "base_uri": "https://localhost:8080/"
        },
        "id": "Vm7eovFP-yUz",
        "outputId": "bcb7629b-8b60-453d-a2c8-b480d7ae0bc9"
      },
      "source": [
        "val_data.shape"
      ],
      "execution_count": 111,
      "outputs": [
        {
          "output_type": "execute_result",
          "data": {
            "text/plain": [
              "(78901, 1, 17, 46)"
            ]
          },
          "metadata": {
            "tags": []
          },
          "execution_count": 111
        }
      ]
    },
    {
      "cell_type": "code",
      "metadata": {
        "id": "ShW0RdNY-yU0"
      },
      "source": [
        "# Hyperparameters\n",
        "RANDOM_SEED = 1\n",
        "# THESE ARE ALL STARTING POINTS BASED ON LAB3\n",
        "LEARNING_RATE = 0.001\n",
        "BATCH_SIZE = 128\n",
        "NUM_EPOCHS = 10\n",
        "\n",
        "# Architecture\n",
        "# NUM_FEATURES = data_dims[0] * data_dims[1] # not sure this is needed currently\n",
        "\n",
        "# not sure we should be using an architecture with 2 classes with softmax\n",
        "# doesn't it make more sense to have a single output node\n",
        "# previous labs/lectures have 2 classes with softmax which is somewhat confusing\n",
        "NUM_CLASSES = 2\n",
        "\n",
        "# Other\n",
        "if torch.cuda.is_available():\n",
        "    DEVICE = \"cuda:0\"\n",
        "else:\n",
        "    DEVICE = \"cpu\"\n"
      ],
      "execution_count": 112,
      "outputs": []
    },
    {
      "cell_type": "code",
      "metadata": {
        "id": "I7_3tMRl-yU0"
      },
      "source": [
        "# pass datasets into the custom dataclass\n",
        "train_dataset = logDataset(train_data, labels = train_labels)\n",
        "test_dataset = logDataset(test_data, labels = test_labels)\n",
        "val_dataset = logDataset(val_data, labels = val_labels)"
      ],
      "execution_count": 113,
      "outputs": []
    },
    {
      "cell_type": "code",
      "metadata": {
        "id": "wYbeU4R2-yU1"
      },
      "source": [
        "# just a check that it worked\n",
        "# train_dataset.__getitem__(3)"
      ],
      "execution_count": 114,
      "outputs": []
    },
    {
      "cell_type": "code",
      "metadata": {
        "colab": {
          "base_uri": "https://localhost:8080/"
        },
        "id": "zWwa2PG_-yU1",
        "outputId": "b1c93b4a-afa2-4aa6-bbcf-5d48227ce5e4"
      },
      "source": [
        "# use DataLoader class\n",
        "train_loader = DataLoader(dataset=train_dataset, \n",
        "                          batch_size=BATCH_SIZE, \n",
        "                          num_workers=0, # couldn't use workers https://github.com/fastai/fastbook/issues/85\n",
        "                          shuffle=True)\n",
        "\n",
        "test_loader = DataLoader(dataset=test_dataset, \n",
        "                         batch_size=BATCH_SIZE,\n",
        "                         num_workers=0,\n",
        "                         shuffle=False)\n",
        "\n",
        "val_loader = DataLoader(dataset=val_dataset, \n",
        "                         batch_size=BATCH_SIZE,\n",
        "                         num_workers=0,\n",
        "                         shuffle=False)\n",
        "\n",
        "\n",
        "# Checking the dataset\n",
        "for data, labels in train_loader:  \n",
        "    print('Matrix batch dimensions:', data.shape)\n",
        "    print('Matrix label dimensions:', labels.shape)\n",
        "    break\n",
        "\n",
        "# Checking the dataset\n",
        "for data, labels in test_loader:  \n",
        "    print('Matrix batch dimensions:', data.shape)\n",
        "    print('Matrix label dimensions:', labels.shape)\n",
        "    break\n",
        "    \n",
        "# Checking the dataset\n",
        "for data, labels in val_loader:  \n",
        "    print('Matrix batch dimensions:', data.shape)\n",
        "    print('Matrix label dimensions:', labels.shape)\n",
        "    break"
      ],
      "execution_count": 115,
      "outputs": [
        {
          "output_type": "stream",
          "text": [
            "Matrix batch dimensions: torch.Size([128, 1, 17, 46])\n",
            "Matrix label dimensions: torch.Size([128])\n",
            "Matrix batch dimensions: torch.Size([128, 1, 17, 46])\n",
            "Matrix label dimensions: torch.Size([128])\n",
            "Matrix batch dimensions: torch.Size([128, 1, 17, 46])\n",
            "Matrix label dimensions: torch.Size([128])\n"
          ],
          "name": "stdout"
        }
      ]
    },
    {
      "cell_type": "markdown",
      "metadata": {
        "id": "hbvFNaRk-yU2"
      },
      "source": [
        "## Setup Model"
      ]
    },
    {
      "cell_type": "code",
      "metadata": {
        "colab": {
          "base_uri": "https://localhost:8080/"
        },
        "id": "KFxoCAHg-yU2",
        "outputId": "8bdd0c6d-2706-4269-a874-c97605b9371d"
      },
      "source": [
        "# this is something to do with warming up the nn\n",
        "# NEED TO FIGURE THIS OUT AND KEEP OR REMOVE\n",
        "device = torch.device(DEVICE)\n",
        "torch.manual_seed(0)\n",
        "\n",
        "for epoch in range(2):\n",
        "\n",
        "    for batch_idx, (x, y) in enumerate(train_loader):\n",
        "        \n",
        "        print('Epoch:', epoch+1, end='')\n",
        "        print(' | Batch index:', batch_idx, end='')\n",
        "        print(' | Batch size:', y.size()[0])\n",
        "        \n",
        "        x = x.to(device)\n",
        "        y = y.to(device)\n",
        "        break"
      ],
      "execution_count": 116,
      "outputs": [
        {
          "output_type": "stream",
          "text": [
            "Epoch: 1 | Batch index: 0 | Batch size: 128\n",
            "Epoch: 2 | Batch index: 0 | Batch size: 128\n"
          ],
          "name": "stdout"
        }
      ]
    },
    {
      "cell_type": "code",
      "metadata": {
        "id": "doCsnPrG-yU2"
      },
      "source": [
        "##########################\n",
        "### MODEL\n",
        "##########################\n",
        "\n",
        "\n",
        "class logCNN(nn.Module):\n",
        "\n",
        "    def __init__(self, num_classes):\n",
        "        super(logCNN, self).__init__()\n",
        "        # noticed that in many of the example models we're initializing weights and biases but\n",
        "        # not in the CNN example, check into this\n",
        "        self.num_classes = num_classes\n",
        "        self.features = nn.Sequential(\n",
        "            \n",
        "            # Selection of 16 and 32 based on discussion with Debangsha, use for now\n",
        "            # will need to figure out kernel size that works for dims and potentially add pooling\n",
        "            # need to figure out how to deal with non-square image\n",
        "            # goes in as 20x48\n",
        "            nn.Conv2d(1, 16, kernel_size=2),\n",
        "            # comes out as 19x47\n",
        "            nn.ReLU(),\n",
        "            nn.MaxPool2d(kernel_size=2),\n",
        "            # comes out as ???\n",
        "            nn.Conv2d(16, 32, kernel_size=2), # can also add padding directly into here (but is equal on either side) - (1, 2) 1 on left and right and 2 each above and below\n",
        "            nn.ReLU(),\n",
        "            nn.MaxPool2d(kernel_size=2)\n",
        "        )\n",
        "\n",
        "        self.classifier = nn.Sequential(\n",
        "            # NEED TO FIGURE OUT THE SIZE OF THE IMAGE\n",
        "            nn.Linear(960, 120), # NEED TO DECIDE ON NUMBER OF NODES (120 BASED ON LAB3) ## NB changed to 1280 from 1408 based on error\n",
        "            nn.ReLU(),\n",
        "            # Maybe later try deleting below 2 lines to make the network shallower, hence reducing overfitting\n",
        "            nn.Linear(120, 84), # NEED TO DECIDE ON NUMBER OF NODES (84 BASED ON LAB3)\n",
        "            nn.ReLU(),\n",
        "            nn.Linear(84, num_classes), # NOT SURE WE WANT TO BE USING 2 NODE OUTPUT\n",
        "        )\n",
        "\n",
        "\n",
        "    def forward(self, x):\n",
        "        x = self.features(x)\n",
        "        x = torch.flatten(x, 1)\n",
        "#         print(x.shape) # Was printing in the training logging\n",
        "        logits = self.classifier(x)\n",
        "        probas = F.softmax(logits, dim=1)\n",
        "        return logits, probas\n"
      ],
      "execution_count": 117,
      "outputs": []
    },
    {
      "cell_type": "code",
      "metadata": {
        "id": "EZLIAStI-yU3"
      },
      "source": [
        "torch.manual_seed(RANDOM_SEED)\n",
        "\n",
        "model = logCNN(NUM_CLASSES) # THIS WILL BE UPDATED IF NOT USING 2 OUTPUT NODES\n",
        "model.to(DEVICE)\n",
        "\n",
        "optimizer = torch.optim.Adam(model.parameters(), lr=LEARNING_RATE)"
      ],
      "execution_count": 118,
      "outputs": []
    },
    {
      "cell_type": "markdown",
      "metadata": {
        "id": "Dr-b4WVw-yU3"
      },
      "source": [
        "# Train Model"
      ]
    },
    {
      "cell_type": "code",
      "metadata": {
        "tags": [
          "outputPrepend"
        ],
        "colab": {
          "base_uri": "https://localhost:8080/"
        },
        "id": "SeNobFr9-yU4",
        "outputId": "191d2ce0-8206-43ce-b153-015db1d17748"
      },
      "source": [
        "# NEED TO FIGURE OUT THE BEST FUNCTION FOR ACCURACY\n",
        "# NEED TO FOCUS ON TRUE/FALSE, NOT ON CLASSES\n",
        "def compute_accuracy(model, data_loader, device):\n",
        "    correct_pred, num_examples = 0, 0\n",
        "    for i, (features, targets) in enumerate(data_loader):\n",
        "            \n",
        "        features = features.to(DEVICE)\n",
        "        \n",
        "        # NOTE TO SELF WHEN CHANGING INT TARGETS AT TOP OF NOTEBOOK, WILL ALSO HAVE TO CHANGE / REMOVE .long here\n",
        "        targets = targets.to(DEVICE, dtype=torch.long) # had to pass in to torch.long based on the 1, 0 int labels\n",
        "\n",
        "        logits, probas = model(features)\n",
        "        _, predicted_labels = torch.max(probas, 1)\n",
        "        num_examples += targets.size(0)\n",
        "        correct_pred += (predicted_labels == targets).sum()\n",
        "    return correct_pred.float()/num_examples * 100\n",
        "\n",
        "# This needs to be vectorized\n",
        "def compute_f1(model, data_loader, device):\n",
        "    y_hats = []\n",
        "    y_acts = []\n",
        "    for i, (inputs, targets) in enumerate(data_loader):\n",
        "        yhat = model(inputs)[-1].cpu().detach().numpy().round()\n",
        "        yhat = np.argmax(yhat, axis=1)\n",
        "        y_hats.append(yhat)\n",
        "        y_acts.append(list(targets.cpu().detach().numpy()))\n",
        "    \n",
        "    y_hats = [item for sublist in y_hats for item in sublist]\n",
        "    y_acts = [item for sublist in y_acts for item in sublist]\n",
        "    return f1_score(y_acts, y_hats)\n",
        "\n",
        "  \n",
        "\n",
        "start_time = time.time()\n",
        "minibatch_cost = [] # this isn't in the CNN model example but is from lecture 3 example files\n",
        "epoch_train_performance = []\n",
        "epoch_val_performance = []\n",
        "\n",
        "# criterion = nn.BCEWithLogitsLoss()\n",
        "\n",
        "for epoch in range(NUM_EPOCHS):\n",
        "    \n",
        "    model.train()\n",
        "    for batch_idx, (features, targets) in enumerate(train_loader):\n",
        "        \n",
        "        features = features.to(DEVICE)\n",
        "        targets = targets.to(DEVICE, dtype=torch.long) # another had to use torch.long\n",
        "            \n",
        "        ### FORWARD AND BACK PROP\n",
        "        logits, probas = model(features)\n",
        "        \n",
        "        # try binary CE\n",
        "        cost = F.cross_entropy(logits, targets) # NEED TO MODIFY BASED ON BEST COST FUNCTION\n",
        "\n",
        "#         loss = criterion(logits, targets.unsqueeze(1))\n",
        "\n",
        "        optimizer.zero_grad()\n",
        "        \n",
        "        cost.backward()\n",
        "#         loss.backward()\n",
        "        minibatch_cost.append(cost) # from lecture 3 example files\n",
        "        \n",
        "        ### UPDATE MODEL PARAMETERS\n",
        "        optimizer.step()\n",
        "        \n",
        "        ### LOGGING - MAY WANT TO MODIFY LOGGING INTERVALS\n",
        "        if not batch_idx % 50:\n",
        "            print ('Epoch: %03d/%03d | Batch %04d/%04d | Cost: %.4f' \n",
        "                   %(epoch+1, NUM_EPOCHS, batch_idx, \n",
        "                     len(train_loader), cost, ))\n",
        "\n",
        "        \n",
        "    model.eval()\n",
        "    with torch.set_grad_enabled(False): # save memory during inference\n",
        "        train_performance = compute_f1(model, train_loader, device=DEVICE)\n",
        "        val_performance = compute_f1(model, val_loader, device=DEVICE)\n",
        "        epoch_train_performance.append(train_performance) # from lecture 3 example files\n",
        "        epoch_val_performance.append(val_performance)\n",
        "        print('Epoch: %03d/%03d | Train: %.3f%%   | Val: %.3f%%' % (\n",
        "              epoch+1, NUM_EPOCHS, train_performance, val_performance))\n",
        "        \n",
        "    print('Time elapsed: %.2f min' % ((time.time() - start_time)/60))\n",
        "    \n",
        "print('Total Training Time: %.2f min' % ((time.time() - start_time)/60))"
      ],
      "execution_count": 119,
      "outputs": [
        {
          "output_type": "stream",
          "text": [
            "Epoch: 001/010 | Batch 0000/2466 | Cost: 0.7804\n",
            "Epoch: 001/010 | Batch 0050/2466 | Cost: 0.1301\n",
            "Epoch: 001/010 | Batch 0100/2466 | Cost: 0.0067\n",
            "Epoch: 001/010 | Batch 0150/2466 | Cost: 0.0214\n",
            "Epoch: 001/010 | Batch 0200/2466 | Cost: 0.0234\n",
            "Epoch: 001/010 | Batch 0250/2466 | Cost: 0.0020\n",
            "Epoch: 001/010 | Batch 0300/2466 | Cost: 0.0044\n",
            "Epoch: 001/010 | Batch 0350/2466 | Cost: 0.0049\n",
            "Epoch: 001/010 | Batch 0400/2466 | Cost: 0.0019\n",
            "Epoch: 001/010 | Batch 0450/2466 | Cost: 0.0006\n",
            "Epoch: 001/010 | Batch 0500/2466 | Cost: 0.0002\n",
            "Epoch: 001/010 | Batch 0550/2466 | Cost: 0.0007\n",
            "Epoch: 001/010 | Batch 0600/2466 | Cost: 0.0357\n",
            "Epoch: 001/010 | Batch 0650/2466 | Cost: 0.0001\n",
            "Epoch: 001/010 | Batch 0700/2466 | Cost: 0.0009\n",
            "Epoch: 001/010 | Batch 0750/2466 | Cost: 0.0001\n",
            "Epoch: 001/010 | Batch 0800/2466 | Cost: 0.0093\n",
            "Epoch: 001/010 | Batch 0850/2466 | Cost: 0.0025\n",
            "Epoch: 001/010 | Batch 0900/2466 | Cost: 0.0001\n",
            "Epoch: 001/010 | Batch 0950/2466 | Cost: 0.0000\n",
            "Epoch: 001/010 | Batch 1000/2466 | Cost: 0.0002\n",
            "Epoch: 001/010 | Batch 1050/2466 | Cost: 0.0001\n",
            "Epoch: 001/010 | Batch 1100/2466 | Cost: 0.0124\n",
            "Epoch: 001/010 | Batch 1150/2466 | Cost: 0.0084\n",
            "Epoch: 001/010 | Batch 1200/2466 | Cost: 0.0015\n",
            "Epoch: 001/010 | Batch 1250/2466 | Cost: 0.0007\n",
            "Epoch: 001/010 | Batch 1300/2466 | Cost: 0.0000\n",
            "Epoch: 001/010 | Batch 1350/2466 | Cost: 0.0007\n",
            "Epoch: 001/010 | Batch 1400/2466 | Cost: 0.0001\n",
            "Epoch: 001/010 | Batch 1450/2466 | Cost: 0.0009\n",
            "Epoch: 001/010 | Batch 1500/2466 | Cost: 0.0000\n",
            "Epoch: 001/010 | Batch 1550/2466 | Cost: 0.0010\n",
            "Epoch: 001/010 | Batch 1600/2466 | Cost: 0.0027\n",
            "Epoch: 001/010 | Batch 1650/2466 | Cost: 0.0005\n",
            "Epoch: 001/010 | Batch 1700/2466 | Cost: 0.0005\n",
            "Epoch: 001/010 | Batch 1750/2466 | Cost: 0.0000\n",
            "Epoch: 001/010 | Batch 1800/2466 | Cost: 0.0021\n",
            "Epoch: 001/010 | Batch 1850/2466 | Cost: 0.0069\n",
            "Epoch: 001/010 | Batch 1900/2466 | Cost: 0.0018\n",
            "Epoch: 001/010 | Batch 1950/2466 | Cost: 0.0015\n",
            "Epoch: 001/010 | Batch 2000/2466 | Cost: 0.0001\n",
            "Epoch: 001/010 | Batch 2050/2466 | Cost: 0.0000\n",
            "Epoch: 001/010 | Batch 2100/2466 | Cost: 0.0002\n",
            "Epoch: 001/010 | Batch 2150/2466 | Cost: 0.0000\n",
            "Epoch: 001/010 | Batch 2200/2466 | Cost: 0.0345\n",
            "Epoch: 001/010 | Batch 2250/2466 | Cost: 0.0001\n",
            "Epoch: 001/010 | Batch 2300/2466 | Cost: 0.0186\n",
            "Epoch: 001/010 | Batch 2350/2466 | Cost: 0.0023\n",
            "Epoch: 001/010 | Batch 2400/2466 | Cost: 0.0001\n",
            "Epoch: 001/010 | Batch 2450/2466 | Cost: 0.0001\n",
            "Epoch: 001/010 | Train: 0.991%   | Val: 0.991%\n",
            "Time elapsed: 3.12 min\n",
            "Epoch: 002/010 | Batch 0000/2466 | Cost: 0.0000\n",
            "Epoch: 002/010 | Batch 0050/2466 | Cost: 0.0000\n",
            "Epoch: 002/010 | Batch 0100/2466 | Cost: 0.0003\n",
            "Epoch: 002/010 | Batch 0150/2466 | Cost: 0.0001\n",
            "Epoch: 002/010 | Batch 0200/2466 | Cost: 0.0007\n",
            "Epoch: 002/010 | Batch 0250/2466 | Cost: 0.0000\n",
            "Epoch: 002/010 | Batch 0300/2466 | Cost: 0.0011\n",
            "Epoch: 002/010 | Batch 0350/2466 | Cost: 0.0007\n",
            "Epoch: 002/010 | Batch 0400/2466 | Cost: 0.0004\n",
            "Epoch: 002/010 | Batch 0450/2466 | Cost: 0.0000\n",
            "Epoch: 002/010 | Batch 0500/2466 | Cost: 0.0000\n",
            "Epoch: 002/010 | Batch 0550/2466 | Cost: 0.0000\n",
            "Epoch: 002/010 | Batch 0600/2466 | Cost: 0.0001\n",
            "Epoch: 002/010 | Batch 0650/2466 | Cost: 0.0001\n",
            "Epoch: 002/010 | Batch 0700/2466 | Cost: 0.0000\n",
            "Epoch: 002/010 | Batch 0750/2466 | Cost: 0.0001\n",
            "Epoch: 002/010 | Batch 0800/2466 | Cost: 0.0002\n",
            "Epoch: 002/010 | Batch 0850/2466 | Cost: 0.0000\n",
            "Epoch: 002/010 | Batch 0900/2466 | Cost: 0.0001\n",
            "Epoch: 002/010 | Batch 0950/2466 | Cost: 0.0001\n",
            "Epoch: 002/010 | Batch 1000/2466 | Cost: 0.0009\n",
            "Epoch: 002/010 | Batch 1050/2466 | Cost: 0.0002\n",
            "Epoch: 002/010 | Batch 1100/2466 | Cost: 0.0001\n",
            "Epoch: 002/010 | Batch 1150/2466 | Cost: 0.0014\n",
            "Epoch: 002/010 | Batch 1200/2466 | Cost: 0.0043\n",
            "Epoch: 002/010 | Batch 1250/2466 | Cost: 0.0002\n",
            "Epoch: 002/010 | Batch 1300/2466 | Cost: 0.0001\n",
            "Epoch: 002/010 | Batch 1350/2466 | Cost: 0.0000\n",
            "Epoch: 002/010 | Batch 1400/2466 | Cost: 0.0002\n",
            "Epoch: 002/010 | Batch 1450/2466 | Cost: 0.0000\n",
            "Epoch: 002/010 | Batch 1500/2466 | Cost: 0.0000\n",
            "Epoch: 002/010 | Batch 1550/2466 | Cost: 0.0000\n",
            "Epoch: 002/010 | Batch 1600/2466 | Cost: 0.0015\n",
            "Epoch: 002/010 | Batch 1650/2466 | Cost: 0.0000\n",
            "Epoch: 002/010 | Batch 1700/2466 | Cost: 0.0001\n",
            "Epoch: 002/010 | Batch 1750/2466 | Cost: 0.0012\n",
            "Epoch: 002/010 | Batch 1800/2466 | Cost: 0.0000\n",
            "Epoch: 002/010 | Batch 1850/2466 | Cost: 0.0012\n",
            "Epoch: 002/010 | Batch 1900/2466 | Cost: 0.0000\n",
            "Epoch: 002/010 | Batch 1950/2466 | Cost: 0.0010\n",
            "Epoch: 002/010 | Batch 2000/2466 | Cost: 0.0000\n",
            "Epoch: 002/010 | Batch 2050/2466 | Cost: 0.0000\n",
            "Epoch: 002/010 | Batch 2100/2466 | Cost: 0.0019\n",
            "Epoch: 002/010 | Batch 2150/2466 | Cost: 0.0000\n",
            "Epoch: 002/010 | Batch 2200/2466 | Cost: 0.0001\n",
            "Epoch: 002/010 | Batch 2250/2466 | Cost: 0.0001\n",
            "Epoch: 002/010 | Batch 2300/2466 | Cost: 0.0000\n",
            "Epoch: 002/010 | Batch 2350/2466 | Cost: 0.0007\n",
            "Epoch: 002/010 | Batch 2400/2466 | Cost: 0.0001\n",
            "Epoch: 002/010 | Batch 2450/2466 | Cost: 0.0002\n",
            "Epoch: 002/010 | Train: 0.994%   | Val: 0.994%\n",
            "Time elapsed: 6.24 min\n",
            "Epoch: 003/010 | Batch 0000/2466 | Cost: 0.0000\n",
            "Epoch: 003/010 | Batch 0050/2466 | Cost: 0.0000\n",
            "Epoch: 003/010 | Batch 0100/2466 | Cost: 0.0000\n",
            "Epoch: 003/010 | Batch 0150/2466 | Cost: 0.0000\n",
            "Epoch: 003/010 | Batch 0200/2466 | Cost: 0.0003\n",
            "Epoch: 003/010 | Batch 0250/2466 | Cost: 0.0019\n",
            "Epoch: 003/010 | Batch 0300/2466 | Cost: 0.0001\n",
            "Epoch: 003/010 | Batch 0350/2466 | Cost: 0.0001\n",
            "Epoch: 003/010 | Batch 0400/2466 | Cost: 0.0000\n",
            "Epoch: 003/010 | Batch 0450/2466 | Cost: 0.0003\n",
            "Epoch: 003/010 | Batch 0500/2466 | Cost: 0.0003\n",
            "Epoch: 003/010 | Batch 0550/2466 | Cost: 0.0005\n",
            "Epoch: 003/010 | Batch 0600/2466 | Cost: 0.0018\n",
            "Epoch: 003/010 | Batch 0650/2466 | Cost: 0.0008\n",
            "Epoch: 003/010 | Batch 0700/2466 | Cost: 0.0000\n",
            "Epoch: 003/010 | Batch 0750/2466 | Cost: 0.0000\n",
            "Epoch: 003/010 | Batch 0800/2466 | Cost: 0.0000\n",
            "Epoch: 003/010 | Batch 0850/2466 | Cost: 0.0004\n",
            "Epoch: 003/010 | Batch 0900/2466 | Cost: 0.0001\n",
            "Epoch: 003/010 | Batch 0950/2466 | Cost: 0.0003\n",
            "Epoch: 003/010 | Batch 1000/2466 | Cost: 0.0000\n",
            "Epoch: 003/010 | Batch 1050/2466 | Cost: 0.0037\n",
            "Epoch: 003/010 | Batch 1100/2466 | Cost: 0.0000\n",
            "Epoch: 003/010 | Batch 1150/2466 | Cost: 0.0001\n",
            "Epoch: 003/010 | Batch 1200/2466 | Cost: 0.0000\n",
            "Epoch: 003/010 | Batch 1250/2466 | Cost: 0.0000\n",
            "Epoch: 003/010 | Batch 1300/2466 | Cost: 0.0001\n",
            "Epoch: 003/010 | Batch 1350/2466 | Cost: 0.0162\n",
            "Epoch: 003/010 | Batch 1400/2466 | Cost: 0.0000\n",
            "Epoch: 003/010 | Batch 1450/2466 | Cost: 0.0000\n",
            "Epoch: 003/010 | Batch 1500/2466 | Cost: 0.0013\n",
            "Epoch: 003/010 | Batch 1550/2466 | Cost: 0.0000\n",
            "Epoch: 003/010 | Batch 1600/2466 | Cost: 0.0000\n",
            "Epoch: 003/010 | Batch 1650/2466 | Cost: 0.0002\n",
            "Epoch: 003/010 | Batch 1700/2466 | Cost: 0.0004\n",
            "Epoch: 003/010 | Batch 1750/2466 | Cost: 0.0001\n",
            "Epoch: 003/010 | Batch 1800/2466 | Cost: 0.0003\n",
            "Epoch: 003/010 | Batch 1850/2466 | Cost: 0.0004\n",
            "Epoch: 003/010 | Batch 1900/2466 | Cost: 0.0000\n",
            "Epoch: 003/010 | Batch 1950/2466 | Cost: 0.0000\n",
            "Epoch: 003/010 | Batch 2000/2466 | Cost: 0.0000\n",
            "Epoch: 003/010 | Batch 2050/2466 | Cost: 0.0006\n",
            "Epoch: 003/010 | Batch 2100/2466 | Cost: 0.0000\n",
            "Epoch: 003/010 | Batch 2150/2466 | Cost: 0.0000\n",
            "Epoch: 003/010 | Batch 2200/2466 | Cost: 0.0000\n",
            "Epoch: 003/010 | Batch 2250/2466 | Cost: 0.0000\n",
            "Epoch: 003/010 | Batch 2300/2466 | Cost: 0.0000\n",
            "Epoch: 003/010 | Batch 2350/2466 | Cost: 0.0019\n",
            "Epoch: 003/010 | Batch 2400/2466 | Cost: 0.0152\n",
            "Epoch: 003/010 | Batch 2450/2466 | Cost: 0.0002\n",
            "Epoch: 003/010 | Train: 0.991%   | Val: 0.993%\n",
            "Time elapsed: 9.36 min\n",
            "Epoch: 004/010 | Batch 0000/2466 | Cost: 0.0000\n",
            "Epoch: 004/010 | Batch 0050/2466 | Cost: 0.0005\n",
            "Epoch: 004/010 | Batch 0100/2466 | Cost: 0.0001\n",
            "Epoch: 004/010 | Batch 0150/2466 | Cost: 0.0013\n",
            "Epoch: 004/010 | Batch 0200/2466 | Cost: 0.0001\n",
            "Epoch: 004/010 | Batch 0250/2466 | Cost: 0.0174\n",
            "Epoch: 004/010 | Batch 0300/2466 | Cost: 0.0000\n",
            "Epoch: 004/010 | Batch 0350/2466 | Cost: 0.0000\n",
            "Epoch: 004/010 | Batch 0400/2466 | Cost: 0.0005\n",
            "Epoch: 004/010 | Batch 0450/2466 | Cost: 0.0009\n",
            "Epoch: 004/010 | Batch 0500/2466 | Cost: 0.0006\n",
            "Epoch: 004/010 | Batch 0550/2466 | Cost: 0.0001\n",
            "Epoch: 004/010 | Batch 0600/2466 | Cost: 0.0001\n",
            "Epoch: 004/010 | Batch 0650/2466 | Cost: 0.0000\n",
            "Epoch: 004/010 | Batch 0700/2466 | Cost: 0.0003\n",
            "Epoch: 004/010 | Batch 0750/2466 | Cost: 0.0086\n",
            "Epoch: 004/010 | Batch 0800/2466 | Cost: 0.0003\n",
            "Epoch: 004/010 | Batch 0850/2466 | Cost: 0.0013\n",
            "Epoch: 004/010 | Batch 0900/2466 | Cost: 0.0000\n",
            "Epoch: 004/010 | Batch 0950/2466 | Cost: 0.0073\n",
            "Epoch: 004/010 | Batch 1000/2466 | Cost: 0.0001\n",
            "Epoch: 004/010 | Batch 1050/2466 | Cost: 0.0004\n",
            "Epoch: 004/010 | Batch 1100/2466 | Cost: 0.0001\n",
            "Epoch: 004/010 | Batch 1150/2466 | Cost: 0.0013\n",
            "Epoch: 004/010 | Batch 1200/2466 | Cost: 0.0000\n",
            "Epoch: 004/010 | Batch 1250/2466 | Cost: 0.0000\n",
            "Epoch: 004/010 | Batch 1300/2466 | Cost: 0.0000\n",
            "Epoch: 004/010 | Batch 1350/2466 | Cost: 0.0000\n",
            "Epoch: 004/010 | Batch 1400/2466 | Cost: 0.0000\n",
            "Epoch: 004/010 | Batch 1450/2466 | Cost: 0.0003\n",
            "Epoch: 004/010 | Batch 1500/2466 | Cost: 0.0000\n",
            "Epoch: 004/010 | Batch 1550/2466 | Cost: 0.0000\n",
            "Epoch: 004/010 | Batch 1600/2466 | Cost: 0.0000\n",
            "Epoch: 004/010 | Batch 1650/2466 | Cost: 0.0000\n",
            "Epoch: 004/010 | Batch 1700/2466 | Cost: 0.0000\n",
            "Epoch: 004/010 | Batch 1750/2466 | Cost: 0.0008\n",
            "Epoch: 004/010 | Batch 1800/2466 | Cost: 0.0047\n",
            "Epoch: 004/010 | Batch 1850/2466 | Cost: 0.0000\n",
            "Epoch: 004/010 | Batch 1900/2466 | Cost: 0.0007\n",
            "Epoch: 004/010 | Batch 1950/2466 | Cost: 0.0000\n",
            "Epoch: 004/010 | Batch 2000/2466 | Cost: 0.0000\n",
            "Epoch: 004/010 | Batch 2050/2466 | Cost: 0.0001\n",
            "Epoch: 004/010 | Batch 2100/2466 | Cost: 0.0005\n",
            "Epoch: 004/010 | Batch 2150/2466 | Cost: 0.0001\n",
            "Epoch: 004/010 | Batch 2200/2466 | Cost: 0.0000\n",
            "Epoch: 004/010 | Batch 2250/2466 | Cost: 0.0000\n",
            "Epoch: 004/010 | Batch 2300/2466 | Cost: 0.0003\n",
            "Epoch: 004/010 | Batch 2350/2466 | Cost: 0.0000\n",
            "Epoch: 004/010 | Batch 2400/2466 | Cost: 0.0000\n",
            "Epoch: 004/010 | Batch 2450/2466 | Cost: 0.0006\n",
            "Epoch: 004/010 | Train: 0.995%   | Val: 0.997%\n",
            "Time elapsed: 12.51 min\n",
            "Epoch: 005/010 | Batch 0000/2466 | Cost: 0.0000\n",
            "Epoch: 005/010 | Batch 0050/2466 | Cost: 0.0000\n",
            "Epoch: 005/010 | Batch 0100/2466 | Cost: 0.0000\n",
            "Epoch: 005/010 | Batch 0150/2466 | Cost: 0.0000\n",
            "Epoch: 005/010 | Batch 0200/2466 | Cost: 0.0004\n",
            "Epoch: 005/010 | Batch 0250/2466 | Cost: 0.0012\n",
            "Epoch: 005/010 | Batch 0300/2466 | Cost: 0.0004\n",
            "Epoch: 005/010 | Batch 0350/2466 | Cost: 0.0037\n",
            "Epoch: 005/010 | Batch 0400/2466 | Cost: 0.0000\n",
            "Epoch: 005/010 | Batch 0450/2466 | Cost: 0.0000\n",
            "Epoch: 005/010 | Batch 0500/2466 | Cost: 0.0001\n",
            "Epoch: 005/010 | Batch 0550/2466 | Cost: 0.0000\n",
            "Epoch: 005/010 | Batch 0600/2466 | Cost: 0.0000\n",
            "Epoch: 005/010 | Batch 0650/2466 | Cost: 0.0000\n",
            "Epoch: 005/010 | Batch 0700/2466 | Cost: 0.0000\n",
            "Epoch: 005/010 | Batch 0750/2466 | Cost: 0.0008\n",
            "Epoch: 005/010 | Batch 0800/2466 | Cost: 0.0000\n",
            "Epoch: 005/010 | Batch 0850/2466 | Cost: 0.0000\n",
            "Epoch: 005/010 | Batch 0900/2466 | Cost: 0.0000\n",
            "Epoch: 005/010 | Batch 0950/2466 | Cost: 0.0002\n",
            "Epoch: 005/010 | Batch 1000/2466 | Cost: 0.0000\n",
            "Epoch: 005/010 | Batch 1050/2466 | Cost: 0.0001\n",
            "Epoch: 005/010 | Batch 1100/2466 | Cost: 0.0003\n",
            "Epoch: 005/010 | Batch 1150/2466 | Cost: 0.0004\n",
            "Epoch: 005/010 | Batch 1200/2466 | Cost: 0.0000\n",
            "Epoch: 005/010 | Batch 1250/2466 | Cost: 0.0002\n",
            "Epoch: 005/010 | Batch 1300/2466 | Cost: 0.0716\n",
            "Epoch: 005/010 | Batch 1350/2466 | Cost: 0.0001\n",
            "Epoch: 005/010 | Batch 1400/2466 | Cost: 0.0001\n",
            "Epoch: 005/010 | Batch 1450/2466 | Cost: 0.0008\n",
            "Epoch: 005/010 | Batch 1500/2466 | Cost: 0.0002\n",
            "Epoch: 005/010 | Batch 1550/2466 | Cost: 0.0001\n",
            "Epoch: 005/010 | Batch 1600/2466 | Cost: 0.0000\n",
            "Epoch: 005/010 | Batch 1650/2466 | Cost: 0.0002\n",
            "Epoch: 005/010 | Batch 1700/2466 | Cost: 0.0001\n",
            "Epoch: 005/010 | Batch 1750/2466 | Cost: 0.0000\n",
            "Epoch: 005/010 | Batch 1800/2466 | Cost: 0.0002\n",
            "Epoch: 005/010 | Batch 1850/2466 | Cost: 0.0000\n",
            "Epoch: 005/010 | Batch 1900/2466 | Cost: 0.0003\n",
            "Epoch: 005/010 | Batch 1950/2466 | Cost: 0.0001\n",
            "Epoch: 005/010 | Batch 2000/2466 | Cost: 0.0012\n",
            "Epoch: 005/010 | Batch 2050/2466 | Cost: 0.0001\n",
            "Epoch: 005/010 | Batch 2100/2466 | Cost: 0.0000\n",
            "Epoch: 005/010 | Batch 2150/2466 | Cost: 0.0002\n",
            "Epoch: 005/010 | Batch 2200/2466 | Cost: 0.0000\n",
            "Epoch: 005/010 | Batch 2250/2466 | Cost: 0.0005\n",
            "Epoch: 005/010 | Batch 2300/2466 | Cost: 0.0000\n",
            "Epoch: 005/010 | Batch 2350/2466 | Cost: 0.0005\n",
            "Epoch: 005/010 | Batch 2400/2466 | Cost: 0.0001\n",
            "Epoch: 005/010 | Batch 2450/2466 | Cost: 0.0004\n",
            "Epoch: 005/010 | Train: 0.994%   | Val: 0.996%\n",
            "Time elapsed: 15.87 min\n",
            "Epoch: 006/010 | Batch 0000/2466 | Cost: 0.0000\n",
            "Epoch: 006/010 | Batch 0050/2466 | Cost: 0.0000\n",
            "Epoch: 006/010 | Batch 0100/2466 | Cost: 0.0000\n",
            "Epoch: 006/010 | Batch 0150/2466 | Cost: 0.0003\n",
            "Epoch: 006/010 | Batch 0200/2466 | Cost: 0.0002\n",
            "Epoch: 006/010 | Batch 0250/2466 | Cost: 0.0000\n",
            "Epoch: 006/010 | Batch 0300/2466 | Cost: 0.0000\n",
            "Epoch: 006/010 | Batch 0350/2466 | Cost: 0.0000\n",
            "Epoch: 006/010 | Batch 0400/2466 | Cost: 0.0011\n",
            "Epoch: 006/010 | Batch 0450/2466 | Cost: 0.0000\n",
            "Epoch: 006/010 | Batch 0500/2466 | Cost: 0.0001\n",
            "Epoch: 006/010 | Batch 0550/2466 | Cost: 0.0004\n",
            "Epoch: 006/010 | Batch 0600/2466 | Cost: 0.0012\n",
            "Epoch: 006/010 | Batch 0650/2466 | Cost: 0.0000\n",
            "Epoch: 006/010 | Batch 0700/2466 | Cost: 0.0000\n",
            "Epoch: 006/010 | Batch 0750/2466 | Cost: 0.0000\n",
            "Epoch: 006/010 | Batch 0800/2466 | Cost: 0.0001\n",
            "Epoch: 006/010 | Batch 0850/2466 | Cost: 0.0001\n",
            "Epoch: 006/010 | Batch 0900/2466 | Cost: 0.0001\n",
            "Epoch: 006/010 | Batch 0950/2466 | Cost: 0.0002\n",
            "Epoch: 006/010 | Batch 1000/2466 | Cost: 0.0001\n",
            "Epoch: 006/010 | Batch 1050/2466 | Cost: 0.0019\n",
            "Epoch: 006/010 | Batch 1100/2466 | Cost: 0.0000\n",
            "Epoch: 006/010 | Batch 1150/2466 | Cost: 0.0000\n",
            "Epoch: 006/010 | Batch 1200/2466 | Cost: 0.0001\n",
            "Epoch: 006/010 | Batch 1250/2466 | Cost: 0.0337\n",
            "Epoch: 006/010 | Batch 1300/2466 | Cost: 0.0007\n",
            "Epoch: 006/010 | Batch 1350/2466 | Cost: 0.0000\n",
            "Epoch: 006/010 | Batch 1400/2466 | Cost: 0.0000\n",
            "Epoch: 006/010 | Batch 1450/2466 | Cost: 0.0001\n",
            "Epoch: 006/010 | Batch 1500/2466 | Cost: 0.0000\n",
            "Epoch: 006/010 | Batch 1550/2466 | Cost: 0.0000\n",
            "Epoch: 006/010 | Batch 1600/2466 | Cost: 0.0003\n",
            "Epoch: 006/010 | Batch 1650/2466 | Cost: 0.0004\n",
            "Epoch: 006/010 | Batch 1700/2466 | Cost: 0.0000\n",
            "Epoch: 006/010 | Batch 1750/2466 | Cost: 0.0004\n",
            "Epoch: 006/010 | Batch 1800/2466 | Cost: 0.0001\n",
            "Epoch: 006/010 | Batch 1850/2466 | Cost: 0.0017\n",
            "Epoch: 006/010 | Batch 1900/2466 | Cost: 0.0000\n",
            "Epoch: 006/010 | Batch 1950/2466 | Cost: 0.0001\n",
            "Epoch: 006/010 | Batch 2000/2466 | Cost: 0.0000\n",
            "Epoch: 006/010 | Batch 2050/2466 | Cost: 0.0001\n",
            "Epoch: 006/010 | Batch 2100/2466 | Cost: 0.0000\n",
            "Epoch: 006/010 | Batch 2150/2466 | Cost: 0.0001\n",
            "Epoch: 006/010 | Batch 2200/2466 | Cost: 0.0000\n",
            "Epoch: 006/010 | Batch 2250/2466 | Cost: 0.0007\n",
            "Epoch: 006/010 | Batch 2300/2466 | Cost: 0.0000\n",
            "Epoch: 006/010 | Batch 2350/2466 | Cost: 0.0000\n",
            "Epoch: 006/010 | Batch 2400/2466 | Cost: 0.0384\n",
            "Epoch: 006/010 | Batch 2450/2466 | Cost: 0.0003\n",
            "Epoch: 006/010 | Train: 0.994%   | Val: 0.994%\n",
            "Time elapsed: 19.16 min\n",
            "Epoch: 007/010 | Batch 0000/2466 | Cost: 0.0001\n",
            "Epoch: 007/010 | Batch 0050/2466 | Cost: 0.0000\n",
            "Epoch: 007/010 | Batch 0100/2466 | Cost: 0.0000\n",
            "Epoch: 007/010 | Batch 0150/2466 | Cost: 0.0001\n",
            "Epoch: 007/010 | Batch 0200/2466 | Cost: 0.0000\n",
            "Epoch: 007/010 | Batch 0250/2466 | Cost: 0.0000\n",
            "Epoch: 007/010 | Batch 0300/2466 | Cost: 0.0002\n",
            "Epoch: 007/010 | Batch 0350/2466 | Cost: 0.0000\n",
            "Epoch: 007/010 | Batch 0400/2466 | Cost: 0.0001\n",
            "Epoch: 007/010 | Batch 0450/2466 | Cost: 0.0000\n",
            "Epoch: 007/010 | Batch 0500/2466 | Cost: 0.0001\n",
            "Epoch: 007/010 | Batch 0550/2466 | Cost: 0.0000\n",
            "Epoch: 007/010 | Batch 0600/2466 | Cost: 0.0018\n",
            "Epoch: 007/010 | Batch 0650/2466 | Cost: 0.0000\n",
            "Epoch: 007/010 | Batch 0700/2466 | Cost: 0.0001\n",
            "Epoch: 007/010 | Batch 0750/2466 | Cost: 0.0000\n",
            "Epoch: 007/010 | Batch 0800/2466 | Cost: 0.0018\n",
            "Epoch: 007/010 | Batch 0850/2466 | Cost: 0.0000\n",
            "Epoch: 007/010 | Batch 0900/2466 | Cost: 0.0013\n",
            "Epoch: 007/010 | Batch 0950/2466 | Cost: 0.0000\n",
            "Epoch: 007/010 | Batch 1000/2466 | Cost: 0.0008\n",
            "Epoch: 007/010 | Batch 1050/2466 | Cost: 0.0002\n",
            "Epoch: 007/010 | Batch 1100/2466 | Cost: 0.0000\n",
            "Epoch: 007/010 | Batch 1150/2466 | Cost: 0.0002\n",
            "Epoch: 007/010 | Batch 1200/2466 | Cost: 0.0000\n",
            "Epoch: 007/010 | Batch 1250/2466 | Cost: 0.0000\n",
            "Epoch: 007/010 | Batch 1300/2466 | Cost: 0.0000\n",
            "Epoch: 007/010 | Batch 1350/2466 | Cost: 0.0000\n",
            "Epoch: 007/010 | Batch 1400/2466 | Cost: 0.0000\n",
            "Epoch: 007/010 | Batch 1450/2466 | Cost: 0.0001\n",
            "Epoch: 007/010 | Batch 1500/2466 | Cost: 0.0000\n",
            "Epoch: 007/010 | Batch 1550/2466 | Cost: 0.0000\n",
            "Epoch: 007/010 | Batch 1600/2466 | Cost: 0.0000\n",
            "Epoch: 007/010 | Batch 1650/2466 | Cost: 0.0000\n",
            "Epoch: 007/010 | Batch 1700/2466 | Cost: 0.0012\n",
            "Epoch: 007/010 | Batch 1750/2466 | Cost: 0.0000\n",
            "Epoch: 007/010 | Batch 1800/2466 | Cost: 0.0000\n",
            "Epoch: 007/010 | Batch 1850/2466 | Cost: 0.0003\n",
            "Epoch: 007/010 | Batch 1900/2466 | Cost: 0.0011\n",
            "Epoch: 007/010 | Batch 1950/2466 | Cost: 0.0010\n",
            "Epoch: 007/010 | Batch 2000/2466 | Cost: 0.0019\n",
            "Epoch: 007/010 | Batch 2050/2466 | Cost: 0.0038\n",
            "Epoch: 007/010 | Batch 2100/2466 | Cost: 0.0000\n",
            "Epoch: 007/010 | Batch 2150/2466 | Cost: 0.0035\n",
            "Epoch: 007/010 | Batch 2200/2466 | Cost: 0.0000\n",
            "Epoch: 007/010 | Batch 2250/2466 | Cost: 0.0001\n",
            "Epoch: 007/010 | Batch 2300/2466 | Cost: 0.0000\n",
            "Epoch: 007/010 | Batch 2350/2466 | Cost: 0.0005\n",
            "Epoch: 007/010 | Batch 2400/2466 | Cost: 0.0000\n",
            "Epoch: 007/010 | Batch 2450/2466 | Cost: 0.0000\n",
            "Epoch: 007/010 | Train: 0.995%   | Val: 0.997%\n",
            "Time elapsed: 22.40 min\n",
            "Epoch: 008/010 | Batch 0000/2466 | Cost: 0.0010\n",
            "Epoch: 008/010 | Batch 0050/2466 | Cost: 0.0006\n",
            "Epoch: 008/010 | Batch 0100/2466 | Cost: 0.0000\n",
            "Epoch: 008/010 | Batch 0150/2466 | Cost: 0.0000\n",
            "Epoch: 008/010 | Batch 0200/2466 | Cost: 0.0000\n",
            "Epoch: 008/010 | Batch 0250/2466 | Cost: 0.0000\n",
            "Epoch: 008/010 | Batch 0300/2466 | Cost: 0.0000\n",
            "Epoch: 008/010 | Batch 0350/2466 | Cost: 0.0002\n",
            "Epoch: 008/010 | Batch 0400/2466 | Cost: 0.0001\n",
            "Epoch: 008/010 | Batch 0450/2466 | Cost: 0.0000\n",
            "Epoch: 008/010 | Batch 0500/2466 | Cost: 0.0000\n",
            "Epoch: 008/010 | Batch 0550/2466 | Cost: 0.0013\n",
            "Epoch: 008/010 | Batch 0600/2466 | Cost: 0.0014\n",
            "Epoch: 008/010 | Batch 0650/2466 | Cost: 0.0000\n",
            "Epoch: 008/010 | Batch 0700/2466 | Cost: 0.0014\n",
            "Epoch: 008/010 | Batch 0750/2466 | Cost: 0.0000\n",
            "Epoch: 008/010 | Batch 0800/2466 | Cost: 0.0133\n",
            "Epoch: 008/010 | Batch 0850/2466 | Cost: 0.0000\n",
            "Epoch: 008/010 | Batch 0900/2466 | Cost: 0.0001\n",
            "Epoch: 008/010 | Batch 0950/2466 | Cost: 0.0012\n",
            "Epoch: 008/010 | Batch 1000/2466 | Cost: 0.0000\n",
            "Epoch: 008/010 | Batch 1050/2466 | Cost: 0.0012\n",
            "Epoch: 008/010 | Batch 1100/2466 | Cost: 0.0000\n",
            "Epoch: 008/010 | Batch 1150/2466 | Cost: 0.0001\n",
            "Epoch: 008/010 | Batch 1200/2466 | Cost: 0.0009\n",
            "Epoch: 008/010 | Batch 1250/2466 | Cost: 0.0008\n",
            "Epoch: 008/010 | Batch 1300/2466 | Cost: 0.0000\n",
            "Epoch: 008/010 | Batch 1350/2466 | Cost: 0.0000\n",
            "Epoch: 008/010 | Batch 1400/2466 | Cost: 0.0002\n",
            "Epoch: 008/010 | Batch 1450/2466 | Cost: 0.0000\n",
            "Epoch: 008/010 | Batch 1500/2466 | Cost: 0.0004\n",
            "Epoch: 008/010 | Batch 1550/2466 | Cost: 0.0000\n",
            "Epoch: 008/010 | Batch 1600/2466 | Cost: 0.0010\n",
            "Epoch: 008/010 | Batch 1650/2466 | Cost: 0.0000\n",
            "Epoch: 008/010 | Batch 1700/2466 | Cost: 0.0019\n",
            "Epoch: 008/010 | Batch 1750/2466 | Cost: 0.0000\n",
            "Epoch: 008/010 | Batch 1800/2466 | Cost: 0.0000\n",
            "Epoch: 008/010 | Batch 1850/2466 | Cost: 0.0000\n",
            "Epoch: 008/010 | Batch 1900/2466 | Cost: 0.0283\n",
            "Epoch: 008/010 | Batch 1950/2466 | Cost: 0.0000\n",
            "Epoch: 008/010 | Batch 2000/2466 | Cost: 0.0006\n",
            "Epoch: 008/010 | Batch 2050/2466 | Cost: 0.0000\n",
            "Epoch: 008/010 | Batch 2100/2466 | Cost: 0.0000\n",
            "Epoch: 008/010 | Batch 2150/2466 | Cost: 0.0641\n",
            "Epoch: 008/010 | Batch 2200/2466 | Cost: 0.0000\n",
            "Epoch: 008/010 | Batch 2250/2466 | Cost: 0.0001\n",
            "Epoch: 008/010 | Batch 2300/2466 | Cost: 0.0000\n",
            "Epoch: 008/010 | Batch 2350/2466 | Cost: 0.0000\n",
            "Epoch: 008/010 | Batch 2400/2466 | Cost: 0.0000\n",
            "Epoch: 008/010 | Batch 2450/2466 | Cost: 0.0001\n",
            "Epoch: 008/010 | Train: 0.996%   | Val: 0.996%\n",
            "Time elapsed: 25.73 min\n",
            "Epoch: 009/010 | Batch 0000/2466 | Cost: 0.0000\n",
            "Epoch: 009/010 | Batch 0050/2466 | Cost: 0.0001\n",
            "Epoch: 009/010 | Batch 0100/2466 | Cost: 0.0000\n",
            "Epoch: 009/010 | Batch 0150/2466 | Cost: 0.0000\n",
            "Epoch: 009/010 | Batch 0200/2466 | Cost: 0.0001\n",
            "Epoch: 009/010 | Batch 0250/2466 | Cost: 0.0000\n",
            "Epoch: 009/010 | Batch 0300/2466 | Cost: 0.0001\n",
            "Epoch: 009/010 | Batch 0350/2466 | Cost: 0.0000\n",
            "Epoch: 009/010 | Batch 0400/2466 | Cost: 0.0000\n",
            "Epoch: 009/010 | Batch 0450/2466 | Cost: 0.0000\n",
            "Epoch: 009/010 | Batch 0500/2466 | Cost: 0.0016\n",
            "Epoch: 009/010 | Batch 0550/2466 | Cost: 0.0000\n",
            "Epoch: 009/010 | Batch 0600/2466 | Cost: 0.0000\n",
            "Epoch: 009/010 | Batch 0650/2466 | Cost: 0.0000\n",
            "Epoch: 009/010 | Batch 0700/2466 | Cost: 0.0000\n",
            "Epoch: 009/010 | Batch 0750/2466 | Cost: 0.0068\n",
            "Epoch: 009/010 | Batch 0800/2466 | Cost: 0.0001\n",
            "Epoch: 009/010 | Batch 0850/2466 | Cost: 0.0000\n",
            "Epoch: 009/010 | Batch 0900/2466 | Cost: 0.0000\n",
            "Epoch: 009/010 | Batch 0950/2466 | Cost: 0.0000\n",
            "Epoch: 009/010 | Batch 1000/2466 | Cost: 0.0000\n",
            "Epoch: 009/010 | Batch 1050/2466 | Cost: 0.0000\n",
            "Epoch: 009/010 | Batch 1100/2466 | Cost: 0.0117\n",
            "Epoch: 009/010 | Batch 1150/2466 | Cost: 0.0000\n",
            "Epoch: 009/010 | Batch 1200/2466 | Cost: 0.0001\n",
            "Epoch: 009/010 | Batch 1250/2466 | Cost: 0.0000\n",
            "Epoch: 009/010 | Batch 1300/2466 | Cost: 0.0013\n",
            "Epoch: 009/010 | Batch 1350/2466 | Cost: 0.0000\n",
            "Epoch: 009/010 | Batch 1400/2466 | Cost: 0.0000\n",
            "Epoch: 009/010 | Batch 1450/2466 | Cost: 0.0005\n",
            "Epoch: 009/010 | Batch 1500/2466 | Cost: 0.0000\n",
            "Epoch: 009/010 | Batch 1550/2466 | Cost: 0.0000\n",
            "Epoch: 009/010 | Batch 1600/2466 | Cost: 0.0000\n",
            "Epoch: 009/010 | Batch 1650/2466 | Cost: 0.0000\n",
            "Epoch: 009/010 | Batch 1700/2466 | Cost: 0.0118\n",
            "Epoch: 009/010 | Batch 1750/2466 | Cost: 0.0000\n",
            "Epoch: 009/010 | Batch 1800/2466 | Cost: 0.0000\n",
            "Epoch: 009/010 | Batch 1850/2466 | Cost: 0.0000\n",
            "Epoch: 009/010 | Batch 1900/2466 | Cost: 0.0008\n",
            "Epoch: 009/010 | Batch 1950/2466 | Cost: 0.0000\n",
            "Epoch: 009/010 | Batch 2000/2466 | Cost: 0.0147\n",
            "Epoch: 009/010 | Batch 2050/2466 | Cost: 0.0001\n",
            "Epoch: 009/010 | Batch 2100/2466 | Cost: 0.0001\n",
            "Epoch: 009/010 | Batch 2150/2466 | Cost: 0.0011\n",
            "Epoch: 009/010 | Batch 2200/2466 | Cost: 0.0000\n",
            "Epoch: 009/010 | Batch 2250/2466 | Cost: 0.0009\n",
            "Epoch: 009/010 | Batch 2300/2466 | Cost: 0.0000\n",
            "Epoch: 009/010 | Batch 2350/2466 | Cost: 0.0000\n",
            "Epoch: 009/010 | Batch 2400/2466 | Cost: 0.0001\n",
            "Epoch: 009/010 | Batch 2450/2466 | Cost: 0.0000\n",
            "Epoch: 009/010 | Train: 0.996%   | Val: 0.998%\n",
            "Time elapsed: 28.93 min\n",
            "Epoch: 010/010 | Batch 0000/2466 | Cost: 0.0000\n",
            "Epoch: 010/010 | Batch 0050/2466 | Cost: 0.0472\n",
            "Epoch: 010/010 | Batch 0100/2466 | Cost: 0.0000\n",
            "Epoch: 010/010 | Batch 0150/2466 | Cost: 0.0000\n",
            "Epoch: 010/010 | Batch 0200/2466 | Cost: 0.0000\n",
            "Epoch: 010/010 | Batch 0250/2466 | Cost: 0.0000\n",
            "Epoch: 010/010 | Batch 0300/2466 | Cost: 0.0001\n",
            "Epoch: 010/010 | Batch 0350/2466 | Cost: 0.0000\n",
            "Epoch: 010/010 | Batch 0400/2466 | Cost: 0.0019\n",
            "Epoch: 010/010 | Batch 0450/2466 | Cost: 0.0000\n",
            "Epoch: 010/010 | Batch 0500/2466 | Cost: 0.0004\n",
            "Epoch: 010/010 | Batch 0550/2466 | Cost: 0.0032\n",
            "Epoch: 010/010 | Batch 0600/2466 | Cost: 0.0002\n",
            "Epoch: 010/010 | Batch 0650/2466 | Cost: 0.0000\n",
            "Epoch: 010/010 | Batch 0700/2466 | Cost: 0.0000\n",
            "Epoch: 010/010 | Batch 0750/2466 | Cost: 0.0001\n",
            "Epoch: 010/010 | Batch 0800/2466 | Cost: 0.0001\n",
            "Epoch: 010/010 | Batch 0850/2466 | Cost: 0.0004\n",
            "Epoch: 010/010 | Batch 0900/2466 | Cost: 0.0000\n",
            "Epoch: 010/010 | Batch 0950/2466 | Cost: 0.0000\n",
            "Epoch: 010/010 | Batch 1000/2466 | Cost: 0.0000\n",
            "Epoch: 010/010 | Batch 1050/2466 | Cost: 0.0000\n",
            "Epoch: 010/010 | Batch 1100/2466 | Cost: 0.0003\n",
            "Epoch: 010/010 | Batch 1150/2466 | Cost: 0.0000\n",
            "Epoch: 010/010 | Batch 1200/2466 | Cost: 0.0001\n",
            "Epoch: 010/010 | Batch 1250/2466 | Cost: 0.0007\n",
            "Epoch: 010/010 | Batch 1300/2466 | Cost: 0.0000\n",
            "Epoch: 010/010 | Batch 1350/2466 | Cost: 0.0000\n",
            "Epoch: 010/010 | Batch 1400/2466 | Cost: 0.0000\n",
            "Epoch: 010/010 | Batch 1450/2466 | Cost: 0.0000\n",
            "Epoch: 010/010 | Batch 1500/2466 | Cost: 0.0000\n",
            "Epoch: 010/010 | Batch 1550/2466 | Cost: 0.0000\n",
            "Epoch: 010/010 | Batch 1600/2466 | Cost: 0.0000\n",
            "Epoch: 010/010 | Batch 1650/2466 | Cost: 0.0187\n",
            "Epoch: 010/010 | Batch 1700/2466 | Cost: 0.0000\n",
            "Epoch: 010/010 | Batch 1750/2466 | Cost: 0.0006\n",
            "Epoch: 010/010 | Batch 1800/2466 | Cost: 0.0000\n",
            "Epoch: 010/010 | Batch 1850/2466 | Cost: 0.0000\n",
            "Epoch: 010/010 | Batch 1900/2466 | Cost: 0.0008\n",
            "Epoch: 010/010 | Batch 1950/2466 | Cost: 0.0001\n",
            "Epoch: 010/010 | Batch 2000/2466 | Cost: 0.0023\n",
            "Epoch: 010/010 | Batch 2050/2466 | Cost: 0.0000\n",
            "Epoch: 010/010 | Batch 2100/2466 | Cost: 0.0000\n",
            "Epoch: 010/010 | Batch 2150/2466 | Cost: 0.0004\n",
            "Epoch: 010/010 | Batch 2200/2466 | Cost: 0.0000\n",
            "Epoch: 010/010 | Batch 2250/2466 | Cost: 0.0001\n",
            "Epoch: 010/010 | Batch 2300/2466 | Cost: 0.0000\n",
            "Epoch: 010/010 | Batch 2350/2466 | Cost: 0.0000\n",
            "Epoch: 010/010 | Batch 2400/2466 | Cost: 0.0069\n",
            "Epoch: 010/010 | Batch 2450/2466 | Cost: 0.0221\n",
            "Epoch: 010/010 | Train: 0.996%   | Val: 0.998%\n",
            "Time elapsed: 32.17 min\n",
            "Total Training Time: 32.17 min\n"
          ],
          "name": "stdout"
        }
      ]
    },
    {
      "cell_type": "code",
      "metadata": {
        "colab": {
          "base_uri": "https://localhost:8080/",
          "height": 541
        },
        "id": "EGRqtOSy-yU5",
        "outputId": "683d4baf-d6d9-4e1c-dc3e-b55153e50567"
      },
      "source": [
        "# plot cost functions\n",
        "minibatch_cost_cpu = [i.cpu().detach().numpy() for i in minibatch_cost]\n",
        "# epoch_cost_cpu = [i.cpu().detach().numpy() for i in epoch_performance]\n",
        "\n",
        "\n",
        "plt.plot(range(len(minibatch_cost_cpu)), minibatch_cost_cpu)\n",
        "plt.ylabel('Cost Function Label') # update this label after cost function selected\n",
        "plt.xlabel('Minibatch')\n",
        "plt.show()\n",
        "\n",
        "plt.plot(range(len(epoch_train_performance)), epoch_train_performance, label=\"train f1 scores\")\n",
        "plt.plot(range(len(epoch_val_performance)), epoch_val_performance, label=\"val f1 scores\")\n",
        "plt.ylabel('F1 Score') # update this label after cost function selected\n",
        "plt.xlabel('Epoch')\n",
        "plt.legend(bbox_to_anchor=(1.05, 1), loc='upper left', borderaxespad=0.)\n",
        "plt.show()"
      ],
      "execution_count": 120,
      "outputs": [
        {
          "output_type": "display_data",
          "data": {
            "image/png": "[encoded data removed]",
            "text/plain": [
              "<Figure size 432x288 with 1 Axes>"
            ]
          },
          "metadata": {
            "tags": [],
            "needs_background": "light"
          }
        },
        {
          "output_type": "display_data",
          "data": {
            "image/png": "[encoded data removed]",
            "text/plain": [
              "<Figure size 432x288 with 1 Axes>"
            ]
          },
          "metadata": {
            "tags": [],
            "needs_background": "light"
          }
        }
      ]
    },
    {
      "cell_type": "markdown",
      "metadata": {
        "id": "obJPMecX-yU6"
      },
      "source": [
        "## Evaluation"
      ]
    },
    {
      "cell_type": "code",
      "metadata": {
        "tags": [
          "outputPrepend"
        ],
        "colab": {
          "base_uri": "https://localhost:8080/"
        },
        "id": "3nixqH2I-yU6",
        "outputId": "6c80abd1-f475-4288-c2b0-683a184fc494"
      },
      "source": [
        "with torch.set_grad_enabled(False): # save memory during inference\n",
        "    # THIS NEEDS TO BE UPDATED BASED ON THE FUNCTION NAME WE'RE USING\n",
        "    print('Test f1_score: %.2f%%' % (compute_f1(model, test_loader, device=DEVICE)))"
      ],
      "execution_count": 84,
      "outputs": [
        {
          "output_type": "stream",
          "text": [
            "Test f1_score: 1.00%\n"
          ],
          "name": "stdout"
        }
      ]
    },
    {
      "cell_type": "code",
      "metadata": {
        "colab": {
          "base_uri": "https://localhost:8080/"
        },
        "id": "K2MybMVy-yU6",
        "outputId": "d999ac73-f75a-4f50-ab21-cbcd7bd8e36f"
      },
      "source": [
        "with torch.set_grad_enabled(False): # save memory during inference\n",
        "    # THIS NEEDS TO BE UPDATED BASED ON THE FUNCTION NAME WE'RE USING\n",
        "    print('Train f1_score: %.2f%%' % (compute_f1(model, train_loader, device=DEVICE)))"
      ],
      "execution_count": 85,
      "outputs": [
        {
          "output_type": "stream",
          "text": [
            "Train f1_score: 0.99%\n"
          ],
          "name": "stdout"
        }
      ]
    },
    {
      "cell_type": "code",
      "metadata": {
        "id": "dyPBdbpM-yU6"
      },
      "source": [
        "# WE NEED TO BE EXTENDING THE PERFORMANCE MEASURES TO INCLUDE THOSE USED IN THE PAPERS\n",
        "# F SCORE, PRECISION ETC ETC, MOST OF THE PAPERS SEEM TO USE SIMILAR METRICS, SHOULD BE RELATIVELY SIMPLE\n",
        "# AND COULD BE POTENTIALLY BUILD DIRECTLY INTO THE COST FUNCTION (THE FUNCTION COULD RETURN MULTIPLE PARAMS AND WE WOULD OBVIOUSLY JUST USE THE ONE WE NEEDED FOR MODEL TRAINING BUT THEN WE WOULD HAVE ACCESS TO ALL OF THEM INSTEAD OF WRITING ANOTHER FUNCTION)"
      ],
      "execution_count": null,
      "outputs": []
    },
    {
      "cell_type": "code",
      "metadata": {
        "id": "TabX97SN-yU7"
      },
      "source": [
        "# ALSO RECOMMEND SOME SORT OF VIS TOOL ON BEING ABLE TO LOOK AT A COUPLE OF THE TIME IMAGES THAT ARE LABELLED ANOMALOUS CORRECTLY AND ONES THAT ARE LABELLED ANOMLAOUS INCORRECTLY OR NORMAL INCORRECTLY"
      ],
      "execution_count": null,
      "outputs": []
    },
    {
      "cell_type": "code",
      "metadata": {
        "colab": {
          "base_uri": "https://localhost:8080/"
        },
        "id": "j80T4jkJ-yU7",
        "outputId": "7f7f4ae3-909d-4543-d935-c0a5ae683ac7"
      },
      "source": [
        "# Evaluate F1 score on val set\n",
        "y_hats = []\n",
        "y_acts = []\n",
        "for i, (inputs, targets) in enumerate(val_loader):\n",
        "    yhat = model(inputs)[-1].cpu().detach().numpy().round()\n",
        "    yhat = np.argmax(yhat, axis=1)\n",
        "    y_hats.append(yhat)\n",
        "    y_acts.append(list(targets.cpu().detach().numpy()))\n",
        "\n",
        "y_hats = [item for sublist in y_hats for item in sublist]\n",
        "y_acts = [item for sublist in y_acts for item in sublist]\n",
        "\n",
        "f1 = f1_score(y_acts, y_hats)\n",
        "print(f1)\n"
      ],
      "execution_count": 152,
      "outputs": [
        {
          "output_type": "stream",
          "text": [
            "0.9977977977977978\n"
          ],
          "name": "stdout"
        }
      ]
    },
    {
      "cell_type": "code",
      "metadata": {
        "colab": {
          "base_uri": "https://localhost:8080/"
        },
        "id": "03nz_tXO-yU7",
        "outputId": "adf8f4e8-0185-4dc2-f4be-6d33c0d1a1ad"
      },
      "source": [
        "# Evaluate F1 score on test set\n",
        "y_hats = []\n",
        "y_acts = []\n",
        "counter = 0\n",
        "for i, (inputs, targets) in enumerate(test_loader):\n",
        "    yhat = model(inputs)[-1].cpu().detach().numpy().round()\n",
        "    yhat = np.argmax(yhat, axis=1)\n",
        "    y_hats.append(yhat)\n",
        "    y_acts.append(list(targets.cpu().detach().numpy()))\n",
        "    counter += 1\n",
        "\n",
        "y_hats = [item for sublist in y_hats for item in sublist]\n",
        "y_acts = [item for sublist in y_acts for item in sublist]\n",
        "\n",
        "f1 = f1_score(y_acts, y_hats)\n",
        "print(f1)"
      ],
      "execution_count": 153,
      "outputs": [
        {
          "output_type": "stream",
          "text": [
            "0.9989914271306102\n"
          ],
          "name": "stdout"
        }
      ]
    },
    {
      "cell_type": "code",
      "metadata": {
        "id": "nUuzCDQD-yU8"
      },
      "source": [
        "from sklearn.metrics import precision_score\n",
        "from sklearn.metrics import recall_score\n",
        "from sklearn.metrics import confusion_matrix"
      ],
      "execution_count": 154,
      "outputs": []
    },
    {
      "cell_type": "code",
      "metadata": {
        "colab": {
          "base_uri": "https://localhost:8080/"
        },
        "id": "jcDc0JaI-yU8",
        "outputId": "33ab3ee7-ed50-42cd-9524-b641155f8c29"
      },
      "source": [
        "precision = precision_score(y_acts, y_hats)\n",
        "print(precision)"
      ],
      "execution_count": 155,
      "outputs": [
        {
          "output_type": "stream",
          "text": [
            "0.9989914271306102\n"
          ],
          "name": "stdout"
        }
      ]
    },
    {
      "cell_type": "code",
      "metadata": {
        "colab": {
          "base_uri": "https://localhost:8080/"
        },
        "id": "ZSPlGBPe-yU8",
        "outputId": "9505c043-f297-4ca2-c073-3ad8aac0e499"
      },
      "source": [
        "recall = recall_score(y_acts, y_hats)\n",
        "print(recall)"
      ],
      "execution_count": 156,
      "outputs": [
        {
          "output_type": "stream",
          "text": [
            "0.9989914271306102\n"
          ],
          "name": "stdout"
        }
      ]
    },
    {
      "cell_type": "code",
      "metadata": {
        "colab": {
          "base_uri": "https://localhost:8080/"
        },
        "id": "n6txV-0N-yU9",
        "outputId": "6276cf95-3c97-4860-daed-0d70bbc7c592"
      },
      "source": [
        "f1_score(y_acts, y_hats)"
      ],
      "execution_count": 157,
      "outputs": [
        {
          "output_type": "execute_result",
          "data": {
            "text/plain": [
              "0.9989914271306102"
            ]
          },
          "metadata": {
            "tags": []
          },
          "execution_count": 157
        }
      ]
    },
    {
      "cell_type": "code",
      "metadata": {
        "colab": {
          "base_uri": "https://localhost:8080/"
        },
        "id": "pix1J1yL-yU9",
        "outputId": "8d4e59d9-7ec4-448a-caf2-40d5bc824b29"
      },
      "source": [
        "confusion_matrix(y_acts, y_hats)"
      ],
      "execution_count": 158,
      "outputs": [
        {
          "output_type": "execute_result",
          "data": {
            "text/plain": [
              "array([[118552,      2],\n",
              "       [     2,   1981]])"
            ]
          },
          "metadata": {
            "tags": []
          },
          "execution_count": 158
        }
      ]
    },
    {
      "cell_type": "code",
      "metadata": {
        "colab": {
          "base_uri": "https://localhost:8080/",
          "height": 419
        },
        "id": "DtHll0VHq5ZF",
        "outputId": "0d1e31c7-5450-4613-faf2-f3e5b9d563b4"
      },
      "source": [
        "test_ys = pd.DataFrame(list(zip(y_acts, y_hats)), columns=[\"y_true\", \"y_pred\"])\n",
        "\n",
        "test_ys"
      ],
      "execution_count": 159,
      "outputs": [
        {
          "output_type": "execute_result",
          "data": {
            "text/html": [
              "<div>\n",
              "<style scoped>\n",
              "    .dataframe tbody tr th:only-of-type {\n",
              "        vertical-align: middle;\n",
              "    }\n",
              "\n",
              "    .dataframe tbody tr th {\n",
              "        vertical-align: top;\n",
              "    }\n",
              "\n",
              "    .dataframe thead th {\n",
              "        text-align: right;\n",
              "    }\n",
              "</style>\n",
              "<table border=\"1\" class=\"dataframe\">\n",
              "  <thead>\n",
              "    <tr style=\"text-align: right;\">\n",
              "      <th></th>\n",
              "      <th>y_true</th>\n",
              "      <th>y_pred</th>\n",
              "    </tr>\n",
              "  </thead>\n",
              "  <tbody>\n",
              "    <tr>\n",
              "      <th>0</th>\n",
              "      <td>0</td>\n",
              "      <td>0</td>\n",
              "    </tr>\n",
              "    <tr>\n",
              "      <th>1</th>\n",
              "      <td>0</td>\n",
              "      <td>0</td>\n",
              "    </tr>\n",
              "    <tr>\n",
              "      <th>2</th>\n",
              "      <td>0</td>\n",
              "      <td>0</td>\n",
              "    </tr>\n",
              "    <tr>\n",
              "      <th>3</th>\n",
              "      <td>0</td>\n",
              "      <td>0</td>\n",
              "    </tr>\n",
              "    <tr>\n",
              "      <th>4</th>\n",
              "      <td>0</td>\n",
              "      <td>0</td>\n",
              "    </tr>\n",
              "    <tr>\n",
              "      <th>...</th>\n",
              "      <td>...</td>\n",
              "      <td>...</td>\n",
              "    </tr>\n",
              "    <tr>\n",
              "      <th>120532</th>\n",
              "      <td>0</td>\n",
              "      <td>0</td>\n",
              "    </tr>\n",
              "    <tr>\n",
              "      <th>120533</th>\n",
              "      <td>0</td>\n",
              "      <td>0</td>\n",
              "    </tr>\n",
              "    <tr>\n",
              "      <th>120534</th>\n",
              "      <td>0</td>\n",
              "      <td>0</td>\n",
              "    </tr>\n",
              "    <tr>\n",
              "      <th>120535</th>\n",
              "      <td>0</td>\n",
              "      <td>0</td>\n",
              "    </tr>\n",
              "    <tr>\n",
              "      <th>120536</th>\n",
              "      <td>1</td>\n",
              "      <td>1</td>\n",
              "    </tr>\n",
              "  </tbody>\n",
              "</table>\n",
              "<p>120537 rows × 2 columns</p>\n",
              "</div>"
            ],
            "text/plain": [
              "        y_true  y_pred\n",
              "0            0       0\n",
              "1            0       0\n",
              "2            0       0\n",
              "3            0       0\n",
              "4            0       0\n",
              "...        ...     ...\n",
              "120532       0       0\n",
              "120533       0       0\n",
              "120534       0       0\n",
              "120535       0       0\n",
              "120536       1       1\n",
              "\n",
              "[120537 rows x 2 columns]"
            ]
          },
          "metadata": {
            "tags": []
          },
          "execution_count": 159
        }
      ]
    },
    {
      "cell_type": "code",
      "metadata": {
        "colab": {
          "base_uri": "https://localhost:8080/"
        },
        "id": "h3_a-OxwsJwp",
        "outputId": "cc037828-1f18-48ff-8c76-cd017201245b"
      },
      "source": [
        "print(\"TEST SET:\\n\")\n",
        "print(\"anomalous:\\n\")\n",
        "test_anomalous = test_ys[test_ys[\"y_true\"]==1]\n",
        "print(\"number of anomalies in the test set:\", len(test_anomalous))\n",
        "correct_anomalous = test_anomalous[test_anomalous[\"y_true\"] == test_anomalous[\"y_pred\"]]\n",
        "print(\"number of anomalies correctly identified\", len(correct_anomalous))\n",
        "incorrect_anomalous = test_anomalous[test_anomalous[\"y_true\"] != test_anomalous[\"y_pred\"]]\n",
        "print(\"number of anomalies incorrectly identified\", len(incorrect_anomalous))\n",
        "\n",
        "print(\"\\nnormal:\\n\")\n",
        "test_normals = test_ys[test_ys[\"y_true\"]==0]\n",
        "print(\"number of normals in the test set:\", len(test_normals))\n",
        "correct_normal = test_normals[test_normals[\"y_true\"] == test_normals[\"y_pred\"]]\n",
        "print(\"number of normals correctly identified\", len(correct_normal))\n",
        "incorrect_normal = test_normals[test_normals[\"y_true\"] != test_normals[\"y_pred\"]]\n",
        "print(\"number of normals correctly identified\", len(incorrect_normal))"
      ],
      "execution_count": 174,
      "outputs": [
        {
          "output_type": "stream",
          "text": [
            "TEST SET:\n",
            "\n",
            "anomalous:\n",
            "\n",
            "number of anomalies in the test set: 1983\n",
            "number of anomalies correctly identified 1981\n",
            "number of anomalies incorrectly identified 2\n",
            "\n",
            "normal:\n",
            "\n",
            "number of normals in the test set: 118554\n",
            "number of normals correctly identified 118552\n",
            "number of normals correctly identified 2\n"
          ],
          "name": "stdout"
        }
      ]
    },
    {
      "cell_type": "code",
      "metadata": {
        "colab": {
          "base_uri": "https://localhost:8080/"
        },
        "id": "IW4Z3-S5pPsR",
        "outputId": "040a6a3e-39af-48ee-cf66-4e00414e05f5"
      },
      "source": [
        "# Evaluate F1 score on train set\n",
        "y_hats = []\n",
        "y_acts = []\n",
        "counter = 0\n",
        "for i, (inputs, targets) in enumerate(train_loader):\n",
        "    yhat = model(inputs)[-1].cpu().detach().numpy().round()\n",
        "    yhat = np.argmax(yhat, axis=1)\n",
        "    y_hats.append(yhat)\n",
        "    y_acts.append(list(targets.cpu().detach().numpy()))\n",
        "    counter += 1\n",
        "\n",
        "y_hats = [item for sublist in y_hats for item in sublist]\n",
        "y_acts = [item for sublist in y_acts for item in sublist]\n",
        "\n",
        "f1 = f1_score(y_acts, y_hats)\n",
        "print(f1)"
      ],
      "execution_count": 179,
      "outputs": [
        {
          "output_type": "stream",
          "text": [
            "0.9961429151441332\n"
          ],
          "name": "stdout"
        }
      ]
    },
    {
      "cell_type": "code",
      "metadata": {
        "colab": {
          "base_uri": "https://localhost:8080/",
          "height": 419
        },
        "id": "sH5Ud-sEu0x4",
        "outputId": "c72e0d36-11c3-4473-bf12-563681f5c953"
      },
      "source": [
        "train_ys = pd.DataFrame(list(zip(y_acts, y_hats)), columns=[\"y_true\", \"y_pred\"])\n",
        "\n",
        "train_ys"
      ],
      "execution_count": 180,
      "outputs": [
        {
          "output_type": "execute_result",
          "data": {
            "text/html": [
              "<div>\n",
              "<style scoped>\n",
              "    .dataframe tbody tr th:only-of-type {\n",
              "        vertical-align: middle;\n",
              "    }\n",
              "\n",
              "    .dataframe tbody tr th {\n",
              "        vertical-align: top;\n",
              "    }\n",
              "\n",
              "    .dataframe thead th {\n",
              "        text-align: right;\n",
              "    }\n",
              "</style>\n",
              "<table border=\"1\" class=\"dataframe\">\n",
              "  <thead>\n",
              "    <tr style=\"text-align: right;\">\n",
              "      <th></th>\n",
              "      <th>y_true</th>\n",
              "      <th>y_pred</th>\n",
              "    </tr>\n",
              "  </thead>\n",
              "  <tbody>\n",
              "    <tr>\n",
              "      <th>0</th>\n",
              "      <td>0</td>\n",
              "      <td>0</td>\n",
              "    </tr>\n",
              "    <tr>\n",
              "      <th>1</th>\n",
              "      <td>0</td>\n",
              "      <td>0</td>\n",
              "    </tr>\n",
              "    <tr>\n",
              "      <th>2</th>\n",
              "      <td>0</td>\n",
              "      <td>0</td>\n",
              "    </tr>\n",
              "    <tr>\n",
              "      <th>3</th>\n",
              "      <td>0</td>\n",
              "      <td>0</td>\n",
              "    </tr>\n",
              "    <tr>\n",
              "      <th>4</th>\n",
              "      <td>0</td>\n",
              "      <td>0</td>\n",
              "    </tr>\n",
              "    <tr>\n",
              "      <th>...</th>\n",
              "      <td>...</td>\n",
              "      <td>...</td>\n",
              "    </tr>\n",
              "    <tr>\n",
              "      <th>315597</th>\n",
              "      <td>0</td>\n",
              "      <td>0</td>\n",
              "    </tr>\n",
              "    <tr>\n",
              "      <th>315598</th>\n",
              "      <td>0</td>\n",
              "      <td>0</td>\n",
              "    </tr>\n",
              "    <tr>\n",
              "      <th>315599</th>\n",
              "      <td>0</td>\n",
              "      <td>0</td>\n",
              "    </tr>\n",
              "    <tr>\n",
              "      <th>315600</th>\n",
              "      <td>0</td>\n",
              "      <td>0</td>\n",
              "    </tr>\n",
              "    <tr>\n",
              "      <th>315601</th>\n",
              "      <td>0</td>\n",
              "      <td>0</td>\n",
              "    </tr>\n",
              "  </tbody>\n",
              "</table>\n",
              "<p>315602 rows × 2 columns</p>\n",
              "</div>"
            ],
            "text/plain": [
              "        y_true  y_pred\n",
              "0            0       0\n",
              "1            0       0\n",
              "2            0       0\n",
              "3            0       0\n",
              "4            0       0\n",
              "...        ...     ...\n",
              "315597       0       0\n",
              "315598       0       0\n",
              "315599       0       0\n",
              "315600       0       0\n",
              "315601       0       0\n",
              "\n",
              "[315602 rows x 2 columns]"
            ]
          },
          "metadata": {
            "tags": []
          },
          "execution_count": 180
        }
      ]
    },
    {
      "cell_type": "code",
      "metadata": {
        "colab": {
          "base_uri": "https://localhost:8080/"
        },
        "id": "VXYE_-X1pqxL",
        "outputId": "36709598-cce0-4a59-ff33-0ece03d0721b"
      },
      "source": [
        "precision = precision_score(y_acts, y_hats)\n",
        "print(precision)"
      ],
      "execution_count": 181,
      "outputs": [
        {
          "output_type": "stream",
          "text": [
            "0.9934203866788136\n"
          ],
          "name": "stdout"
        }
      ]
    },
    {
      "cell_type": "code",
      "metadata": {
        "colab": {
          "base_uri": "https://localhost:8080/"
        },
        "id": "LMT3QVvspslX",
        "outputId": "b55f54bd-05ce-471d-ef01-7429be83cef6"
      },
      "source": [
        "recall = recall_score(y_acts, y_hats)\n",
        "print(recall)"
      ],
      "execution_count": 182,
      "outputs": [
        {
          "output_type": "stream",
          "text": [
            "0.998880407124682\n"
          ],
          "name": "stdout"
        }
      ]
    },
    {
      "cell_type": "code",
      "metadata": {
        "colab": {
          "base_uri": "https://localhost:8080/"
        },
        "id": "wKCozDOept2v",
        "outputId": "5417d54b-7c8c-418a-bfa1-f0ec17479a8e"
      },
      "source": [
        "confusion_matrix(y_acts, y_hats)"
      ],
      "execution_count": 183,
      "outputs": [
        {
          "output_type": "execute_result",
          "data": {
            "text/plain": [
              "array([[305712,     65],\n",
              "       [    11,   9814]])"
            ]
          },
          "metadata": {
            "tags": []
          },
          "execution_count": 183
        }
      ]
    },
    {
      "cell_type": "code",
      "metadata": {
        "colab": {
          "base_uri": "https://localhost:8080/"
        },
        "id": "aqZLZHRRpv-3",
        "outputId": "d98361ea-6506-4573-e5b5-c2115eac0065"
      },
      "source": [
        "print(\"TRAIN SET:\\n\")\n",
        "print(\"anomalous:\\n\")\n",
        "train_anomalous = train_ys[train_ys[\"y_true\"]==1]\n",
        "print(\"number of anomalies in the train set:\", len(train_anomalous))\n",
        "correct_anomalous = train_anomalous[train_anomalous[\"y_true\"] == train_anomalous[\"y_pred\"]]\n",
        "print(\"number of anomalies correctly identified\", len(correct_anomalous))\n",
        "incorrect_anomalous = train_anomalous[train_anomalous[\"y_true\"] != train_anomalous[\"y_pred\"]]\n",
        "print(\"number of anomalies incorrectly identified\", len(incorrect_anomalous))\n",
        "\n",
        "print(\"\\nnormal:\\n\")\n",
        "train_normals = train_ys[train_ys[\"y_true\"]==0]\n",
        "print(\"number of normals in the train set:\", len(train_normals))\n",
        "correct_normal = train_normals[train_normals[\"y_true\"] == train_normals[\"y_pred\"]]\n",
        "print(\"number of normals correctly identified\", len(correct_normal))\n",
        "incorrect_normal = train_normals[train_normals[\"y_true\"] != train_normals[\"y_pred\"]]\n",
        "print(\"number of normals correctly identified\", len(incorrect_normal))"
      ],
      "execution_count": 184,
      "outputs": [
        {
          "output_type": "stream",
          "text": [
            "TRAIN SET:\n",
            "\n",
            "anomalous:\n",
            "\n",
            "number of anomalies in the train set: 9825\n",
            "number of anomalies correctly identified 9814\n",
            "number of anomalies incorrectly identified 11\n",
            "\n",
            "normal:\n",
            "\n",
            "number of normals in the train set: 305777\n",
            "number of normals correctly identified 305712\n",
            "number of normals correctly identified 65\n"
          ],
          "name": "stdout"
        }
      ]
    },
    {
      "cell_type": "code",
      "metadata": {
        "id": "SN9sqHAiu3LG"
      },
      "source": [
        ""
      ],
      "execution_count": 184,
      "outputs": []
    }
  ]
}