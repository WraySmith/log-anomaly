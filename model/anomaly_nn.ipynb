{
 "cells": [
  {
   "cell_type": "code",
   "execution_count": 391,
   "metadata": {},
   "outputs": [],
   "source": [
    "import os\n",
    "import time\n",
    "import random\n",
    "\n",
    "import numpy as np\n",
    "import pandas as pd\n",
    "\n",
    "import torch\n",
    "import torch.nn as nn\n",
    "import torch.nn.functional as F\n",
    "from torch.utils.data import DataLoader, Dataset\n",
    "\n",
    "import matplotlib.pyplot as plt\n",
    "%matplotlib inline\n",
    "\n",
    "from sklearn.metrics import f1_score\n",
    "\n",
    "# NOT SURE WHAT THE POINT OF THE CODE BELOW IS, REMOVE IF NOT NEEDED\n",
    "\n",
    "#if torch.cuda.is_available():\n",
    "#    torch.backends.cuda.deterministic = True"
   ]
  },
  {
   "cell_type": "code",
   "execution_count": 392,
   "metadata": {},
   "outputs": [],
   "source": [
    "# For Mitch's error\n",
    "\n",
    "import os\n",
    "os.environ['KMP_DUPLICATE_LIB_OK']='True'"
   ]
  },
  {
   "cell_type": "markdown",
   "metadata": {},
   "source": [
    "## Load and Prepare Data"
   ]
  },
  {
   "cell_type": "code",
   "execution_count": 393,
   "metadata": {},
   "outputs": [],
   "source": [
    "# # get data matrices and labels\n",
    "# train_data = np.load('../process/project_data/x_train_v1.npy')\n",
    "# read_train_labels = pd.read_csv('../process/project_data/y_train_v1.csv')\n",
    "# train_labels = read_train_labels['Label'] == 'Anomaly'\n",
    "# train_labels = train_labels.astype(int) # may not make sense to have an an int\n",
    "# test_data = np.load('../process/project_data/x_test_v1.npy')\n",
    "# read_test_labels = pd.read_csv('../process/project_data/y_test_v1.csv')\n",
    "# test_labels = read_test_labels['Label'] == 'Anomaly'\n",
    "# test_labels = test_labels.astype(int)\n",
    "\n",
    "\n",
    "data_loc = \"../../project_processed_data/\"\n",
    "\n",
    "# Train sets\n",
    "train_data = np.load('{}x_train_tf-idf_rolling_v2.npy'.format(data_loc))\n",
    "read_train_labels = pd.read_csv('{}y_train_tf-idf_rolling_v2.csv'.format(data_loc))\n",
    "train_labels = read_train_labels['Label'] == 'Anomaly'\n",
    "train_labels = train_labels.astype(int) # may not make sense to have an an int\n",
    "\n",
    "# Test sets\n",
    "test_data = np.load('{}x_val_tf-idf_rolling_v2.npy'.format(data_loc))\n",
    "read_test_labels = pd.read_csv('{}y_val_tf-idf_rolling_v2.csv'.format(data_loc))\n",
    "test_labels = read_test_labels['Label'] == 'Anomaly'\n",
    "test_labels = test_labels.astype(int)\n",
    "\n",
    "# data_dims = (19, 48)"
   ]
  },
  {
   "cell_type": "code",
   "execution_count": 394,
   "metadata": {},
   "outputs": [],
   "source": [
    "# Giving to do the below code, we need to add a index reset on y_train and y_val \n",
    "\n",
    "# # Create val set\n",
    "# random.seed(10)\n",
    "\n",
    "# val_percent_size = 0.10\n",
    "# val_size = int(train_data.shape[0] * val_percent_size)\n",
    "# val_idx = random.sample(range(0, train_data.shape[0]), val_size)\n",
    "\n",
    "# # select the val sets based on random indexing\n",
    "# val_data = np.take(train_data, val_idx, axis=0)\n",
    "# val_labels = train_labels.iloc[val_idx]\n",
    "\n",
    "# # delete the val indexes from the train data\n",
    "# train_data = np.delete(train_data, val_idx, axis=0)\n",
    "# train_labels = train_labels.drop(train_labels.index[[val_idx]])\n",
    "\n",
    "# Val sets\n",
    "val_data = np.load('{}x_val_tf-idf_rolling_v2.npy'.format(data_loc))\n",
    "read_val_labels = pd.read_csv('{}y_train_tf-idf_rolling_v2.csv'.format(data_loc))\n",
    "val_labels = read_val_labels['Label'] == 'Anomaly'\n",
    "val_labels = val_labels.astype(int) # may not make sense to have an an int"
   ]
  },
  {
   "cell_type": "code",
   "execution_count": 395,
   "metadata": {},
   "outputs": [],
   "source": [
    "# for testing on a subset\n",
    "sub_set_size = 10000 * 3\n",
    "train_data = train_data[0:sub_set_size]\n",
    "test_data = test_data[0:sub_set_size]\n",
    "val_data = val_data[0:sub_set_size]\n",
    "val_labels = val_labels[0:sub_set_size]\n",
    "train_labels = train_labels[0:sub_set_size]\n",
    "test_labels = test_labels[0:sub_set_size]"
   ]
  },
  {
   "cell_type": "code",
   "execution_count": 396,
   "metadata": {},
   "outputs": [
    {
     "name": "stdout",
     "output_type": "stream",
     "text": [
      "(30000, 19, 46)\n"
     ]
    }
   ],
   "source": [
    "data_dims = (train_data[1], train_data[2])\n",
    "print(train_data.shape)"
   ]
  },
  {
   "cell_type": "code",
   "execution_count": 397,
   "metadata": {},
   "outputs": [
    {
     "name": "stdout",
     "output_type": "stream",
     "text": [
      "(30000,)\n",
      "0\n",
      "<class 'pandas.core.series.Series'>\n"
     ]
    }
   ],
   "source": [
    "print(train_labels.shape)\n",
    "print(train_labels[0])\n",
    "print(type(train_labels))"
   ]
  },
  {
   "cell_type": "code",
   "execution_count": 398,
   "metadata": {},
   "outputs": [],
   "source": [
    "# train_labels = pd.get_dummies(train_labels)\n",
    "# train_labels.values"
   ]
  },
  {
   "cell_type": "code",
   "execution_count": 399,
   "metadata": {},
   "outputs": [],
   "source": [
    "class logDataset(Dataset):\n",
    "    \"\"\"Log Anomaly Features Dataset\"\"\"\n",
    "    \n",
    "    def __init__(self, data_vec, labels=None):\n",
    "        self.X = data_vec\n",
    "        self.y = labels\n",
    "        \n",
    "    def __len__(self):\n",
    "        return len(self.X)\n",
    "        \n",
    "    def __getitem__(self, idx):\n",
    "        data_matrix = self.X[idx]\n",
    "        \n",
    "        if not self.y is None:\n",
    "            return(data_matrix, self.y[idx])\n",
    "        else:\n",
    "            return data_matrix\n"
   ]
  },
  {
   "cell_type": "code",
   "execution_count": 400,
   "metadata": {},
   "outputs": [],
   "source": [
    "# THIS TRANSFORM CLASS DIDN\"T WORK, LEFT THIS IN JUST AS A REMINDER TO CONSIDER NORMALIZATION\n",
    "# AS WeLL AS THE COMMENT BELOW\n",
    "\n",
    "# NOTE THAT AS WE'VE DONE TF-IDF, WE MAY NOT WANT TO NORMALIZE\n",
    "# HOWEVER, ONE OF THE ODD THINGS HERE IS THAT SINCE WE'RE PASSING FILTERS OVER THINGS\n",
    "# IF THE COLUMNS REPRESENT SLIGHTLY DIFFERENT THINGS IT MAY BE AN ISSUE, ESPECIALLY FOR POOLING?\n",
    "# NORMALLY EACH PIXEL REPRESENTS THE EXACT SAME THING, NOT SURE IF THAT'S STILL THE CASE AFTER\n",
    "# TF-IDF\n",
    "\n",
    "# define transforms\n",
    "#train_mean = (0.5, 0.5, 0.5)\n",
    "#train_std = (0.5, 0.5, 0.5)\n",
    "\n",
    "#apply_transforms = transforms.Compose([#transforms.Resize((32, 32)), # probably not using this\n",
    "#                                        transforms.ToPILImage(), # believe this is required\n",
    "#                                        transforms.ToTensor(),\n",
    "#                                        #transforms.Normalize(train_mean, train_std),\n",
    "#                                        transforms.Pad((0, 0, 0, 1))]) # not sure if this is quite correct\n"
   ]
  },
  {
   "cell_type": "code",
   "execution_count": 401,
   "metadata": {},
   "outputs": [],
   "source": [
    "# Convert to tensort and pad matrixes to have dims of 20x48 instead of 19x48\n",
    "# Also need to add a dimension for conv2D\n",
    "train_data = torch.tensor(train_data, dtype=torch.float32)\n",
    "train_data = F.pad(input=train_data, pad=(0, 0, 0, 1), mode='constant', value=0) # pad the bottom with 0s\n",
    "train_data = np.expand_dims(train_data, axis=1)\n",
    "test_data = torch.tensor(test_data, dtype=torch.float32)\n",
    "test_data = F.pad(input=test_data, pad=(0, 0, 0, 1), mode='constant', value=0)\n",
    "test_data = np.expand_dims(test_data, axis=1)\n",
    "val_data = torch.tensor(val_data, dtype=torch.float32)\n",
    "val_data = F.pad(input=val_data, pad=(0, 0, 0, 1), mode='constant', value=0)\n",
    "val_data = np.expand_dims(val_data, axis=1)"
   ]
  },
  {
   "cell_type": "code",
   "execution_count": 402,
   "metadata": {},
   "outputs": [
    {
     "data": {
      "text/plain": [
       "(30000, 1, 20, 46)"
      ]
     },
     "execution_count": 402,
     "metadata": {},
     "output_type": "execute_result"
    }
   ],
   "source": [
    "train_data.shape"
   ]
  },
  {
   "cell_type": "code",
   "execution_count": 403,
   "metadata": {},
   "outputs": [
    {
     "data": {
      "text/plain": [
       "(30000, 1, 20, 46)"
      ]
     },
     "execution_count": 403,
     "metadata": {},
     "output_type": "execute_result"
    }
   ],
   "source": [
    "val_data.shape"
   ]
  },
  {
   "cell_type": "code",
   "execution_count": 404,
   "metadata": {},
   "outputs": [],
   "source": [
    "# Hyperparameters\n",
    "RANDOM_SEED = 1\n",
    "# THESE ARE ALL STARTING POINTS BASED ON LAB3\n",
    "LEARNING_RATE = 0.001\n",
    "BATCH_SIZE = 128\n",
    "NUM_EPOCHS = 10\n",
    "\n",
    "# Architecture\n",
    "# NUM_FEATURES = data_dims[0] * data_dims[1] # not sure this is needed currently\n",
    "\n",
    "# not sure we should be using an architecture with 2 classes with softmax\n",
    "# doesn't it make more sense to have a single output node\n",
    "# previous labs/lectures have 2 classes with softmax which is somewhat confusing\n",
    "NUM_CLASSES = 2\n",
    "\n",
    "# Other\n",
    "if torch.cuda.is_available():\n",
    "    DEVICE = \"cuda:0\"\n",
    "else:\n",
    "    DEVICE = \"cpu\"\n"
   ]
  },
  {
   "cell_type": "code",
   "execution_count": 405,
   "metadata": {},
   "outputs": [],
   "source": [
    "# pass datasets into the custom dataclass\n",
    "train_dataset = logDataset(train_data, labels = train_labels)\n",
    "test_dataset = logDataset(test_data, labels = test_labels)\n",
    "val_dataset = logDataset(val_data, labels = val_labels)"
   ]
  },
  {
   "cell_type": "code",
   "execution_count": 406,
   "metadata": {},
   "outputs": [],
   "source": [
    "# just a check that it worked\n",
    "# train_dataset.__getitem__(3)"
   ]
  },
  {
   "cell_type": "code",
   "execution_count": 407,
   "metadata": {},
   "outputs": [
    {
     "name": "stdout",
     "output_type": "stream",
     "text": [
      "Matrix batch dimensions: torch.Size([128, 1, 20, 46])\n",
      "Matrix label dimensions: torch.Size([128])\n",
      "Matrix batch dimensions: torch.Size([128, 1, 20, 46])\n",
      "Matrix label dimensions: torch.Size([128])\n",
      "Matrix batch dimensions: torch.Size([128, 1, 20, 46])\n",
      "Matrix label dimensions: torch.Size([128])\n"
     ]
    }
   ],
   "source": [
    "# use DataLoader class\n",
    "train_loader = DataLoader(dataset=train_dataset, \n",
    "                          batch_size=BATCH_SIZE, \n",
    "                          num_workers=0, # couldn't use workers https://github.com/fastai/fastbook/issues/85\n",
    "                          shuffle=True)\n",
    "\n",
    "test_loader = DataLoader(dataset=test_dataset, \n",
    "                         batch_size=BATCH_SIZE,\n",
    "                         num_workers=0,\n",
    "                         shuffle=False)\n",
    "\n",
    "val_loader = DataLoader(dataset=val_dataset, \n",
    "                         batch_size=BATCH_SIZE,\n",
    "                         num_workers=0,\n",
    "                         shuffle=False)\n",
    "\n",
    "\n",
    "# Checking the dataset\n",
    "for data, labels in train_loader:  \n",
    "    print('Matrix batch dimensions:', data.shape)\n",
    "    print('Matrix label dimensions:', labels.shape)\n",
    "    break\n",
    "\n",
    "# Checking the dataset\n",
    "for data, labels in test_loader:  \n",
    "    print('Matrix batch dimensions:', data.shape)\n",
    "    print('Matrix label dimensions:', labels.shape)\n",
    "    break\n",
    "    \n",
    "# Checking the dataset\n",
    "for data, labels in val_loader:  \n",
    "    print('Matrix batch dimensions:', data.shape)\n",
    "    print('Matrix label dimensions:', labels.shape)\n",
    "    break"
   ]
  },
  {
   "cell_type": "markdown",
   "metadata": {},
   "source": [
    "## Setup Model"
   ]
  },
  {
   "cell_type": "code",
   "execution_count": 408,
   "metadata": {},
   "outputs": [
    {
     "name": "stdout",
     "output_type": "stream",
     "text": [
      "Epoch: 1 | Batch index: 0 | Batch size: 128\n",
      "Epoch: 2 | Batch index: 0 | Batch size: 128\n"
     ]
    }
   ],
   "source": [
    "# this is something to do with warming up the nn\n",
    "# NEED TO FIGURE THIS OUT AND KEEP OR REMOVE\n",
    "device = torch.device(DEVICE)\n",
    "torch.manual_seed(0)\n",
    "\n",
    "for epoch in range(2):\n",
    "\n",
    "    for batch_idx, (x, y) in enumerate(val_loader):\n",
    "        \n",
    "        print('Epoch:', epoch+1, end='')\n",
    "        print(' | Batch index:', batch_idx, end='')\n",
    "        print(' | Batch size:', y.size()[0])\n",
    "        \n",
    "        x = x.to(device)\n",
    "        y = y.to(device)\n",
    "        break"
   ]
  },
  {
   "cell_type": "code",
   "execution_count": 409,
   "metadata": {},
   "outputs": [],
   "source": [
    "##########################\n",
    "### MODEL\n",
    "##########################\n",
    "\n",
    "\n",
    "class logCNN(nn.Module):\n",
    "\n",
    "    def __init__(self, num_classes):\n",
    "        super(logCNN, self).__init__()\n",
    "        # noticed that in many of the example models we're initializing weights and biases but\n",
    "        # not in the CNN example, check into this\n",
    "        self.num_classes = num_classes\n",
    "        self.features = nn.Sequential(\n",
    "            \n",
    "            # Selection of 16 and 32 based on discussion with Debangsha, use for now\n",
    "            # will need to figure out kernel size that works for dims and potentially add pooling\n",
    "            # need to figure out how to deal with non-square image\n",
    "            # goes in as 20x48\n",
    "            nn.Conv2d(1, 16, kernel_size=2),\n",
    "            # comes out as 19x47\n",
    "            nn.ReLU(),\n",
    "            #F.pad(pad=(0, 1, 0, 1), mode='constant', value=0), # may need to use this (won't work in sequential)\n",
    "            nn.MaxPool2d(kernel_size=2),\n",
    "            # comes out as ???\n",
    "            nn.Conv2d(16, 32, kernel_size=2), # can also add padding directly into here (but is equal on either side) - (1, 2) 1 on left and right and 2 each above and below\n",
    "            nn.ReLU(),\n",
    "            #F.pad(pad=(0, 1, 0, 1), mode='constant', value=0), # may need to use this (won't work in sequential)\n",
    "            nn.MaxPool2d(kernel_size=2)\n",
    "        )\n",
    "\n",
    "        self.classifier = nn.Sequential(\n",
    "            # NEED TO FIGURE OUT THE SIZE OF THE IMAGE\n",
    "            nn.Linear(1280, 120), # NEED TO DECIDE ON NUMBER OF NODES (120 BASED ON LAB3) ## NB changed to 1280 from 1408 based on error\n",
    "            nn.ReLU(),\n",
    "            nn.Linear(120, 84), # NEED TO DECIDE ON NUMBER OF NODES (84 BASED ON LAB3)\n",
    "            nn.ReLU(),\n",
    "            nn.Linear(84, num_classes), # NOT SURE WE WANT TO BE USING 2 NODE OUTPUT\n",
    "        )\n",
    "\n",
    "\n",
    "    def forward(self, x):\n",
    "        x = self.features(x)\n",
    "        x = torch.flatten(x, 1)\n",
    "#         print(x.shape) # Was printing in the training logging\n",
    "        logits = self.classifier(x)\n",
    "        probas = F.softmax(logits, dim=1) # NOT SURE WE NEED SOFTMAX, POTENTIALLY SIGMOID?\n",
    "        return logits, probas\n",
    "\n",
    "\n",
    "## NOTE: WE MAY WANT TO CONSIDER USING DROPOUT AND L2 PENALTY; SEE LETURE 4 EXAMPLES FOR THIS\n",
    "## RELATIVELY EASY TO IMPLEMENT BUT MAY WANT TO CONSIDER ADDING VALIDATION SET SPLIT FROM THE TRAINING SET\n",
    "## WHEN DOING THIS AND PLOTTING THE VALIDATION/TRAINING COST FUNCTIONS"
   ]
  },
  {
   "cell_type": "code",
   "execution_count": 410,
   "metadata": {},
   "outputs": [],
   "source": [
    "torch.manual_seed(RANDOM_SEED)\n",
    "\n",
    "model = logCNN(NUM_CLASSES) # THIS WILL BE UPDATED IF NOT USING 2 OUTPUT NODES\n",
    "model.to(DEVICE)\n",
    "\n",
    "optimizer = torch.optim.Adam(model.parameters(), lr=LEARNING_RATE)"
   ]
  },
  {
   "cell_type": "markdown",
   "metadata": {},
   "source": [
    "# Train Model"
   ]
  },
  {
   "cell_type": "code",
   "execution_count": 411,
   "metadata": {
    "tags": [
     "outputPrepend"
    ]
   },
   "outputs": [
    {
     "name": "stdout",
     "output_type": "stream",
     "text": [
      "Epoch: 001/010 | Batch 0000/0235 | Cost: 0.7269\n",
      "Epoch: 001/010 | Batch 0050/0235 | Cost: 0.0778\n",
      "Epoch: 001/010 | Batch 0100/0235 | Cost: 0.0019\n",
      "Epoch: 001/010 | Batch 0150/0235 | Cost: 0.0336\n",
      "Epoch: 001/010 | Batch 0200/0235 | Cost: 0.0003\n",
      "Epoch: 001/010 | Train: 0.993%   | Val: 0.057%\n",
      "Time elapsed: 0.20 min\n",
      "Epoch: 002/010 | Batch 0000/0235 | Cost: 0.0021\n",
      "Epoch: 002/010 | Batch 0050/0235 | Cost: 0.0002\n",
      "Epoch: 002/010 | Batch 0100/0235 | Cost: 0.0001\n",
      "Epoch: 002/010 | Batch 0150/0235 | Cost: 0.0043\n",
      "Epoch: 002/010 | Batch 0200/0235 | Cost: 0.0004\n",
      "Epoch: 002/010 | Train: 0.991%   | Val: 0.057%\n",
      "Time elapsed: 0.39 min\n",
      "Epoch: 003/010 | Batch 0000/0235 | Cost: 0.0017\n",
      "Epoch: 003/010 | Batch 0050/0235 | Cost: 0.0001\n",
      "Epoch: 003/010 | Batch 0100/0235 | Cost: 0.0006\n",
      "Epoch: 003/010 | Batch 0150/0235 | Cost: 0.0004\n",
      "Epoch: 003/010 | Batch 0200/0235 | Cost: 0.0290\n",
      "Epoch: 003/010 | Train: 0.992%   | Val: 0.058%\n",
      "Time elapsed: 0.58 min\n",
      "Epoch: 004/010 | Batch 0000/0235 | Cost: 0.0005\n",
      "Epoch: 004/010 | Batch 0050/0235 | Cost: 0.0004\n",
      "Epoch: 004/010 | Batch 0100/0235 | Cost: 0.0001\n",
      "Epoch: 004/010 | Batch 0150/0235 | Cost: 0.0042\n",
      "Epoch: 004/010 | Batch 0200/0235 | Cost: 0.0002\n",
      "Epoch: 004/010 | Train: 0.992%   | Val: 0.057%\n",
      "Time elapsed: 0.77 min\n",
      "Epoch: 005/010 | Batch 0000/0235 | Cost: 0.0001\n",
      "Epoch: 005/010 | Batch 0050/0235 | Cost: 0.0001\n",
      "Epoch: 005/010 | Batch 0100/0235 | Cost: 0.0001\n",
      "Epoch: 005/010 | Batch 0150/0235 | Cost: 0.0000\n",
      "Epoch: 005/010 | Batch 0200/0235 | Cost: 0.0001\n",
      "Epoch: 005/010 | Train: 0.992%   | Val: 0.057%\n",
      "Time elapsed: 0.96 min\n",
      "Epoch: 006/010 | Batch 0000/0235 | Cost: 0.0006\n",
      "Epoch: 006/010 | Batch 0050/0235 | Cost: 0.0050\n",
      "Epoch: 006/010 | Batch 0100/0235 | Cost: 0.0000\n",
      "Epoch: 006/010 | Batch 0150/0235 | Cost: 0.0000\n",
      "Epoch: 006/010 | Batch 0200/0235 | Cost: 0.0001\n",
      "Epoch: 006/010 | Train: 0.993%   | Val: 0.057%\n",
      "Time elapsed: 1.17 min\n",
      "Epoch: 007/010 | Batch 0000/0235 | Cost: 0.0113\n",
      "Epoch: 007/010 | Batch 0050/0235 | Cost: 0.0001\n",
      "Epoch: 007/010 | Batch 0100/0235 | Cost: 0.0000\n",
      "Epoch: 007/010 | Batch 0150/0235 | Cost: 0.0000\n",
      "Epoch: 007/010 | Batch 0200/0235 | Cost: 0.0007\n",
      "Epoch: 007/010 | Train: 0.993%   | Val: 0.058%\n",
      "Time elapsed: 1.38 min\n",
      "Epoch: 008/010 | Batch 0000/0235 | Cost: 0.0000\n",
      "Epoch: 008/010 | Batch 0050/0235 | Cost: 0.0000\n",
      "Epoch: 008/010 | Batch 0100/0235 | Cost: 0.0000\n",
      "Epoch: 008/010 | Batch 0150/0235 | Cost: 0.0001\n",
      "Epoch: 008/010 | Batch 0200/0235 | Cost: 0.0000\n",
      "Epoch: 008/010 | Train: 0.993%   | Val: 0.057%\n",
      "Time elapsed: 1.57 min\n",
      "Epoch: 009/010 | Batch 0000/0235 | Cost: 0.0000\n",
      "Epoch: 009/010 | Batch 0050/0235 | Cost: 0.0000\n",
      "Epoch: 009/010 | Batch 0100/0235 | Cost: 0.0000\n",
      "Epoch: 009/010 | Batch 0150/0235 | Cost: 0.0000\n",
      "Epoch: 009/010 | Batch 0200/0235 | Cost: 0.0000\n",
      "Epoch: 009/010 | Train: 0.993%   | Val: 0.057%\n",
      "Time elapsed: 1.77 min\n",
      "Epoch: 010/010 | Batch 0000/0235 | Cost: 0.0011\n",
      "Epoch: 010/010 | Batch 0050/0235 | Cost: 0.0002\n",
      "Epoch: 010/010 | Batch 0100/0235 | Cost: 0.0000\n",
      "Epoch: 010/010 | Batch 0150/0235 | Cost: 0.0059\n",
      "Epoch: 010/010 | Batch 0200/0235 | Cost: 0.0004\n",
      "Epoch: 010/010 | Train: 0.993%   | Val: 0.057%\n",
      "Time elapsed: 1.96 min\n",
      "Total Training Time: 1.96 min\n"
     ]
    }
   ],
   "source": [
    "# NEED TO FIGURE OUT THE BEST FUNCTION FOR ACCURACY\n",
    "# NEED TO FOCUS ON TRUE/FALSE, NOT ON CLASSES\n",
    "def compute_accuracy(model, data_loader, device):\n",
    "    correct_pred, num_examples = 0, 0\n",
    "    for i, (features, targets) in enumerate(data_loader):\n",
    "            \n",
    "        features = features.to(DEVICE)\n",
    "        \n",
    "        # NOTE TO SELF WHEN CHANGING INT TARGETS AT TOP OF NOTEBOOK, WILL ALSO HAVE TO CHANGE / REMOVE .long here\n",
    "        targets = targets.to(DEVICE, dtype=torch.long) # had to pass in to torch.long based on the 1, 0 int labels\n",
    "\n",
    "        logits, probas = model(features)\n",
    "        _, predicted_labels = torch.max(probas, 1)\n",
    "        num_examples += targets.size(0)\n",
    "        correct_pred += (predicted_labels == targets).sum()\n",
    "    return correct_pred.float()/num_examples * 100\n",
    "\n",
    "# This needs to be vectorized\n",
    "def compute_f1(model, data_loader, device):\n",
    "    y_hats = []\n",
    "    y_acts = []\n",
    "    for i, (inputs, targets) in enumerate(data_loader):\n",
    "        yhat = model(inputs)[-1].cpu().detach().numpy().round()\n",
    "        yhat = np.argmax(yhat, axis=1)\n",
    "        y_hats.append(yhat)\n",
    "        y_acts.append(list(targets.cpu().detach().numpy()))\n",
    "    \n",
    "    y_hats = [item for sublist in y_hats for item in sublist]\n",
    "    y_acts = [item for sublist in y_acts for item in sublist]\n",
    "    return f1_score(y_acts, y_hats)\n",
    "\n",
    "  \n",
    "\n",
    "start_time = time.time()\n",
    "minibatch_cost = [] # this isn't in the CNN model example but is from lecture 3 example files\n",
    "epoch_train_performance = []\n",
    "epoch_val_performance = []\n",
    "\n",
    "criterion = nn.BCEWithLogitsLoss()\n",
    "\n",
    "for epoch in range(NUM_EPOCHS):\n",
    "    \n",
    "    model.train()\n",
    "    for batch_idx, (features, targets) in enumerate(train_loader):\n",
    "        \n",
    "        features = features.to(DEVICE)\n",
    "        targets = targets.to(DEVICE, dtype=torch.long) # another had to use torch.long\n",
    "            \n",
    "        ### FORWARD AND BACK PROP\n",
    "        logits, probas = model(features)\n",
    "        cost = F.cross_entropy(logits, targets) # NEED TO MODIFY BASED ON BEST COST FUNCTION\n",
    "\n",
    "#         loss = criterion(logits, targets.unsqueeze(1))\n",
    "\n",
    "        optimizer.zero_grad()\n",
    "        \n",
    "        cost.backward()\n",
    "#         loss.backward()\n",
    "        minibatch_cost.append(cost) # from lecture 3 example files\n",
    "        \n",
    "        ### UPDATE MODEL PARAMETERS\n",
    "        optimizer.step()\n",
    "        \n",
    "        ### LOGGING - MAY WANT TO MODIFY LOGGING INTERVALS\n",
    "        if not batch_idx % 50:\n",
    "            print ('Epoch: %03d/%03d | Batch %04d/%04d | Cost: %.4f' \n",
    "                   %(epoch+1, NUM_EPOCHS, batch_idx, \n",
    "                     len(train_loader), cost, ))\n",
    "\n",
    "        \n",
    "    model.eval()\n",
    "    with torch.set_grad_enabled(False): # save memory during inference\n",
    "        train_performance = compute_f1(model, train_loader, device=DEVICE)\n",
    "        val_performance = compute_f1(model, val_loader, device=DEVICE)\n",
    "        epoch_train_performance.append(train_performance) # from lecture 3 example files\n",
    "        epoch_val_performance.append(val_performance)\n",
    "        print('Epoch: %03d/%03d | Train: %.3f%%   | Val: %.3f%%' % (\n",
    "              epoch+1, NUM_EPOCHS, train_performance, val_performance))\n",
    "        \n",
    "    print('Time elapsed: %.2f min' % ((time.time() - start_time)/60))\n",
    "    \n",
    "print('Total Training Time: %.2f min' % ((time.time() - start_time)/60))"
   ]
  },
  {
   "cell_type": "code",
   "execution_count": 412,
   "metadata": {},
   "outputs": [
    {
     "data": {
      "image/png": "[encoded data removed]",
      "text/plain": [
       "<Figure size 432x288 with 1 Axes>"
      ]
     },
     "metadata": {
      "needs_background": "light"
     },
     "output_type": "display_data"
    },
    {
     "data": {
      "image/png": "[encoded data removed]",
      "text/plain": [
       "<Figure size 432x288 with 1 Axes>"
      ]
     },
     "metadata": {
      "needs_background": "light"
     },
     "output_type": "display_data"
    }
   ],
   "source": [
    "# plot cost functions\n",
    "minibatch_cost_cpu = [i.cpu().detach().numpy() for i in minibatch_cost]\n",
    "# epoch_cost_cpu = [i.cpu().detach().numpy() for i in epoch_performance]\n",
    "\n",
    "\n",
    "plt.plot(range(len(minibatch_cost_cpu)), minibatch_cost_cpu)\n",
    "plt.ylabel('Cost Function Label') # update this label after cost function selected\n",
    "plt.xlabel('Minibatch')\n",
    "plt.show()\n",
    "\n",
    "plt.plot(range(len(epoch_train_performance)), epoch_train_performance, label=\"train f1 scores\")\n",
    "plt.plot(range(len(epoch_val_performance)), epoch_val_performance, label=\"val f1 scores\")\n",
    "plt.ylabel('Accuracy') # update this label after cost function selected\n",
    "plt.xlabel('Epoch')\n",
    "plt.legend(bbox_to_anchor=(1.05, 1), loc='upper left', borderaxespad=0.)\n",
    "plt.show()"
   ]
  },
  {
   "cell_type": "markdown",
   "metadata": {},
   "source": [
    "## Evaluation"
   ]
  },
  {
   "cell_type": "code",
   "execution_count": 413,
   "metadata": {
    "tags": [
     "outputPrepend"
    ]
   },
   "outputs": [
    {
     "name": "stdout",
     "output_type": "stream",
     "text": [
      "Test f1_score: 0.43%\n"
     ]
    }
   ],
   "source": [
    "with torch.set_grad_enabled(False): # save memory during inference\n",
    "    # THIS NEEDS TO BE UPDATED BASED ON THE FUNCTION NAME WE'RE USING\n",
    "    print('Test f1_score: %.2f%%' % (compute_f1(model, test_loader, device=DEVICE)))"
   ]
  },
  {
   "cell_type": "code",
   "execution_count": 414,
   "metadata": {},
   "outputs": [
    {
     "name": "stdout",
     "output_type": "stream",
     "text": [
      "Train f1_score: 0.99%\n"
     ]
    }
   ],
   "source": [
    "with torch.set_grad_enabled(False): # save memory during inference\n",
    "    # THIS NEEDS TO BE UPDATED BASED ON THE FUNCTION NAME WE'RE USING\n",
    "    print('Train f1_score: %.2f%%' % (compute_f1(model, train_loader, device=DEVICE)))"
   ]
  },
  {
   "cell_type": "code",
   "execution_count": 372,
   "metadata": {},
   "outputs": [],
   "source": [
    "# WE NEED TO BE EXTENDING THE PERFORMANCE MEASURES TO INCLUDE THOSE USED IN THE PAPERS\n",
    "# F SCORE, PRECISION ETC ETC, MOST OF THE PAPERS SEEM TO USE SIMILAR METRICS, SHOULD BE RELATIVELY SIMPLE\n",
    "# AND COULD BE POTENTIALLY BUILD DIRECTLY INTO THE COST FUNCTION (THE FUNCTION COULD RETURN MULTIPLE PARAMS AND WE WOULD OBVIOUSLY JUST USE THE ONE WE NEEDED FOR MODEL TRAINING BUT THEN WE WOULD HAVE ACCESS TO ALL OF THEM INSTEAD OF WRITING ANOTHER FUNCTION)"
   ]
  },
  {
   "cell_type": "code",
   "execution_count": 373,
   "metadata": {},
   "outputs": [],
   "source": [
    "# ALSO RECOMMEND SOME SORT OF VIS TOOL ON BEING ABLE TO LOOK AT A COUPLE OF THE TIME IMAGES THAT ARE LABELLED ANOMALOUS CORRECTLY AND ONES THAT ARE LABELLED ANOMLAOUS INCORRECTLY OR NORMAL INCORRECTLY"
   ]
  },
  {
   "cell_type": "code",
   "execution_count": 374,
   "metadata": {},
   "outputs": [
    {
     "name": "stdout",
     "output_type": "stream",
     "text": [
      "0.050322580645161284\n"
     ]
    }
   ],
   "source": [
    "# Evaluate F1 score on test set\n",
    "y_hats = []\n",
    "y_acts = []\n",
    "for i, (inputs, targets) in enumerate(val_loader):\n",
    "    yhat = model(inputs)[-1].cpu().detach().numpy().round()\n",
    "    yhat = np.argmax(yhat, axis=1)\n",
    "    y_hats.append(yhat)\n",
    "    y_acts.append(list(targets.cpu().detach().numpy()))\n",
    "\n",
    "y_hats = [item for sublist in y_hats for item in sublist]\n",
    "y_acts = [item for sublist in y_acts for item in sublist]\n",
    "\n",
    "f1 = f1_score(y_acts, y_hats)\n",
    "print(f1)\n"
   ]
  },
  {
   "cell_type": "code",
   "execution_count": 375,
   "metadata": {},
   "outputs": [
    {
     "name": "stdout",
     "output_type": "stream",
     "text": [
      "0.4603825136612022\n"
     ]
    }
   ],
   "source": [
    "# Evaluate F1 score on test set\n",
    "y_hats = []\n",
    "y_acts = []\n",
    "for i, (inputs, targets) in enumerate(test_loader):\n",
    "    yhat = model(inputs)[-1].cpu().detach().numpy().round()\n",
    "    yhat = np.argmax(yhat, axis=1)\n",
    "    y_hats.append(yhat)\n",
    "    y_acts.append(list(targets.cpu().detach().numpy()))\n",
    "    counter += 1\n",
    "\n",
    "y_hats = [item for sublist in y_hats for item in sublist]\n",
    "y_acts = [item for sublist in y_acts for item in sublist]\n",
    "\n",
    "f1 = f1_score(y_acts, y_hats)\n",
    "print(f1)"
   ]
  },
  {
   "cell_type": "code",
   "execution_count": 376,
   "metadata": {},
   "outputs": [
    {
     "name": "stdout",
     "output_type": "stream",
     "text": [
      "0.06520267002031536\n"
     ]
    }
   ],
   "source": [
    "# What is the f1 score if we predict only 1's\n",
    "y_hats = []\n",
    "y_acts = []\n",
    "for i, (inputs, targets) in enumerate(test_loader):\n",
    "\n",
    "    y_act = list(targets.cpu().detach().numpy())\n",
    "    y_acts.append(y_act)\n",
    "\n",
    "\n",
    "y_acts = [item for sublist in y_acts for item in sublist]\n",
    "y_hats = len(y_acts) * [1]\n",
    "f1 = f1_score(y_acts, y_hats)\n",
    "print(f1)"
   ]
  },
  {
   "cell_type": "code",
   "execution_count": 377,
   "metadata": {},
   "outputs": [
    {
     "name": "stdout",
     "output_type": "stream",
     "text": [
      "0.0\n"
     ]
    }
   ],
   "source": [
    "# What is the f1 score if we predict only 0's\n",
    "y_hats = []\n",
    "y_acts = []\n",
    "for i, (inputs, targets) in enumerate(test_loader):\n",
    "\n",
    "    y_act = list(targets.cpu().detach().numpy())\n",
    "    y_acts.append(y_act)\n",
    "\n",
    "\n",
    "y_acts = [item for sublist in y_acts for item in sublist]\n",
    "y_hats = len(y_acts) * [0]\n",
    "f1 = f1_score(y_acts, y_hats)\n",
    "print(f1)"
   ]
  },
  {
   "cell_type": "code",
   "execution_count": 378,
   "metadata": {},
   "outputs": [
    {
     "name": "stdout",
     "output_type": "stream",
     "text": [
      "0.06745362563237772\n"
     ]
    }
   ],
   "source": [
    "# What is the f1 score if we guess randomly\n",
    "y_hats = []\n",
    "y_acts = []\n",
    "for i, (inputs, targets) in enumerate(test_loader):\n",
    "\n",
    "    y_act = list(targets.cpu().detach().numpy())\n",
    "    y_acts.append(y_act)\n",
    "\n",
    "y_acts = [item for sublist in y_acts for item in sublist]\n",
    "y_hats = [0]*5000 + [1]*5000\n",
    "random.shuffle(y_hats)\n",
    "\n",
    "f1 = f1_score(y_acts, y_hats)\n",
    "print(f1)"
   ]
  },
  {
   "cell_type": "code",
   "execution_count": null,
   "metadata": {},
   "outputs": [],
   "source": []
  },
  {
   "cell_type": "code",
   "execution_count": null,
   "metadata": {},
   "outputs": [],
   "source": []
  }
 ],
 "metadata": {
  "kernelspec": {
   "display_name": "Python 3",
   "language": "python",
   "name": "python3"
  },
  "language_info": {
   "codemirror_mode": {
    "name": "ipython",
    "version": 3
   },
   "file_extension": ".py",
   "mimetype": "text/x-python",
   "name": "python",
   "nbconvert_exporter": "python",
   "pygments_lexer": "ipython3",
   "version": "3.8.3"
  }
 },
 "nbformat": 4,
 "nbformat_minor": 4
}
