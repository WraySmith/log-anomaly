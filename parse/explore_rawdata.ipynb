{
 "cells": [
  {
   "cell_type": "markdown",
   "id": "handy-judgment",
   "metadata": {},
   "source": [
    "Explore raw HDFS data available from: https://github.com/logpai/loghub/tree/master/HDFS\n",
    "\n",
    "Downloaded file HDFS_1.tar.gz from: https://zenodo.org/record/3227177#.YHH_tOhKhPY"
   ]
  },
  {
   "cell_type": "code",
   "execution_count": 3,
   "id": "therapeutic-hydrogen",
   "metadata": {},
   "outputs": [],
   "source": [
    "import pandas as pd\n",
    "import numpy as np"
   ]
  },
  {
   "cell_type": "code",
   "execution_count": 4,
   "id": "central-hierarchy",
   "metadata": {},
   "outputs": [],
   "source": [
    "data = []\n",
    "with open('project_raw/HDFS.log', \"r\") as file:\n",
    "    n=0\n",
    "    for line in file:\n",
    "        data.append(line)\n",
    "        if n <999:\n",
    "            n += 1\n",
    "        else: break "
   ]
  },
  {
   "cell_type": "code",
   "execution_count": 5,
   "id": "equivalent-reservation",
   "metadata": {},
   "outputs": [],
   "source": [
    "df = pd.DataFrame(data)"
   ]
  },
  {
   "cell_type": "code",
   "execution_count": 6,
   "id": "ranging-maintenance",
   "metadata": {},
   "outputs": [
    {
     "data": {
      "text/html": [
       "<div>\n",
       "<style scoped>\n",
       "    .dataframe tbody tr th:only-of-type {\n",
       "        vertical-align: middle;\n",
       "    }\n",
       "\n",
       "    .dataframe tbody tr th {\n",
       "        vertical-align: top;\n",
       "    }\n",
       "\n",
       "    .dataframe thead th {\n",
       "        text-align: right;\n",
       "    }\n",
       "</style>\n",
       "<table border=\"1\" class=\"dataframe\">\n",
       "  <thead>\n",
       "    <tr style=\"text-align: right;\">\n",
       "      <th></th>\n",
       "      <th>0</th>\n",
       "    </tr>\n",
       "  </thead>\n",
       "  <tbody>\n",
       "    <tr>\n",
       "      <th>0</th>\n",
       "      <td>081109 203518 143 INFO dfs.DataNode$DataXceive...</td>\n",
       "    </tr>\n",
       "    <tr>\n",
       "      <th>1</th>\n",
       "      <td>081109 203518 35 INFO dfs.FSNamesystem: BLOCK*...</td>\n",
       "    </tr>\n",
       "    <tr>\n",
       "      <th>2</th>\n",
       "      <td>081109 203519 143 INFO dfs.DataNode$DataXceive...</td>\n",
       "    </tr>\n",
       "    <tr>\n",
       "      <th>3</th>\n",
       "      <td>081109 203519 145 INFO dfs.DataNode$DataXceive...</td>\n",
       "    </tr>\n",
       "    <tr>\n",
       "      <th>4</th>\n",
       "      <td>081109 203519 145 INFO dfs.DataNode$PacketResp...</td>\n",
       "    </tr>\n",
       "  </tbody>\n",
       "</table>\n",
       "</div>"
      ],
      "text/plain": [
       "                                                   0\n",
       "0  081109 203518 143 INFO dfs.DataNode$DataXceive...\n",
       "1  081109 203518 35 INFO dfs.FSNamesystem: BLOCK*...\n",
       "2  081109 203519 143 INFO dfs.DataNode$DataXceive...\n",
       "3  081109 203519 145 INFO dfs.DataNode$DataXceive...\n",
       "4  081109 203519 145 INFO dfs.DataNode$PacketResp..."
      ]
     },
     "execution_count": 6,
     "metadata": {},
     "output_type": "execute_result"
    }
   ],
   "source": [
    "df.head()"
   ]
  },
  {
   "cell_type": "code",
   "execution_count": 7,
   "id": "advanced-tradition",
   "metadata": {},
   "outputs": [
    {
     "data": {
      "text/plain": [
       "array([['081109 203527 154 INFO dfs.DataNode$DataXceiver: 10.251.197.226:50010 Served block blk_-3544583377289625738 to /10.251.203.4\\n'],\n",
       "       ['081109 203527 154 INFO dfs.DataNode$DataXceiver: 10.251.215.16:50010 Served block blk_-1608999687919862906 to /10.250.19.227\\n'],\n",
       "       ['081109 203527 155 INFO dfs.DataNode$DataXceiver: 10.250.11.100:50010 Served block blk_-3544583377289625738 to /10.250.19.227\\n'],\n",
       "       ['081109 203527 155 INFO dfs.DataNode$DataXceiver: 10.251.197.226:50010 Served block blk_-3544583377289625738 to /10.251.215.16\\n'],\n",
       "       ['081109 203527 156 INFO dfs.DataNode$DataXceiver: 10.250.11.100:50010 Served block blk_-3544583377289625738 to /10.251.65.203\\n'],\n",
       "       ['081109 203527 156 INFO dfs.DataNode$DataXceiver: 10.251.197.226:50010 Served block blk_-3544583377289625738 to /10.250.17.177\\n'],\n",
       "       ['081109 203527 157 INFO dfs.DataNode$DataXceiver: 10.250.11.100:50010 Served block blk_-3544583377289625738 to /10.251.66.63\\n'],\n",
       "       ['081109 203527 157 INFO dfs.DataNode$DataXceiver: 10.251.197.226:50010 Served block blk_-3544583377289625738 to /10.251.201.204\\n'],\n",
       "       ['081109 203527 158 INFO dfs.DataNode$DataXceiver: 10.250.11.100:50010 Served block blk_-3544583377289625738 to /10.251.126.5\\n'],\n",
       "       ['081109 203527 158 INFO dfs.DataNode$DataXceiver: 10.251.197.226:50010 Served block blk_-3544583377289625738 to /10.251.126.83\\n'],\n",
       "       ['081109 203527 159 INFO dfs.DataNode$DataXceiver: 10.251.197.226:50010 Served block blk_-3544583377289625738 to /10.251.126.255\\n'],\n",
       "       ['081109 203527 160 INFO dfs.DataNode$DataXceiver: 10.251.197.226:50010 Served block blk_-3544583377289625738 to /10.251.125.237\\n'],\n",
       "       ['081109 203527 161 INFO dfs.DataNode$DataXceiver: 10.251.197.226:50010 Served block blk_-3544583377289625738 to /10.251.203.246\\n'],\n",
       "       ['081109 203527 162 INFO dfs.DataNode$DataXceiver: 10.251.197.226:50010 Served block blk_-3544583377289625738 to /10.251.111.209\\n'],\n",
       "       ['081109 203527 163 INFO dfs.DataNode$DataXceiver: 10.251.197.226:50010 Served block blk_-3544583377289625738 to /10.251.203.166\\n'],\n",
       "       ['081109 203527 164 INFO dfs.DataNode$DataXceiver: 10.251.197.226:50010 Served block blk_-3544583377289625738 to /10.251.31.160\\n'],\n",
       "       ['081109 203527 19 INFO dfs.DataNode: 10.251.107.19:50010 Starting thread to transfer block blk_-1608999687919862906 to 10.251.31.5:50010, 10.251.71.240:50010\\n'],\n",
       "       ['081109 203527 19 INFO dfs.FSNamesystem: BLOCK* ask 10.251.107.19:50010 to replicate blk_-1608999687919862906 to datanode(s) 10.251.31.5:50010 10.251.71.240:50010\\n'],\n",
       "       ['081109 203528 145 INFO dfs.DataNode$DataXceiver: Received block blk_-1608999687919862906 src: /10.251.31.5:53020 dest: /10.251.31.5:50010 of size 91178\\n'],\n",
       "       ['081109 203528 148 INFO dfs.DataNode$DataXceiver: 10.251.74.79:50010 Served block blk_-1608999687919862906 to /10.251.127.243\\n']],\n",
       "      dtype=object)"
      ]
     },
     "execution_count": 7,
     "metadata": {},
     "output_type": "execute_result"
    }
   ],
   "source": [
    "df.iloc[100:120].values"
   ]
  },
  {
   "cell_type": "code",
   "execution_count": null,
   "id": "competitive-integer",
   "metadata": {},
   "outputs": [],
   "source": []
  }
 ],
 "metadata": {
  "kernelspec": {
   "display_name": "Python 3",
   "language": "python",
   "name": "python3"
  },
  "language_info": {
   "codemirror_mode": {
    "name": "ipython",
    "version": 3
   },
   "file_extension": ".py",
   "mimetype": "text/x-python",
   "name": "python",
   "nbconvert_exporter": "python",
   "pygments_lexer": "ipython3",
   "version": "3.8.5"
  }
 },
 "nbformat": 4,
 "nbformat_minor": 5
}
